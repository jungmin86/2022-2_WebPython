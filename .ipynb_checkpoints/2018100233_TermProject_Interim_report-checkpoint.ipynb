{
 "cells": [
  {
   "cell_type": "markdown",
   "id": "12ef3863",
   "metadata": {},
   "source": [
    "<h1> Term Project 제안서 </h1>"
   ]
  },
  {
   "cell_type": "markdown",
   "id": "a914dc28",
   "metadata": {},
   "source": [
    "<h2> 주제: 코로나19 전후 실내 헬스장 현황 분석 </h2>"
   ]
  },
  {
   "cell_type": "markdown",
   "id": "41ca2686",
   "metadata": {},
   "source": [
    "- - -"
   ]
  },
  {
   "cell_type": "markdown",
   "id": "6a8331b6",
   "metadata": {},
   "source": [
    "> <h3> (1) 주제 선정 이유: 왜 이 주제(분야)를 선정하게 된 이유를 나열함 </h3>"
   ]
  },
  {
   "cell_type": "markdown",
   "id": "d136c37d",
   "metadata": {},
   "source": [
    "* ``코로나19``로 인한 영업시간 제한 및 사적모임 인원 제한 때문에 실내 체육시설업 자영업자들이 힘든 시기를 보냈다. <br>\n",
    "* 하지만 오히려 점점 실내 체육시설의 인기는 늘어가고 있다고 생각한다.\n",
    "* 사람들은 거리두기로 인한 스트레스를 풀 방법으로 ``혼자 할 수 있는 운동``을 찾았다. <br>\n",
    "* 코로나가 장기화되면서, 헬스장은 오히려 활기를 띠기 시작했다. <br>\n",
    "* 개인적으로 느끼기에, 사람들이 코로나19 이전에는 축구, 농구 등 ``단체 종목``의 운동을 비교적 선호했던 것 같다. <br>\n",
    "* 그런데 이제 주변을 둘러보면, 단체 운동 못지 않게 헬스를 하는 사람들이 많아졌다. <br>\n",
    "* 헬스장에 직접 가보면, 과거와 달리 ``여성 회원``들도 상당수 많이 늘어났다. <br>\n",
    "* 이제는 헬스가 대세라는 생각도 자주 했다. <br>\n",
    "* 위의 내용들은 2020년부터 계속해서 생각해왔던 것들이다. 하지만 어디까지나 ``생각 혹은 추측``일 뿐, 데이터에 의해 검증된 내용이 아니다.\n",
    "* 그래서 오랫동안 머릿속으로 생각만 해왔던 주제를 데이터로 검증해보고 싶어서 선정하였다."
   ]
  },
  {
   "cell_type": "markdown",
   "id": "a7f42b38",
   "metadata": {},
   "source": [
    "---"
   ]
  },
  {
   "cell_type": "markdown",
   "id": "b3093885",
   "metadata": {},
   "source": [
    "> <h3> (2) 가설 정의: 본인이 Term 프로젝트를 통해서 증명하고자 하는 명제 혹은 밝히고자 하는 논리가 무엇인지 설명함(본인이 얻고자 하는 것) </h3>"
   ]
  },
  {
   "cell_type": "markdown",
   "id": "306b2088",
   "metadata": {},
   "source": [
    "* ``개인적인 운동을 추구하는 사람들은 점점 늘어날 것이고, 헬스 업계는 앞으로 더욱 성장할 것이다.``"
   ]
  },
  {
   "cell_type": "markdown",
   "id": "0a3d025b",
   "metadata": {},
   "source": [
    "* 수요와 공급의 원리에 따라, 헬스장을 찾는 사람들이 많아질수록 헬스장도 "
   ]
  },
  {
   "cell_type": "markdown",
   "id": "2fe52577",
   "metadata": {},
   "source": [
    "* 얻고자 하는 것: 누구나 말로는 할 수 있는 주제를 수치로 증명함으로써 파이썬을 활용한 데이터 분석 능력 향상"
   ]
  },
  {
   "cell_type": "markdown",
   "id": "8b217802",
   "metadata": {},
   "source": [
    "> <h3> (3) 인터넷을 통한 데이터 획득: 위의 명제/논리을 펼치기 위하여, 어디서 Python을 통해 어떻게 데이터를 획득했는지 구체적으로 나열함 </h3>"
   ]
  },
  {
   "cell_type": "markdown",
   "id": "5275d045",
   "metadata": {},
   "source": [
    "* 계획: ``서울 열린데이터광장``(https://data.seoul.go.kr/dataList/OA-16142/A/1/datasetView.do) 및 ``경기데이터드림``(https://data.gg.go.kr/portal/data/service/selectServicePage.do?infId=W79O75LJ92OZ3P30IFST755934&infSeq=1)에서 체력단련장 인허가 현황 csv파일을 활용할 계획이다.\n"
   ]
  },
  {
   "cell_type": "code",
   "execution_count": null,
   "id": "aaa31f52",
   "metadata": {},
   "outputs": [],
   "source": []
  }
 ],
 "metadata": {
  "kernelspec": {
   "display_name": "Python 3 (ipykernel)",
   "language": "python",
   "name": "python3"
  },
  "language_info": {
   "codemirror_mode": {
    "name": "ipython",
    "version": 3
   },
   "file_extension": ".py",
   "mimetype": "text/x-python",
   "name": "python",
   "nbconvert_exporter": "python",
   "pygments_lexer": "ipython3",
   "version": "3.9.12"
  }
 },
 "nbformat": 4,
 "nbformat_minor": 5
}
