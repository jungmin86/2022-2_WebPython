{
 "cells": [
  {
   "cell_type": "code",
   "execution_count": 1,
   "id": "0219ec7d",
   "metadata": {},
   "outputs": [],
   "source": [
    "class Csv_to_graph:\n",
    "    \n",
    "    import pandas as pd\n",
    "    import numpy as np\n",
    "    import matplotlib.pyplot as plt\n",
    "    from matplotlib import rc\n",
    "    \n",
    "    def __init__(self, csv):\n",
    "        self.df = pd.read_csv(csv, chunksize = 1000, encoding = 'cp949')\n",
    "        self.df = list(self.df)\n",
    "        self.df_Seoul = pd.concat(self.df)\n",
    "    \n",
    "    def new_csv(self):\n",
    "        self.Seoul = self.df_Seoul[['사업장명', '인허가일자', '인허가취소일자','휴업시작일자', '휴업종료일자', '폐업일자', '상세영업상태코드','상세영업상태명', '도로명주소', '지번주소']]\n",
    "        self.Seoul.to_csv(\"서울헬스장현황_가공.csv\", mode = 'w', encoding = 'cp949')\n",
    "        self.df1 = pd.read_csv('서울헬스장현황_가공.csv', encoding='cp949')\n",
    "        \n",
    "    def add_cols(self):\n",
    "        self.df1['폐업,전출,휴업,취소,말소여부'] = np.where(df1['인허가취소일자'].notnull() | df1['휴업시작일자'].notnull() | df1['폐업일자'].notnull(), 1, 0)\n",
    "        self.df1.loc[:, '폐업,전출,휴업,취소,말소연도'] = df1.loc[:, ['인허가취소일자', '폐업일자', '휴업시작일자']].max(axis=1)\n",
    "    \n",
    "    def float_to_date(self):\n",
    "        self.df1['인허가일자'] = pd.to_datetime(self.df1['인허가일자'], format='%Y%m%d') \n",
    "        self.df1['인허가취소일자'] = pd.to_datetime(self.df1['인허가취소일자'], format='%Y%m%d') \n",
    "        self.df1['폐업일자'] = pd.to_datetime(self.df1['폐업일자'], format='%Y%m%d') \n",
    "        self.df1['휴업시작일자'] = pd.to_datetime(self.df1['휴업시작일자'], format='%Y%m%d') \n",
    "        self.df1['휴업종료일자'] = pd.to_datetime(self.df1['휴업종료일자'], format='%Y%m%d')\n",
    "        self.df1['폐업,전출,휴업,취소,말소연도'] = pd.to_datetime(self.df1['폐업,전출,휴업,취소,말소연도'], format='%Y%m%d')\n",
    "    \n",
    "    def to_graph(self):\n",
    "        plt.title('연도별 헬스장 추이')\n",
    "        self.df1.groupby(self.df1['인허가일자'].dt.year)['인허가일자'].count().plot(c = 'k', marker = 'o')\n",
    "        self.df1.groupby(self.df1['폐업,전출,휴업,취소,말소연도'].dt.year)['폐업,전출,휴업,취소,말소여부'].sum().plot(c = 'r', marker = 'o')\n",
    "        plt.xlabel(\"연도\")\n",
    "        plt.ylabel(\"업장 수\")\n",
    "        plt.grid(True)\n",
    "        plt.show()\n"
   ]
  },
  {
   "cell_type": "code",
   "execution_count": null,
   "id": "6926e3ff",
   "metadata": {},
   "outputs": [],
   "source": []
  }
 ],
 "metadata": {
  "kernelspec": {
   "display_name": "Python 3 (ipykernel)",
   "language": "python",
   "name": "python3"
  },
  "language_info": {
   "codemirror_mode": {
    "name": "ipython",
    "version": 3
   },
   "file_extension": ".py",
   "mimetype": "text/x-python",
   "name": "python",
   "nbconvert_exporter": "python",
   "pygments_lexer": "ipython3",
   "version": "3.9.12"
  }
 },
 "nbformat": 4,
 "nbformat_minor": 5
}
