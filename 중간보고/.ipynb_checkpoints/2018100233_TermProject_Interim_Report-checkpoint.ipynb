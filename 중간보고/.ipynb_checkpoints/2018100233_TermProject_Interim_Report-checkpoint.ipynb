{
 "cells": [
  {
   "cell_type": "markdown",
   "id": "12ef3863",
   "metadata": {},
   "source": [
    "<h1> Term Project 제안서 </h1>"
   ]
  },
  {
   "cell_type": "markdown",
   "id": "a914dc28",
   "metadata": {},
   "source": [
    "<h2> 주제: 코로나19 전후 서울특별시 실내 헬스장 흥행 현황 분석 </h2>"
   ]
  },
  {
   "cell_type": "markdown",
   "id": "41ca2686",
   "metadata": {},
   "source": [
    "- - -"
   ]
  },
  {
   "cell_type": "markdown",
   "id": "6a8331b6",
   "metadata": {},
   "source": [
    "> <h3> (1) 주제 선정 이유: 왜 이 주제(분야)를 선정하게 된 이유를 나열함 </h3>"
   ]
  },
  {
   "cell_type": "markdown",
   "id": "d136c37d",
   "metadata": {},
   "source": [
    "* ``코로나19``로 인한 영업시간 제한 및 사적모임 인원 제한 때문에 실내 체육시설업 자영업자들이 힘든 시기를 보냈다. <br>\n",
    "* 하지만 오히려 점점 실내 체육시설의 인기는 늘어가고 있다고 생각한다.\n",
    "* 사람들은 거리두기로 인한 스트레스를 풀 방법으로 ``혼자 할 수 있는 운동``을 찾았다. <br>\n",
    "* 코로나가 장기화되면서, 헬스장은 오히려 활기를 띠기 시작했다. <br>\n",
    "* 개인적으로 느끼기에, 사람들이 코로나19 이전에는 축구, 농구 등 ``단체 종목``의 운동을 비교적 선호했던 것 같다. <br>\n",
    "* 그런데 이제 주변을 둘러보면, 단체 운동 못지 않게 헬스를 하는 사람들이 많아졌다. <br>\n",
    "* 헬스장에 직접 가보면, 과거와 달리 ``여성 회원``들도 상당수 많이 늘어났다. <br>\n",
    "* 이제는 헬스가 대세라는 생각도 자주 했다. <br>\n",
    "* 위의 내용들은 2020년부터 계속해서 생각해왔던 것들이다. 하지만 어디까지나 ``생각 혹은 추측``일 뿐, 데이터에 의해 검증된 내용이 아니다.\n",
    "* 그래서 오랫동안 머릿속으로 생각만 해왔던 주제를 데이터로 검증해보고 싶어서 선정하였다."
   ]
  },
  {
   "cell_type": "markdown",
   "id": "a7f42b38",
   "metadata": {},
   "source": [
    "---"
   ]
  },
  {
   "cell_type": "markdown",
   "id": "b3093885",
   "metadata": {},
   "source": [
    "> <h3> (2) 가설 정의: 본인이 Term 프로젝트를 통해서 증명하고자 하는 명제 혹은 밝히고자 하는 논리가 무엇인지 설명함(본인이 얻고자 하는 것) </h3>"
   ]
  },
  {
   "cell_type": "markdown",
   "id": "306b2088",
   "metadata": {},
   "source": [
    "* ``개인적인 운동을 추구하는 사람들은 점점 늘어날 것이고, 헬스 업계는 앞으로 더욱 성장할 것이다.``"
   ]
  },
  {
   "cell_type": "markdown",
   "id": "3f3403c4",
   "metadata": {},
   "source": [
    "* 수요와 공급의 원리에 따라서 ```헬스장을 찾는 사람들이 많아질수록``` 헬스장 창업도 늘어날 것이다."
   ]
  },
  {
   "cell_type": "markdown",
   "id": "2fe52577",
   "metadata": {},
   "source": [
    "* 얻고자 하는 것: 누구나 말로는 할 수 있는 주제를 수치로 증명함으로써 파이썬을 활용한 데이터 분석 및 시각화 능력 향상"
   ]
  },
  {
   "cell_type": "markdown",
   "id": "8b217802",
   "metadata": {},
   "source": [
    "> <h3> (3) 인터넷을 통한 데이터 획득: 위의 명제/논리을 펼치기 위하여, 어디서 Python을 통해 어떻게 데이터를 획득했는지 구체적으로 나열함 </h3>"
   ]
  },
  {
   "cell_type": "markdown",
   "id": "5275d045",
   "metadata": {},
   "source": [
    "* 획득: ``서울 열린데이터광장``(https://data.seoul.go.kr/dataList/OA-16142/A/1/datasetView.do) 에서 '서울시 체력단련장업 인허가 정보.csv'를 다운로드한 뒤, pandas를 활용해서 csv를 pandas의 DataFrame으로 불러왔다"
   ]
  },
  {
   "cell_type": "markdown",
   "id": "77d5aed8",
   "metadata": {},
   "source": [
    "* pandas는 용량이 큰 파일을 읽는 데에 최적화 되어 있지 않다고 한다. 그래서 ```pd.read_csv('서울시 체력단련장업 인허가 정보.csv', chunksize = 1000, encoding='cp949')```에서 chunksize를 나누어 각각의 그룹을 리스트로 저장한 후, concat을 통해 병합해주었다."
   ]
  },
  {
   "cell_type": "markdown",
   "id": "d447375c",
   "metadata": {},
   "source": [
    "* 수정사항: 제안서에서는 ``경기데이터드림``(https://data.gg.go.kr/portal/data/service/selectServicePage.do?infId=W79O75LJ92OZ3P30IFST755934&infSeq=1) 에서 '체력단련장업체현황.csv파일'까지 활용해서 두 csv를 병합해서 수도권 헬스장 정보를 토대로 분석할 계획이었지만, 경기도의 정보는 최종 수정일자가 '2022-04-27'이기 때문에 분석에서 제외됐다. 매일 최신화되는 '서울시 체력단련장업 인허가 정보.csv'과 최신화 일자가 3개월 이상 차이나는 csv 파일을 병합하는 것은 분석대상의 일관성을 해치는 것이라고 생각했다."
   ]
  },
  {
   "cell_type": "markdown",
   "id": "61f5a49c",
   "metadata": {},
   "source": [
    "> <h3>(4) 분석을 위한 데이터의 가공: 데이터는 가공되지 않으면 의미가 없으므로, 어떻게 어떤 정보를 Pyhton으로 추출했는지 설명함 </h3>"
   ]
  },
  {
   "cell_type": "markdown",
   "id": "a2a8bf53",
   "metadata": {},
   "source": [
    "* 우선 연도별 휴업 및 폐업, 인허가 현황을 시각화하기 위해 필요한 컬럼들(사업장명, 인허가일자, 인허가취소일자, 휴업시작일자, 휴업종료일자, 폐업일자, 상세영업상태코드, 상세영업상태명, 도로명주소, 지번주소)을 추출해서 새로운 'Seoul'이라는 DataFrame을 만들고, ```to_csv()```를 통해 가공된 csv파일을 생성했다. (필요한 데이터만 가진 csv 생성) <br>\n",
    "ex. ```Seoul = df[['사업장명', '인허가일자', '인허가취소일자','휴업시작일자', '휴업종료일자', '폐업일자', '상세영업상태코드','상세영업상태명', '도로명주소', '지번주소']]\n",
    "Seoul.to_csv(\"서울헬스장현황_가공.csv\", mode = 'w', encoding = 'cp949')```"
   ]
  },
  {
   "cell_type": "markdown",
   "id": "662f5ef8",
   "metadata": {},
   "source": [
    "* 가공된 csv를 다시 DataFrame으로 불러온 뒤에, 폐업, 전출, 휴업, 취소, 말소 여부를 1과 0으로 나타내는 '폐업,전출,휴업,취소,말소여부' 컬럼을 생성했다. \n",
    "* 해당하는 컬럼의 밸류는 각 행마다 '인허가취소일자', '폐업일자', '휴업시작일자' 컬럼 중 하나라도 결측치가 아니면 1을, 모두 결측치라면 0을 입력한다."
   ]
  },
  {
   "cell_type": "markdown",
   "id": "6e5ac885",
   "metadata": {},
   "source": [
    "* 이후에 '인허가취소일자', '폐업일자', '휴업시작일자' 컬럼 중 결측치가 아닌 값이 있으면 추출하는 '폐업,전출,휴업,취소,말소연도' 컬럼을 생성했다. <br>\n",
    "```df1.loc[:, '폐업,전출,휴업,취소,말소연도'] = df1.loc[:, ['인허가취소일자', '폐업일자', '휴업시작일자']].max(axis=1)```"
   ]
  },
  {
   "cell_type": "markdown",
   "id": "33f42a03",
   "metadata": {},
   "source": [
    "* <strong> 최종적으로 DataFrame은 '사업장명', '인허가일자', '인허가취소일자', '휴업시작일자', '휴업종료일자', '폐업일자', '상세영업상태코드', '상세영업상태명', '도로명주소', '지번주소', '폐업,전출,휴업,취소,말소여부', '폐업,전출,휴업,취소,말소연도'의 컬럼을 가지게 된다. <br>\n",
    "이를 바탕으로 matplotlib을 활용해서 연도별 추이를 시각화할 계획이다.</strong>"
   ]
  },
  {
   "cell_type": "markdown",
   "id": "d7167192",
   "metadata": {},
   "source": [
    "> <h3> (5) 분석 결과 도출: 수학적 방법 혹은 논리적 방법을 Python으로 구현함으로서, 프로그램을 통해서 결과를 도출함 </h3>"
   ]
  },
  {
   "cell_type": "code",
   "execution_count": null,
   "id": "1fc00c28",
   "metadata": {},
   "outputs": [],
   "source": []
  },
  {
   "cell_type": "markdown",
   "id": "d46a83a0",
   "metadata": {},
   "source": []
  },
  {
   "cell_type": "markdown",
   "id": "6ac311b5",
   "metadata": {},
   "source": []
  },
  {
   "cell_type": "markdown",
   "id": "d363c669",
   "metadata": {},
   "source": []
  }
 ],
 "metadata": {
  "kernelspec": {
   "display_name": "Python 3 (ipykernel)",
   "language": "python",
   "name": "python3"
  },
  "language_info": {
   "codemirror_mode": {
    "name": "ipython",
    "version": 3
   },
   "file_extension": ".py",
   "mimetype": "text/x-python",
   "name": "python",
   "nbconvert_exporter": "python",
   "pygments_lexer": "ipython3",
   "version": "3.9.12"
  }
 },
 "nbformat": 4,
 "nbformat_minor": 5
}
