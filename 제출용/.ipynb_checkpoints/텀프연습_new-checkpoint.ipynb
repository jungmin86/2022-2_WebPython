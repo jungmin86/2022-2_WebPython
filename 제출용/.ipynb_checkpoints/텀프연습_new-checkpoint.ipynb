{
 "cells": [
  {
   "cell_type": "code",
   "execution_count": 1,
   "id": "44349744",
   "metadata": {},
   "outputs": [],
   "source": [
    "import pandas as pd\n",
    "import numpy as np"
   ]
  },
  {
   "cell_type": "code",
   "execution_count": 2,
   "id": "3802e802",
   "metadata": {},
   "outputs": [],
   "source": [
    "import selenium\n",
    "from selenium import webdriver\n",
    "from selenium.webdriver.common.by import By\n",
    "import os"
   ]
  },
  {
   "cell_type": "code",
   "execution_count": null,
   "id": "45010f7e",
   "metadata": {},
   "outputs": [],
   "source": [
    "profile = {'savefile.default_directory': os.getcwd(), 'download.default_directory': os.getcwd()}\n",
    "\n",
    "chrome_options = webdriver.ChromeOptions()\n",
    "\n",
    "chrome_options.add_experimental_option('prefs', profile)"
   ]
  },
  {
   "cell_type": "code",
   "execution_count": null,
   "id": "ca3bdd6a",
   "metadata": {},
   "outputs": [],
   "source": [
    "driver = webdriver.Chrome(options=chrome_options) # 크롬드라이버 설치한 경로 작성 필요 \n",
    "driver.get(\"https://www.data.go.kr/data/15045048/fileData.do#\")"
   ]
  },
  {
   "cell_type": "code",
   "execution_count": null,
   "id": "1f9fa36d",
   "metadata": {},
   "outputs": [],
   "source": [
    "download_btn = driver.find_element(By.XPATH, '//*[@id=\"data-url-btn\"]')\n",
    "download_url = download_btn.get_attribute('href')\n",
    "# driver.to_switch( driver.window_handles[1] )"
   ]
  },
  {
   "cell_type": "code",
   "execution_count": null,
   "id": "64a48e11",
   "metadata": {},
   "outputs": [],
   "source": [
    "driver.get(download_url)\n",
    "# download_btn.click()"
   ]
  },
  {
   "cell_type": "code",
   "execution_count": null,
   "id": "969162c0",
   "metadata": {},
   "outputs": [],
   "source": [
    "import zipfile\n",
    "\n",
    "source_file = '10_42_01_P_CSV.zip'\n",
    "\n",
    "with zipfile.ZipFile(source_file, 'r') as zf:\n",
    "    zipinfo = zf.infolist()\n",
    "    for info in zipinfo:\n",
    "        info.filename = info.filename.encode('cp437').decode('euc-kr')\n",
    "        zf.extract(info)"
   ]
  },
  {
   "cell_type": "code",
   "execution_count": 3,
   "id": "9eb29a61",
   "metadata": {},
   "outputs": [],
   "source": [
    "group = pd.read_csv('./fulldata_10_42_01_P_체력단련장업.csv', chunksize = 1000, encoding='cp949')\n",
    "group = list(group)\n",
    "df = pd.concat(group)"
   ]
  },
  {
   "cell_type": "code",
   "execution_count": 4,
   "id": "85d26f1e",
   "metadata": {},
   "outputs": [],
   "source": [
    "df_necessary = df.loc[:,['사업장명', '인허가일자', '인허가취소일자','휴업시작일자', '휴업종료일자', '폐업일자', '영업상태명', '소재지전체주소', '도로명전체주소']]"
   ]
  },
  {
   "cell_type": "code",
   "execution_count": 5,
   "id": "9f6302b1",
   "metadata": {},
   "outputs": [],
   "source": [
    "df_necessary.loc[:,'주소'] = np.where(df_necessary.loc[:,'도로명전체주소'].notnull() , df_necessary['도로명전체주소'], df_necessary['소재지전체주소'])"
   ]
  },
  {
   "cell_type": "code",
   "execution_count": null,
   "id": "80172ae0",
   "metadata": {},
   "outputs": [],
   "source": [
    "df_necessary.info()"
   ]
  },
  {
   "cell_type": "code",
   "execution_count": 6,
   "id": "7c51562f",
   "metadata": {},
   "outputs": [],
   "source": [
    "df_necessary.loc[:,'폐업,전출,휴업,취소,말소여부'] = np.where(df_necessary.loc[:,'인허가취소일자'].notnull() | df_necessary.loc[:,'휴업시작일자'].notnull() | df_necessary.loc[:,'폐업일자'].notnull(), 1, 0)"
   ]
  },
  {
   "cell_type": "code",
   "execution_count": null,
   "id": "9f3e0f8c",
   "metadata": {},
   "outputs": [],
   "source": [
    "df_necessary.info()"
   ]
  },
  {
   "cell_type": "code",
   "execution_count": 7,
   "id": "0dd2c696",
   "metadata": {},
   "outputs": [],
   "source": [
    "df_necessary.loc[:, '폐업,전출,휴업,취소,말소일자'] = df_necessary.loc[:, ['인허가취소일자', '폐업일자', '휴업시작일자']].max(axis=1)"
   ]
  },
  {
   "cell_type": "code",
   "execution_count": null,
   "id": "71291a35",
   "metadata": {},
   "outputs": [],
   "source": [
    "df_necessary.loc[:,'인허가일자'] = pd.to_datetime(df_necessary.loc[:,'인허가일자'], format='%Y%m%d')\n",
    "df_necessary.loc[:,'인허가취소일자'] = pd.to_datetime(df_necessary.loc[:,'인허가취소일자'],  format='%Y%m%d')\n",
    "df_necessary.loc[:,'폐업일자'] = pd.to_datetime(df_necessary.loc[:,'폐업일자'],  format='%Y%m%d')\n",
    "df_necessary.loc[:,'휴업시작일자'] = pd.to_datetime(df_necessary.loc[:,'휴업시작일자'],  format='%Y%m%d')\n",
    "df_necessary.loc[:,'휴업종료일자'] = pd.to_datetime(df_necessary.loc[:,'휴업종료일자'],  format='%Y%m%d')\n",
    "df_necessary.loc[:,'폐업,전출,휴업,취소,말소일자'] = pd.to_datetime(df_necessary.loc[:,'폐업,전출,휴업,취소,말소일자'],  format='%Y%m%d')"
   ]
  },
  {
   "cell_type": "code",
   "execution_count": 10,
   "id": "069301ea",
   "metadata": {},
   "outputs": [],
   "source": [
    "cols = ['인허가일자', '인허가취소일자','폐업일자','휴업시작일자','휴업종료일자', '폐업,전출,휴업,취소,말소일자',]\n",
    "for col in cols:\n",
    "            df_necessary.loc[:,col] = pd.to_datetime(df_necessary.loc[:,col], format= '%Y%m%d')"
   ]
  },
  {
   "cell_type": "code",
   "execution_count": 11,
   "id": "9aadee71",
   "metadata": {},
   "outputs": [],
   "source": [
    "cols = ['폐업,전출,휴업,취소,말소일자', '인허가일자']\n",
    "for col in cols:\n",
    "    df_necessary.loc[:,col[0:-2]+'연월'] = df_necessary.loc[:, col].dt.to_period('M')"
   ]
  },
  {
   "cell_type": "code",
   "execution_count": 12,
   "id": "4518726e",
   "metadata": {},
   "outputs": [
    {
     "data": {
      "text/html": [
       "<div>\n",
       "<style scoped>\n",
       "    .dataframe tbody tr th:only-of-type {\n",
       "        vertical-align: middle;\n",
       "    }\n",
       "\n",
       "    .dataframe tbody tr th {\n",
       "        vertical-align: top;\n",
       "    }\n",
       "\n",
       "    .dataframe thead th {\n",
       "        text-align: right;\n",
       "    }\n",
       "</style>\n",
       "<table border=\"1\" class=\"dataframe\">\n",
       "  <thead>\n",
       "    <tr style=\"text-align: right;\">\n",
       "      <th></th>\n",
       "      <th>사업장명</th>\n",
       "      <th>인허가일자</th>\n",
       "      <th>인허가취소일자</th>\n",
       "      <th>휴업시작일자</th>\n",
       "      <th>휴업종료일자</th>\n",
       "      <th>폐업일자</th>\n",
       "      <th>영업상태명</th>\n",
       "      <th>소재지전체주소</th>\n",
       "      <th>도로명전체주소</th>\n",
       "      <th>주소</th>\n",
       "      <th>폐업,전출,휴업,취소,말소여부</th>\n",
       "      <th>폐업,전출,휴업,취소,말소일자</th>\n",
       "      <th>폐업,전출,휴업,취소,말소연월</th>\n",
       "      <th>인허가연월</th>\n",
       "    </tr>\n",
       "  </thead>\n",
       "  <tbody>\n",
       "    <tr>\n",
       "      <th>0</th>\n",
       "      <td>우먼파워에어로빅</td>\n",
       "      <td>2008-09-23</td>\n",
       "      <td>NaT</td>\n",
       "      <td>NaT</td>\n",
       "      <td>NaT</td>\n",
       "      <td>NaT</td>\n",
       "      <td>취소/말소/만료/정지/중지</td>\n",
       "      <td>전라북도 전주시 덕진구 우아동3가 732-5번지</td>\n",
       "      <td>전라북도 전주시 덕진구 백제대로 781  (우아동3가)</td>\n",
       "      <td>전라북도 전주시 덕진구 백제대로 781  (우아동3가)</td>\n",
       "      <td>0</td>\n",
       "      <td>NaT</td>\n",
       "      <td>NaT</td>\n",
       "      <td>2008-09</td>\n",
       "    </tr>\n",
       "    <tr>\n",
       "      <th>1</th>\n",
       "      <td>홍농 헬스클럽</td>\n",
       "      <td>2003-02-12</td>\n",
       "      <td>2020-06-22</td>\n",
       "      <td>NaT</td>\n",
       "      <td>NaT</td>\n",
       "      <td>NaT</td>\n",
       "      <td>취소/말소/만료/정지/중지</td>\n",
       "      <td>전라남도 영광군 홍농읍 상하리 539-1번지</td>\n",
       "      <td>전라남도 영광군 홍농읍 상하길 3</td>\n",
       "      <td>전라남도 영광군 홍농읍 상하길 3</td>\n",
       "      <td>1</td>\n",
       "      <td>2020-06-22</td>\n",
       "      <td>2020-06</td>\n",
       "      <td>2003-02</td>\n",
       "    </tr>\n",
       "    <tr>\n",
       "      <th>2</th>\n",
       "      <td>리더스 스포츠클럽</td>\n",
       "      <td>2006-06-12</td>\n",
       "      <td>2020-06-08</td>\n",
       "      <td>NaT</td>\n",
       "      <td>NaT</td>\n",
       "      <td>NaT</td>\n",
       "      <td>취소/말소/만료/정지/중지</td>\n",
       "      <td>전라남도 영광군 영광읍 단주리 630-9번지</td>\n",
       "      <td>전라남도 영광군 영광읍 옥당로 169</td>\n",
       "      <td>전라남도 영광군 영광읍 옥당로 169</td>\n",
       "      <td>1</td>\n",
       "      <td>2020-06-08</td>\n",
       "      <td>2020-06</td>\n",
       "      <td>2006-06</td>\n",
       "    </tr>\n",
       "    <tr>\n",
       "      <th>3</th>\n",
       "      <td>태정헬스</td>\n",
       "      <td>2007-11-07</td>\n",
       "      <td>2020-06-08</td>\n",
       "      <td>NaT</td>\n",
       "      <td>NaT</td>\n",
       "      <td>NaT</td>\n",
       "      <td>취소/말소/만료/정지/중지</td>\n",
       "      <td>전라남도 영광군 영광읍 백학리 47번지 6층</td>\n",
       "      <td>전라남도 영광군 영광읍 현암길 45-7</td>\n",
       "      <td>전라남도 영광군 영광읍 현암길 45-7</td>\n",
       "      <td>1</td>\n",
       "      <td>2020-06-08</td>\n",
       "      <td>2020-06</td>\n",
       "      <td>2007-11</td>\n",
       "    </tr>\n",
       "    <tr>\n",
       "      <th>4</th>\n",
       "      <td>탑 휘트니스</td>\n",
       "      <td>2004-03-31</td>\n",
       "      <td>2013-12-21</td>\n",
       "      <td>NaT</td>\n",
       "      <td>NaT</td>\n",
       "      <td>NaT</td>\n",
       "      <td>취소/말소/만료/정지/중지</td>\n",
       "      <td>경기도 의왕시 삼동 277-6번지</td>\n",
       "      <td>경기도 의왕시 부곡복지관길 6 (삼동)</td>\n",
       "      <td>경기도 의왕시 부곡복지관길 6 (삼동)</td>\n",
       "      <td>1</td>\n",
       "      <td>2013-12-21</td>\n",
       "      <td>2013-12</td>\n",
       "      <td>2004-03</td>\n",
       "    </tr>\n",
       "    <tr>\n",
       "      <th>...</th>\n",
       "      <td>...</td>\n",
       "      <td>...</td>\n",
       "      <td>...</td>\n",
       "      <td>...</td>\n",
       "      <td>...</td>\n",
       "      <td>...</td>\n",
       "      <td>...</td>\n",
       "      <td>...</td>\n",
       "      <td>...</td>\n",
       "      <td>...</td>\n",
       "      <td>...</td>\n",
       "      <td>...</td>\n",
       "      <td>...</td>\n",
       "      <td>...</td>\n",
       "    </tr>\n",
       "    <tr>\n",
       "      <th>20745</th>\n",
       "      <td>스파르타짐</td>\n",
       "      <td>2010-01-25</td>\n",
       "      <td>NaT</td>\n",
       "      <td>NaT</td>\n",
       "      <td>NaT</td>\n",
       "      <td>NaT</td>\n",
       "      <td>휴업</td>\n",
       "      <td>경기도 하남시 덕풍동 319-2 남도빌딩</td>\n",
       "      <td>경기도 하남시 하남대로 837, 남도빌딩 4층 (덕풍동)</td>\n",
       "      <td>경기도 하남시 하남대로 837, 남도빌딩 4층 (덕풍동)</td>\n",
       "      <td>0</td>\n",
       "      <td>NaT</td>\n",
       "      <td>NaT</td>\n",
       "      <td>2010-01</td>\n",
       "    </tr>\n",
       "    <tr>\n",
       "      <th>20746</th>\n",
       "      <td>(주)스포츠아트필피트니스</td>\n",
       "      <td>2008-11-04</td>\n",
       "      <td>NaT</td>\n",
       "      <td>2013-05-08</td>\n",
       "      <td>2013-09-01</td>\n",
       "      <td>NaT</td>\n",
       "      <td>휴업</td>\n",
       "      <td>서울특별시 마포구 상암동 1605번지 누리꿈스퀘어 지층 B1001~1005,1015...</td>\n",
       "      <td>서울특별시 마포구 월드컵북로 396, 지하1층 B1001~1005호 (상암동, 누리...</td>\n",
       "      <td>서울특별시 마포구 월드컵북로 396, 지하1층 B1001~1005호 (상암동, 누리...</td>\n",
       "      <td>1</td>\n",
       "      <td>2013-05-08</td>\n",
       "      <td>2013-05</td>\n",
       "      <td>2008-11</td>\n",
       "    </tr>\n",
       "    <tr>\n",
       "      <th>20747</th>\n",
       "      <td>디앤브이 피트니스</td>\n",
       "      <td>2017-05-04</td>\n",
       "      <td>NaT</td>\n",
       "      <td>2019-10-10</td>\n",
       "      <td>2020-10-09</td>\n",
       "      <td>NaT</td>\n",
       "      <td>휴업</td>\n",
       "      <td>서울특별시 강남구 역삼동 783-18번지 제이케이빌딩</td>\n",
       "      <td>서울특별시 강남구 언주로65길 13, 3층 (역삼동, 제이케이빌딩)</td>\n",
       "      <td>서울특별시 강남구 언주로65길 13, 3층 (역삼동, 제이케이빌딩)</td>\n",
       "      <td>1</td>\n",
       "      <td>2019-10-10</td>\n",
       "      <td>2019-10</td>\n",
       "      <td>2017-05</td>\n",
       "    </tr>\n",
       "    <tr>\n",
       "      <th>20748</th>\n",
       "      <td>대영청소년문화진흥원(주)</td>\n",
       "      <td>2009-02-24</td>\n",
       "      <td>NaT</td>\n",
       "      <td>NaT</td>\n",
       "      <td>NaT</td>\n",
       "      <td>NaT</td>\n",
       "      <td>영업/정상</td>\n",
       "      <td>전라남도 화순군 북면 옥리 499-3번지</td>\n",
       "      <td>전라남도 화순군 북면 옥리길 27-20</td>\n",
       "      <td>전라남도 화순군 북면 옥리길 27-20</td>\n",
       "      <td>0</td>\n",
       "      <td>NaT</td>\n",
       "      <td>NaT</td>\n",
       "      <td>2009-02</td>\n",
       "    </tr>\n",
       "    <tr>\n",
       "      <th>20749</th>\n",
       "      <td>대성오아시스</td>\n",
       "      <td>2009-03-02</td>\n",
       "      <td>NaT</td>\n",
       "      <td>NaT</td>\n",
       "      <td>NaT</td>\n",
       "      <td>NaT</td>\n",
       "      <td>영업/정상</td>\n",
       "      <td>경상남도 거제시 고현동 202번지</td>\n",
       "      <td>경상남도 거제시 동문천로 45  (고현동)</td>\n",
       "      <td>경상남도 거제시 동문천로 45  (고현동)</td>\n",
       "      <td>0</td>\n",
       "      <td>NaT</td>\n",
       "      <td>NaT</td>\n",
       "      <td>2009-03</td>\n",
       "    </tr>\n",
       "  </tbody>\n",
       "</table>\n",
       "<p>20750 rows × 14 columns</p>\n",
       "</div>"
      ],
      "text/plain": [
       "                사업장명      인허가일자    인허가취소일자     휴업시작일자     휴업종료일자 폐업일자  \\\n",
       "0           우먼파워에어로빅 2008-09-23        NaT        NaT        NaT  NaT   \n",
       "1            홍농 헬스클럽 2003-02-12 2020-06-22        NaT        NaT  NaT   \n",
       "2          리더스 스포츠클럽 2006-06-12 2020-06-08        NaT        NaT  NaT   \n",
       "3               태정헬스 2007-11-07 2020-06-08        NaT        NaT  NaT   \n",
       "4             탑 휘트니스 2004-03-31 2013-12-21        NaT        NaT  NaT   \n",
       "...              ...        ...        ...        ...        ...  ...   \n",
       "20745          스파르타짐 2010-01-25        NaT        NaT        NaT  NaT   \n",
       "20746  (주)스포츠아트필피트니스 2008-11-04        NaT 2013-05-08 2013-09-01  NaT   \n",
       "20747      디앤브이 피트니스 2017-05-04        NaT 2019-10-10 2020-10-09  NaT   \n",
       "20748  대영청소년문화진흥원(주) 2009-02-24        NaT        NaT        NaT  NaT   \n",
       "20749         대성오아시스 2009-03-02        NaT        NaT        NaT  NaT   \n",
       "\n",
       "                영업상태명                                            소재지전체주소  \\\n",
       "0      취소/말소/만료/정지/중지                         전라북도 전주시 덕진구 우아동3가 732-5번지   \n",
       "1      취소/말소/만료/정지/중지                           전라남도 영광군 홍농읍 상하리 539-1번지   \n",
       "2      취소/말소/만료/정지/중지                           전라남도 영광군 영광읍 단주리 630-9번지   \n",
       "3      취소/말소/만료/정지/중지                           전라남도 영광군 영광읍 백학리 47번지 6층   \n",
       "4      취소/말소/만료/정지/중지                                 경기도 의왕시 삼동 277-6번지   \n",
       "...               ...                                                ...   \n",
       "20745              휴업                             경기도 하남시 덕풍동 319-2 남도빌딩   \n",
       "20746              휴업  서울특별시 마포구 상암동 1605번지 누리꿈스퀘어 지층 B1001~1005,1015...   \n",
       "20747              휴업                      서울특별시 강남구 역삼동 783-18번지 제이케이빌딩   \n",
       "20748           영업/정상                             전라남도 화순군 북면 옥리 499-3번지   \n",
       "20749           영업/정상                                 경상남도 거제시 고현동 202번지   \n",
       "\n",
       "                                                 도로명전체주소  \\\n",
       "0                         전라북도 전주시 덕진구 백제대로 781  (우아동3가)   \n",
       "1                                     전라남도 영광군 홍농읍 상하길 3   \n",
       "2                                   전라남도 영광군 영광읍 옥당로 169   \n",
       "3                                  전라남도 영광군 영광읍 현암길 45-7   \n",
       "4                                  경기도 의왕시 부곡복지관길 6 (삼동)   \n",
       "...                                                  ...   \n",
       "20745                    경기도 하남시 하남대로 837, 남도빌딩 4층 (덕풍동)   \n",
       "20746  서울특별시 마포구 월드컵북로 396, 지하1층 B1001~1005호 (상암동, 누리...   \n",
       "20747              서울특별시 강남구 언주로65길 13, 3층 (역삼동, 제이케이빌딩)   \n",
       "20748                              전라남도 화순군 북면 옥리길 27-20   \n",
       "20749                            경상남도 거제시 동문천로 45  (고현동)   \n",
       "\n",
       "                                                      주소  폐업,전출,휴업,취소,말소여부  \\\n",
       "0                         전라북도 전주시 덕진구 백제대로 781  (우아동3가)                 0   \n",
       "1                                     전라남도 영광군 홍농읍 상하길 3                 1   \n",
       "2                                   전라남도 영광군 영광읍 옥당로 169                 1   \n",
       "3                                  전라남도 영광군 영광읍 현암길 45-7                 1   \n",
       "4                                  경기도 의왕시 부곡복지관길 6 (삼동)                 1   \n",
       "...                                                  ...               ...   \n",
       "20745                    경기도 하남시 하남대로 837, 남도빌딩 4층 (덕풍동)                 0   \n",
       "20746  서울특별시 마포구 월드컵북로 396, 지하1층 B1001~1005호 (상암동, 누리...                 1   \n",
       "20747              서울특별시 강남구 언주로65길 13, 3층 (역삼동, 제이케이빌딩)                 1   \n",
       "20748                              전라남도 화순군 북면 옥리길 27-20                 0   \n",
       "20749                            경상남도 거제시 동문천로 45  (고현동)                 0   \n",
       "\n",
       "      폐업,전출,휴업,취소,말소일자 폐업,전출,휴업,취소,말소연월    인허가연월  \n",
       "0                  NaT              NaT  2008-09  \n",
       "1           2020-06-22          2020-06  2003-02  \n",
       "2           2020-06-08          2020-06  2006-06  \n",
       "3           2020-06-08          2020-06  2007-11  \n",
       "4           2013-12-21          2013-12  2004-03  \n",
       "...                ...              ...      ...  \n",
       "20745              NaT              NaT  2010-01  \n",
       "20746       2013-05-08          2013-05  2008-11  \n",
       "20747       2019-10-10          2019-10  2017-05  \n",
       "20748              NaT              NaT  2009-02  \n",
       "20749              NaT              NaT  2009-03  \n",
       "\n",
       "[20750 rows x 14 columns]"
      ]
     },
     "execution_count": 12,
     "metadata": {},
     "output_type": "execute_result"
    }
   ],
   "source": [
    "df_necessary"
   ]
  },
  {
   "cell_type": "code",
   "execution_count": null,
   "id": "af3ca982",
   "metadata": {},
   "outputs": [],
   "source": [
    "df_necessary.loc[:,'폐업,전출,휴업,취소,말소연월'] = df_necessary.loc[:,'폐업,전출,휴업,취소,말소일자'].dt.to_period('M')"
   ]
  },
  {
   "cell_type": "code",
   "execution_count": null,
   "id": "aa22c666",
   "metadata": {},
   "outputs": [],
   "source": [
    "df_necessary.loc[:,'인허가연월'] = df_necessary.loc[:,'인허가일자'].dt.to_period('M')"
   ]
  },
  {
   "cell_type": "code",
   "execution_count": 38,
   "id": "a3ec2c69",
   "metadata": {
    "scrolled": false
   },
   "outputs": [
    {
     "name": "stdout",
     "output_type": "stream",
     "text": [
      "<class 'pandas.core.frame.DataFrame'>\n",
      "RangeIndex: 20750 entries, 0 to 20749\n",
      "Data columns (total 14 columns):\n",
      " #   Column            Non-Null Count  Dtype         \n",
      "---  ------            --------------  -----         \n",
      " 0   사업장명              20750 non-null  object        \n",
      " 1   인허가일자             20750 non-null  datetime64[ns]\n",
      " 2   인허가취소일자           17 non-null     datetime64[ns]\n",
      " 3   휴업시작일자            31 non-null     datetime64[ns]\n",
      " 4   휴업종료일자            31 non-null     datetime64[ns]\n",
      " 5   폐업일자              7695 non-null   datetime64[ns]\n",
      " 6   영업상태명             20750 non-null  object        \n",
      " 7   소재지전체주소           20393 non-null  object        \n",
      " 8   도로명전체주소           19973 non-null  object        \n",
      " 9   주소                20750 non-null  object        \n",
      " 10  폐업,전출,휴업,취소,말소여부  20750 non-null  int64         \n",
      " 11  폐업,전출,휴업,취소,말소일자  7743 non-null   datetime64[ns]\n",
      " 12  폐업,전출,휴업,취소,말소연월  7743 non-null   period[M]     \n",
      " 13  인허가연월             20750 non-null  period[M]     \n",
      "dtypes: datetime64[ns](6), int64(1), object(5), period[M](2)\n",
      "memory usage: 2.2+ MB\n"
     ]
    }
   ],
   "source": [
    "df_necessary.info()"
   ]
  },
  {
   "cell_type": "code",
   "execution_count": 75,
   "id": "d7649a9c",
   "metadata": {},
   "outputs": [],
   "source": [
    "regions = {\"서울특별시\":\"Seoul\", \"부산광역시\": \"Busan\", \"인천광역시\": \"Incheon\", \"대구광역시\": \"Daegu\", \"대전광역시\": \"Daejeon\", \"광주광역시\": \"Gwangju\", \"울산광역시\": \"Ulsan\", \"세종특별자치시\": \"Sejong\", \"경기도\": \"Gyeonggi\", \"강원도\": \"Gangwon\", \"충청북도\": \"Chungbuk\", \"충청남도\": \"Chungnam\", \"전라북도\": \"Jeonbuk\", \"전라남도\": \"Jeonnam\", \"경상북도\": \"Gyeongbuk\", \"경상남도\":\"Gyeongnam\", \"제주특별자치도\": \"Jeju\"}"
   ]
  },
  {
   "cell_type": "code",
   "execution_count": 76,
   "id": "ed6beaf1",
   "metadata": {},
   "outputs": [],
   "source": [
    "for region in regions.keys():\n",
    "    globals()['df_{}'.format(regions[region])] = df_necessary[(df_necessary['주소'].str.contains(region, na = False))]\n"
   ]
  },
  {
   "cell_type": "code",
   "execution_count": 77,
   "id": "44e06137",
   "metadata": {
    "scrolled": true
   },
   "outputs": [
    {
     "data": {
      "text/plain": [
       "20750"
      ]
     },
     "execution_count": 77,
     "metadata": {},
     "output_type": "execute_result"
    }
   ],
   "source": [
    "tot = 0\n",
    "for i in regions.keys():\n",
    "    tot += len(globals()['df_{}'.format(regions[i])])\n",
    "tot"
   ]
  },
  {
   "cell_type": "code",
   "execution_count": null,
   "id": "3c1fccd3",
   "metadata": {},
   "outputs": [],
   "source": []
  },
  {
   "cell_type": "code",
   "execution_count": 74,
   "id": "6e517d1e",
   "metadata": {},
   "outputs": [
    {
     "data": {
      "image/png": "[encoded data removed]",
      "text/plain": [
       "<Figure size 432x288 with 1 Axes>"
      ]
     },
     "metadata": {
      "needs_background": "light"
     },
     "output_type": "display_data"
    }
   ],
   "source": [
    "import matplotlib.pyplot as plt\n",
    "from matplotlib import rc\n",
    "\n",
    "rc('font', family='AppleGothic')\n",
    "\n",
    "df_necessary.groupby(df_necessary.loc[:,'인허가연월'])['인허가연월'].count().plot(color = 'r', linewidth = '1.5')\n",
    "df_necessary.groupby(df_necessary.loc[:,'폐업,전출,휴업,취소,말소연월'])['폐업,전출,휴업,취소,말소여부'].sum().plot(c = '#4CAF50', linewidth = '0.8')\n",
    "plt.xlim('1981-01', '2022-10')\n",
    "plt.xlabel(\"월\")\n",
    "plt.ylabel(\"업장 수\")\n",
    "plt.title(\"연도 및 월별 체력단련장업 추이\")\n",
    "plt.show()"
   ]
  },
  {
   "cell_type": "code",
   "execution_count": null,
   "id": "4a55afc9",
   "metadata": {},
   "outputs": [],
   "source": []
  }
 ],
 "metadata": {
  "kernelspec": {
   "display_name": "Python 3 (ipykernel)",
   "language": "python",
   "name": "python3"
  },
  "language_info": {
   "codemirror_mode": {
    "name": "ipython",
    "version": 3
   },
   "file_extension": ".py",
   "mimetype": "text/x-python",
   "name": "python",
   "nbconvert_exporter": "python",
   "pygments_lexer": "ipython3",
   "version": "3.9.12"
  }
 },
 "nbformat": 4,
 "nbformat_minor": 5
}
