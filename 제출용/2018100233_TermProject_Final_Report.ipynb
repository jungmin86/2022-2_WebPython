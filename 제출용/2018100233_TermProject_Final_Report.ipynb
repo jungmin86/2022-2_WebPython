{
 "cells": [
  {
   "cell_type": "markdown",
   "id": "12ef3863",
   "metadata": {},
   "source": [
    "<h1> Term Project 최종보고 </h1>"
   ]
  },
  {
   "cell_type": "markdown",
   "id": "a914dc28",
   "metadata": {},
   "source": [
    "<h2> 주제: 코로나19 전후 지역별 실내 헬스장 흥행 현황 분석 </h2>"
   ]
  },
  {
   "cell_type": "markdown",
   "id": "41ca2686",
   "metadata": {},
   "source": [
    "- - -"
   ]
  },
  {
   "cell_type": "markdown",
   "id": "6a8331b6",
   "metadata": {},
   "source": [
    "> <h3> (1) 주제 선정 이유: 왜 이 주제(분야)를 선정하게 된 이유를 나열함 </h3>"
   ]
  },
  {
   "cell_type": "markdown",
   "id": "d136c37d",
   "metadata": {},
   "source": [
    "* ``코로나19``로 인한 영업시간 제한 및 사적모임 인원 제한 때문에 실내 체육시설업 자영업자들이 힘든 시기를 보냈다. \n",
    "\n",
    "\n",
    "\n",
    "\n",
    "\n",
    "\n",
    "\n",
    "\n"
   ]
  },
  {
   "cell_type": "markdown",
   "id": "a1ce6026",
   "metadata": {},
   "source": [
    "* 하지만 코로나19 관련 거리두기 정책에도 불구하고 점점 더 실내 체육의 인기는 늘어왔다고 생각한다."
   ]
  },
  {
   "cell_type": "markdown",
   "id": "7a861465",
   "metadata": {},
   "source": [
    "* 사람들은 거리두기로 인한 스트레스를 풀 방법으로 ``혼자 할 수 있는 운동``을 찾았다. <br>"
   ]
  },
  {
   "cell_type": "markdown",
   "id": "a3712554",
   "metadata": {},
   "source": [
    "* 개인적으로 느끼기에, 사람들이 코로나19 이전에는 축구, 농구 등 ``단체 종목``의 운동을 비교적 선호했던 것 같다. <br>"
   ]
  },
  {
   "cell_type": "markdown",
   "id": "963c7b46",
   "metadata": {},
   "source": [
    "* 그런데 이제 주변을 둘러보면, 단체 운동 못지 않게 헬스를 하는 사람들이 많아졌다. <br> 유튜브에서도 헬스 관련 유튜버들도 많아졌고, 그들의 구독자 수 역시 과거와 비교할 수 없을 정도로 증가했다."
   ]
  },
  {
   "cell_type": "markdown",
   "id": "a2cb48fc",
   "metadata": {},
   "source": [
    "* 헬스장에 직접 가보면, 과거와 달리 ``여성 회원``들도 상당수 많이 늘어난 것처럼 보였다. <br>"
   ]
  },
  {
   "cell_type": "markdown",
   "id": "89cc9016",
   "metadata": {},
   "source": [
    "* 위의 내용들은 군 전역 후인 2020년부터 계속 생각해왔던 것들이다. 하지만 어디까지나 ``생각 혹은 추측``일 뿐, 데이터에 의해 검증된 내용이 아니다."
   ]
  },
  {
   "cell_type": "markdown",
   "id": "8c0b3372",
   "metadata": {},
   "source": [
    "* 그래서 오랫동안 머릿속으로 생각만 해왔던 주제를 데이터로 검증해보고 싶어서 선정하였다. <br> 관심있는 분야에 대한 데이터 분석 경험은 앞으로의 다양한 파이썬 데이터 분석에 대한 흥미를 끌어올려줄 것이라고 생각했다."
   ]
  },
  {
   "cell_type": "markdown",
   "id": "91e489e5",
   "metadata": {},
   "source": [
    "---"
   ]
  },
  {
   "cell_type": "markdown",
   "id": "187b06cf",
   "metadata": {},
   "source": [
    "> <h3>(2) 가설 정의: 본인이 Term 프로젝트를 통해서 증명하고자 하는 명제 혹은 밝히고자 하는 논리가 무엇인지 설명함(본인이 얻고자 하는 것) </h3>"
   ]
  },
  {
   "cell_type": "markdown",
   "id": "ecbe8af3",
   "metadata": {},
   "source": [
    "* <strong>```코로나19로 인해 위축된 것처럼 보였던 헬스장 업계는 오히려 코로나19가 유행한 이후에 전국적으로 더욱 흥행 중이다.\n",
    "  비록 폐업, 전출, 휴업, 취소, 말소 등의 상태로 전환된 업장이 있더라도, 이를 상쇄할 만큼의 신규 유입이 발생 중일 것이다.```</strong>"
   ]
  },
  {
   "cell_type": "markdown",
   "id": "e04f0a05",
   "metadata": {},
   "source": [
    "* 얻고자 하는 것: 누구나 말로는 할 수 있는, 또는 생각만 하던 주제를 수치로 증명함으로써 파이썬을 활용한 데이터 가공 / 분석 / 시각화 능력 향상"
   ]
  },
  {
   "cell_type": "markdown",
   "id": "8b217802",
   "metadata": {},
   "source": [
    "> <h3> (3) 인터넷을 통한 데이터 획득: 위의 명제/논리을 펼치기 위하여, 어디서 Python을 통해 어떻게 데이터를 획득했는지 구체적으로 나열함 </h3>"
   ]
  },
  {
   "cell_type": "markdown",
   "id": "cdf3bcab",
   "metadata": {},
   "source": [
    "<h4> 획득 (웹 크롤링) </h4>"
   ]
  },
  {
   "cell_type": "markdown",
   "id": "5275d045",
   "metadata": {},
   "source": [
    "* <strong>```selenium```</strong> 라이브러리를 이용해서 ``DATA.GO.KR``(https://www.data.go.kr/data/15045048/fileData.do)에서 '바로가기' 버튼을 클릭해서 <br> 현재 디렉토리에 zip 파일을 다운받았다. 이후 <strong>```zipfile, os```</strong> 라이브러리를 통해서 zip 파일의 압축을 풀고 csv 파일을 획득했다. <br> 마지막으로 <strong>```pandas```</strong> 라이브러리를 활용해서 csv를 pandas의 DataFrame(df)으로 불러왔다"
   ]
  },
  {
   "cell_type": "markdown",
   "id": "77d5aed8",
   "metadata": {},
   "source": [
    "* 공부하던 중에 pandas는 용량이 큰 파일을 읽는 데에 최적화 되어 있지 않다는 것을 알게 되었다. <br> 그래서 ```pd.read_csv('서울시 체력단련장업 인허가 정보.csv', chunksize = 1000, encoding='cp949')```에서 <br> chunksize를 나누어 각각의 group 리스트로 저장한 후, pd.concat을 통해 병합해주었다. <br>"
   ]
  },
  {
   "cell_type": "markdown",
   "id": "60600cba",
   "metadata": {},
   "source": [
    "<h4>수정사항</h4>"
   ]
  },
  {
   "cell_type": "markdown",
   "id": "d447375c",
   "metadata": {},
   "source": [
    "* 중간보고에서는 csv 파일을 직접 다운로드 받은 뒤에 분석할 계획이었지만, <br>크롤링을 이용해서 직접 페이지(https://www.data.go.kr/data/15045048/fileData.do)에 방문하지 않고 csv 파일을 불러올 수 있게끔 메소드를 정의하였다."
   ]
  },
  {
   "cell_type": "markdown",
   "id": "93bdb5ff",
   "metadata": {},
   "source": [
    "---"
   ]
  },
  {
   "cell_type": "markdown",
   "id": "61f5a49c",
   "metadata": {},
   "source": [
    "> <h3>(4) 분석을 위한 데이터의 가공: 데이터는 가공되지 않으면 의미가 없으므로, 어떻게 어떤 정보를 Pyhton으로 추출했는지 설명함 </h3>"
   ]
  },
  {
   "cell_type": "markdown",
   "id": "064b993e",
   "metadata": {},
   "source": [
    "<h4> 데이터프레임(df) 가공 (pandas 활용) </h4>"
   ]
  },
  {
   "cell_type": "markdown",
   "id": "dc05991a",
   "metadata": {},
   "source": [
    "* 우선 획득한 csv로부터 얻은 데이터프레임(df)에는 분석에 필요하지 않은 많은 컬럼들이 존재한다.<br> 분석 과정에서 이해하기 쉽게 분석에 필요한 컬럼만 추출했다. <br> 추출한 데이터프레임을 ```df_necessary```라는 데이터프레임에 할당했다."
   ]
  },
  {
   "cell_type": "markdown",
   "id": "b50582e0",
   "metadata": {},
   "source": [
    "<h4> 데이터프레임(df_necessary) 가공 (pandas, numpy 활용) </h4>"
   ]
  },
  {
   "cell_type": "markdown",
   "id": "d29e7a13",
   "metadata": {},
   "source": [
    "* 데이터 분석에 필요한 형태로 컬럼들을 가공하거나, 새로운 컬럼을 추가한다. <br> \n",
    "* 우선 ```'도로명전체주소'```와 ```'소재지전체주소'```(지번 주소)를 ```'주소'``` 컬럼에 통합했다. <br>기본적으로 '도로명전체주소'를 따르되, 해당 컬럼이 결측치인 경우에는 '소재지전체주소'를 할당했다. <br>\n",
    "* 또한 ```'폐업,전출,휴업,취소,말소여부'```컬럼을 생성했다. <br>```'인허가취소일자', '휴업시작일자', '폐업일자'``` 중 하나라도 결측치가 아니라면 1을, 모두 결측치라면 0을 나타낸다.<br> '인허가취소일자', '휴업시작일자', '폐업일자' 컬럼은 한 행에 대해서 2개 이상 존재하지 않는다. <br> 이어서 '인허가취소일자', '휴업시작일자', '폐업일자' 중 하나라도 결측치가 아니라면 해당하는 값을 나타내는 ```'폐업,전출,휴업,취소,말소일자'```컬럼도 생성했다. <br>\n",
    "* <strong>```pandas와 numpy를 활용한 조건절 이용```</strong>"
   ]
  },
  {
   "cell_type": "markdown",
   "id": "17dff23c",
   "metadata": {},
   "source": [
    "* 연도별로 지역에 따라서 신규 인허가 업장과 폐업, 휴업, 취소, 말소, 만료, 정지 등의 상태인 업장의 수를 시각화해야하기 때문에 날짜에 관련된 컬럼들로부터 연도와 월만을 추출해야 한다. \n",
    "* 우선 여기서 분석에 사용되는 컬럼은 ```'인허가일자'```와 ```'폐업,전출,휴업,취소,말소일자'``` 컬럼이다.\n",
    "* 해당 컬럼들을 <strong>```pd.to_datetime```</strong>을 이용해서 datetime 형식으로 형변환을 해주었다. <br> 이어서 해당 컬럼들로부터 연도만을 추출한 ```'인허가연도'```와 ```'폐업,전출,휴업,취소,말소연도'```를 컬럼을 생성했다. <strong> (pandas의 dt.to_period()) 활용) </strong>\n"
   ]
  },
  {
   "cell_type": "markdown",
   "id": "df9e6a37",
   "metadata": {},
   "source": [
    "<h4> 데이터프레임 지역별로 분화 </h4>"
   ]
  },
  {
   "cell_type": "markdown",
   "id": "815f4620",
   "metadata": {},
   "source": [
    "* 분석을 위해 정의한 클래스 안에는 대한민국 행정구역을 나타내는 딕셔너리 변수(regions)가 존재한다. <br>\n",
    "```self.regions = {\"서울특별시\": \"Seoul\", \"부산광역시\": \"Busan\", \"인천광역시\": \"Incheon\", \"대구광역시\": \"Daegu\", \"대전광역시\": \"Daejeon\", \"광주광역시\": \"Gwangju\", \"울산광역시\": \"Ulsan\", \"세종특별자치시\": \"Sejong\", \"경기도\": \"Gyeonggi\", \"강원도\": \"Gangwon\", \"충청북도\": \"Chungbuk\", \"충청남도\": \"Chungnam\", \"전라북도\": \"Jeonbuk\", \"전라남도\": \"Jeonnam\", \"경상북도\": \"Gyeongbuk\", \"경상남도\": \"Gyeongnam\", \"제주특별자치도\": \"Jeju\"}```\n",
    "* regions의 key(국문 행정구역명)에 대해서 for문을 돌려서 '주소' 컬럼에서 해당 key를 가지는 행들만을 가지는 데이터프레임을 지역별로 각각 생성했다.\n",
    "* 지역별 데이터프레임의 이름은 df_{key값에 해당하는 value(영문 행정구역명)}이다. <br>\n",
    "\n",
    "```for region in self.regions.keys():``` <br>\n",
    "        ```globals()['df_{}'.format(self.regions[region])] = self.df_necessary[(self.df_necessary['주소'].str.contains(region, na = False))]```\n"
   ]
  },
  {
   "cell_type": "markdown",
   "id": "89e9992d",
   "metadata": {},
   "source": [
    "* 마지막으로 원하는 지역을 파라미터로 받아서 해당 지역의 데이터프레임을 csv 파일로 내보내주는 메소드를 정의했다. <br> 해당 csv 파일의 이름은 '{key+value}.csv'이다. ```ex. 경기도+Gyeonggi.csv```\n",
    "\n",
    "\n",
    "```def region_df_to_csv(self, region):\n",
    "        globals()['df_{}'.format(self.regions[region])].to_csv(f\"./{region}+{self.regions[region]}.csv\", sep = \",\", index = False, mode= \"w\",encoding='cp949')```"
   ]
  },
  {
   "cell_type": "markdown",
   "id": "7ad04156",
   "metadata": {},
   "source": [
    "> <h3>(5) 분석 결과 도출: 수학적 방법 혹은 논리적 방법을 Python으로 구현함으로서, 프로그램을 통해서 결과를 도출함 </h3>"
   ]
  },
  {
   "cell_type": "markdown",
   "id": "cba661de",
   "metadata": {},
   "source": [
    "* 원하는 지역을 파라미터로 받아서 해당 지역의 연도별 체력단련장업 추이를 그래프로 나타낸다."
   ]
  },
  {
   "cell_type": "markdown",
   "id": "43fd4a0e",
   "metadata": {},
   "source": [
    "* 우선 한글이 깨지는 것을 방지하기 위해 폰트 설정을 해줘야 한다.  <br>\n",
    "```rc('font', family='AppleGothic')```"
   ]
  },
  {
   "cell_type": "markdown",
   "id": "c2f0b212",
   "metadata": {},
   "source": [
    "* 연도에 따른 신규 업장의 수를 구하는 방법은 ```'인허가연도'``` 컬럼을 기준으로 그룹화해서(groupby) 연도별로 ```'인허가연도'```컬럼을 카운트해주는 것이다. <br> 여기서 '인허가연도'컬럼을 카운트하는 이유는 결측치가 없기 때문이다."
   ]
  },
  {
   "cell_type": "markdown",
   "id": "063e02d5",
   "metadata": {},
   "source": [
    "* 폐업, 전출, 휴업, 취소, 말소 상태가 된 업장의 수를 연도별로 구하는 방법은 <br>```'폐업,전출,휴업,취소,말소연도'```컬럼을 기준으로 그룹화해서(groupby) 연도별로 ```'폐업,전출,휴업,취소,말소여부'```컬럼을 더해주는 것이다. <br> 말소여부는 0과 1로 구성되어있기 때문에 폐업, 전출, 휴업, 취소, 말소 상태에 해당된다면, 1을 더해주게 된다. 이는 카운트와 같은 효과를 낼 수 있다."
   ]
  },
  {
   "cell_type": "markdown",
   "id": "939e306f",
   "metadata": {},
   "source": [
    "* x축은 유효한 데이터들을 고려해서 1981년부터 2022년의 범위를 가지도록 설정했다."
   ]
  },
  {
   "cell_type": "markdown",
   "id": "7beec81e",
   "metadata": {},
   "source": [
    "```def show_graph(self, region):\n",
    "        rc('font', family='AppleGothic')\n",
    "        if region == '전국':\n",
    "            self.df_necessary.groupby(self.df_necessary.loc[:,'인허가연도'])['인허가연도'].count().plot(c = '#4CAF50', marker = 'o', ms = 5)\n",
    "            self.df_necessary.groupby(self.df_necessary.loc[:,'폐업,전출,휴업,취소,말소연도'])['폐업,전출,휴업,취소,말소여부'].sum().plot(color = 'r', ls = ':', marker = 'o', ms = 3)\n",
    "            plt.xlim('1981', '2022')\n",
    "            plt.xlabel(\"연도\")\n",
    "            plt.ylabel(\"업장 수\")\n",
    "            plt.title(f\"{region} 연도별 체력단련장업 추이\")\n",
    "            plt.show()\n",
    "        else:\n",
    "            globals()['df_{}'.format(self.regions[region])].groupby(self.df_necessary.loc[:,'인허가연도'])['인허가연도'].count().plot(c = '#4CAF50', marker = 'o', ms = 5)\n",
    "            globals()['df_{}'.format(self.regions[region])].groupby(self.df_necessary.loc[:,'폐업,전출,휴업,취소,말소연도'])['폐업,전출,휴업,취소,말소여부'].sum().plot(color = 'r', ls = ':', marker = 'o', ms = 3)\n",
    "            plt.xlim('1981', '2022')\n",
    "            plt.xlabel(\"연도\")\n",
    "            plt.ylabel(\"업장 수\")\n",
    "            plt.title(f\"{region} 연도별 체력단련장업 추이\")\n",
    "            plt.show()```"
   ]
  },
  {
   "cell_type": "markdown",
   "id": "7c91d20f",
   "metadata": {},
   "source": [
    "> <h3>(6) 결론: 본인의 명제/논리가 증명/확인 되었는지와 이를 구체적으로 서술함 </h3>"
   ]
  },
  {
   "cell_type": "markdown",
   "id": "5447e721",
   "metadata": {},
   "source": [
    "<h4> 전국적으로 2010년대부터 신규 업장이 대체적으로 증가하는 양상을 보인다. <br> 2018년부터는 급격히 매년 높은  하지만 폐업, 전출, 휴업, 취소, 말소 등(이하 '폐업'으로 칭함)의 상태로 전환되는 추이는  </h4>"
   ]
  },
  {
   "cell_type": "markdown",
   "id": "6d6c281c",
   "metadata": {},
   "source": [
    "<h4> 서울특별시 </h4>"
   ]
  },
  {
   "cell_type": "markdown",
   "id": "59b5363b",
   "metadata": {},
   "source": [
    "* 2010년대부터 지속적인 신규 유입이 증가되고 있다."
   ]
  },
  {
   "cell_type": "markdown",
   "id": "97f49e01",
   "metadata": {},
   "source": [
    "* 폐업의 상태로 전환된 업장 또한 신규 업장과 비슷한 양상을 띠고 있다. <br> 사회적 거리두기 정책이 타격으로 작용했던 2020년과 2021년에는 예년과 달리 더 많은 업장들이 폐업 상태로 전환되었지만,<br>2022년에는 2021년 대비 절반도 안되는 업장들이 폐업 상태로 전환되었다."
   ]
  },
  {
   "cell_type": "markdown",
   "id": "b768dc23",
   "metadata": {},
   "source": [
    "* 그런데 2022년에는 "
   ]
  },
  {
   "cell_type": "markdown",
   "id": "dd87baac",
   "metadata": {},
   "source": []
  },
  {
   "cell_type": "markdown",
   "id": "6e5ac885",
   "metadata": {},
   "source": [
    "---"
   ]
  },
  {
   "cell_type": "markdown",
   "id": "62c738a1",
   "metadata": {},
   "source": [
    "> <h3>(7) 참고문헌: 위의 작업을 위하여 획득한 자료, 인터넷 정보, 논문, 도서 등을 나열함</h3>"
   ]
  },
  {
   "cell_type": "markdown",
   "id": "b4a8ebb8",
   "metadata": {},
   "source": [
    "<h4> 웹 </h4>"
   ]
  },
  {
   "cell_type": "markdown",
   "id": "d902939f",
   "metadata": {},
   "source": [
    "* w3schools,  \"Pandas Tutorial\" (https://www.w3schools.com/python/pandas/default.asp)"
   ]
  },
  {
   "cell_type": "markdown",
   "id": "11260f76",
   "metadata": {},
   "source": [
    "* w3schools,  \"Numpy Tutorial\" (https://www.w3schools.com/python/numpy/default.asp)"
   ]
  },
  {
   "cell_type": "markdown",
   "id": "03085f96",
   "metadata": {},
   "source": [
    "* stackoverflow, \"How do I read a large csv file with pandas?\"(https://stackoverflow.com/questions/25962114/how-do-i-read-a-large-csv-file-with-pandas)"
   ]
  },
  {
   "cell_type": "markdown",
   "id": "b8f9d74c",
   "metadata": {},
   "source": [
    "* DATAQUEST, \"Tutorial: Add a Column to a Pandas DataFrame Based on an If-Else Condition\" (https://www.dataquest.io/blog/tutorial-add-column-pandas-dataframe-based-on-if-else-condition/)"
   ]
  },
  {
   "cell_type": "markdown",
   "id": "78430ea8",
   "metadata": {},
   "source": [
    "<h4>도서</h4>"
   ]
  },
  {
   "cell_type": "markdown",
   "id": "0c3e0d7b",
   "metadata": {},
   "source": [
    "* \"Do it! 점프 투 파이썬\", 박응용 지음 (ebook 활용)"
   ]
  },
  {
   "cell_type": "markdown",
   "id": "645b683c",
   "metadata": {},
   "source": [
    "* \"Do it! 데이터 분석을 위한 판다스 입문\", Chen, Daniel Y. 지음, 김영하 옮김 (ebook 활용)"
   ]
  },
  {
   "cell_type": "markdown",
   "id": "36e177be",
   "metadata": {},
   "source": [
    "> <h3>(8) 별첨: (3)의 획득한 데이터 원본 </h3>"
   ]
  },
  {
   "cell_type": "markdown",
   "id": "5ab2f4df",
   "metadata": {},
   "source": [
    "> <h3>(9) 별첨: (4)의 가공된 데이터 원본 </h3>"
   ]
  },
  {
   "cell_type": "markdown",
   "id": "06b9ca48",
   "metadata": {},
   "source": [
    "> <h3>(10) 별첨: (3)을 (4)로 변환하는 등의 작업을 위하여 본인이 직접 개발한 Python 소스코드 원본 </h3>"
   ]
  },
  {
   "cell_type": "markdown",
   "id": "1058c678",
   "metadata": {},
   "source": []
  },
  {
   "cell_type": "markdown",
   "id": "f80bc29b",
   "metadata": {},
   "source": []
  }
 ],
 "metadata": {
  "kernelspec": {
   "display_name": "Python 3 (ipykernel)",
   "language": "python",
   "name": "python3"
  },
  "language_info": {
   "codemirror_mode": {
    "name": "ipython",
    "version": 3
   },
   "file_extension": ".py",
   "mimetype": "text/x-python",
   "name": "python",
   "nbconvert_exporter": "python",
   "pygments_lexer": "ipython3",
   "version": "3.9.12"
  }
 },
 "nbformat": 4,
 "nbformat_minor": 5
}
