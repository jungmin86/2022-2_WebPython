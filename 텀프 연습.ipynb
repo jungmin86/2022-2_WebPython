{
 "cells": [
  {
   "cell_type": "code",
   "execution_count": 2,
   "id": "d9e1067d",
   "metadata": {},
   "outputs": [],
   "source": [
    "import pandas as pd\n",
    "import numpy as np\n",
    "import matplotlib.pyplot as plt\n",
    "import matplotlib as mt"
   ]
  },
  {
   "cell_type": "code",
   "execution_count": 6,
   "id": "ed96100c",
   "metadata": {},
   "outputs": [],
   "source": [
    "from sklearn.datasets import load_iris\n",
    "from matplotlib import rc\n",
    "\n",
    "rc('font', family='AppleGothic')\n",
    "\n",
    "# plt.rcParams['axes.unicode_minus'] = False #마이너스 꺠짐 현상 해결 -> 나한테는 필요 없음"
   ]
  },
  {
   "cell_type": "code",
   "execution_count": 12,
   "id": "65d60680",
   "metadata": {},
   "outputs": [
    {
     "name": "stdout",
     "output_type": "stream",
     "text": [
      "      개방자치단체코드                  관리번호     인허가일자  인허가취소일자  영업상태코드  영업상태명  \\\n",
      "0      3030000  CDFH3301061993000002  19930701      NaN       3     폐업   \n",
      "1      3030000  CDFH3301061994000001  19940127      NaN       3     폐업   \n",
      "2      3180000  CDFH3301062004000008  20040729      NaN       3     폐업   \n",
      "3      3060000  CDFH3301062022000006  20220516      NaN       1  영업/정상   \n",
      "4      3160000  CDFH3301062020000001  20200131      NaN       1  영업/정상   \n",
      "...        ...                   ...       ...      ...     ...    ...   \n",
      "5472   3180000  CDFH3301062022000025  20221020      NaN       1  영업/정상   \n",
      "5473   3230000  CDFH3301062019000010  20190625      NaN       1  영업/정상   \n",
      "5474   3220000  CDFH3301062022000049  20221021      NaN       1  영업/정상   \n",
      "5475   3200000  CDFH3301062022000025  20221027      NaN       1  영업/정상   \n",
      "5476   3230000  CDFH3301062022000025  20221018      NaN       3     폐업   \n",
      "\n",
      "      상세영업상태코드 상세영업상태명        폐업일자  휴업시작일자  ...        좌표정보(Y)  문화체육업종명  \\\n",
      "0            3      폐업  20040417.0     NaN  ...            NaN   체력단련장업   \n",
      "1            3      폐업  20011106.0     NaN  ...  449353.789642   체력단련장업   \n",
      "2            3      폐업  20220421.0     NaN  ...  446698.814323      NaN   \n",
      "3           13     영업중         NaN     NaN  ...  456686.933364      NaN   \n",
      "4           13     영업중         NaN     NaN  ...  443955.614465      NaN   \n",
      "...        ...     ...         ...     ...  ...            ...      ...   \n",
      "5472        13     영업중         NaN     NaN  ...  448230.132883      NaN   \n",
      "5473        13     영업중         NaN     NaN  ...  442139.000000      NaN   \n",
      "5474        13     영업중         NaN     NaN  ...  445698.726213      NaN   \n",
      "5475        13     영업중         NaN     NaN  ...  442694.768284      NaN   \n",
      "5476         3      폐업  20221031.0     NaN  ...  446040.044745      NaN   \n",
      "\n",
      "     공사립구분명  보험가입여부코드  지도자수 건축물동수 건축물연면적  회원모집총인원 세부업종명  법인명  \n",
      "0        사립         0   NaN   NaN    NaN      NaN   NaN  NaN  \n",
      "1        사립       NaN   0.0   0.0    0.0      NaN   NaN  NaN  \n",
      "2       NaN       NaN   NaN   NaN    NaN      NaN   NaN  NaN  \n",
      "3       NaN       NaN   NaN   NaN    NaN      NaN   NaN  NaN  \n",
      "4       NaN       NaN   NaN   NaN    NaN      NaN   NaN  NaN  \n",
      "...     ...       ...   ...   ...    ...      ...   ...  ...  \n",
      "5472    NaN       NaN   NaN   NaN    NaN      NaN   NaN  NaN  \n",
      "5473    NaN       NaN   NaN   NaN    NaN      NaN   NaN  NaN  \n",
      "5474    NaN       NaN   NaN   NaN    NaN      NaN   NaN  NaN  \n",
      "5475    NaN       NaN   NaN   NaN    NaN      NaN   NaN  NaN  \n",
      "5476    NaN       NaN   NaN   NaN    NaN      NaN   NaN  NaN  \n",
      "\n",
      "[5477 rows x 34 columns]\n"
     ]
    }
   ],
   "source": [
    "df_Seoul = pd.read_csv('서울시 체력단련장업 인허가 정보.csv', encoding='cp949')\n",
    "print(df_Seoul)"
   ]
  },
  {
   "cell_type": "code",
   "execution_count": null,
   "id": "b3024553",
   "metadata": {},
   "outputs": [],
   "source": []
  },
  {
   "cell_type": "code",
   "execution_count": null,
   "id": "3271ae52",
   "metadata": {},
   "outputs": [],
   "source": []
  },
  {
   "cell_type": "code",
   "execution_count": null,
   "id": "d62c381d",
   "metadata": {},
   "outputs": [],
   "source": []
  },
  {
   "cell_type": "code",
   "execution_count": null,
   "id": "33c414cd",
   "metadata": {},
   "outputs": [],
   "source": []
  },
  {
   "cell_type": "code",
   "execution_count": null,
   "id": "78caa62b",
   "metadata": {},
   "outputs": [],
   "source": []
  },
  {
   "cell_type": "code",
   "execution_count": 5,
   "id": "eaa92411",
   "metadata": {},
   "outputs": [
    {
     "name": "stdout",
     "output_type": "stream",
     "text": [
      "<class 'pandas.core.frame.DataFrame'>\n",
      "RangeIndex: 5451 entries, 0 to 5450\n",
      "Data columns (total 34 columns):\n",
      " #   Column    Non-Null Count  Dtype  \n",
      "---  ------    --------------  -----  \n",
      " 0   개방자치단체코드  5451 non-null   int64  \n",
      " 1   관리번호      5451 non-null   object \n",
      " 2   인허가일자     5451 non-null   int64  \n",
      " 3   인허가취소일자   4 non-null      float64\n",
      " 4   영업상태코드    5451 non-null   int64  \n",
      " 5   영업상태명     5451 non-null   object \n",
      " 6   상세영업상태코드  5451 non-null   int64  \n",
      " 7   상세영업상태명   5451 non-null   object \n",
      " 8   폐업일자      2141 non-null   float64\n",
      " 9   휴업시작일자    5 non-null      float64\n",
      " 10  휴업종료일자    5 non-null      float64\n",
      " 11  재개업일자     0 non-null      float64\n",
      " 12  전화번호      3243 non-null   object \n",
      " 13  소재지면적     0 non-null      float64\n",
      " 14  소재지우편번호   2595 non-null   float64\n",
      " 15  지번주소      5379 non-null   object \n",
      " 16  도로명주소     5225 non-null   object \n",
      " 17  도로명우편번호   3801 non-null   float64\n",
      " 18  사업장명      5451 non-null   object \n",
      " 19  최종수정일자    5451 non-null   float64\n",
      " 20  데이터갱신구분   5451 non-null   object \n",
      " 21  데이터갱신일자   5451 non-null   object \n",
      " 22  업태구분명     0 non-null      float64\n",
      " 23  좌표정보(X)   5328 non-null   float64\n",
      " 24  좌표정보(Y)   5328 non-null   float64\n",
      " 25  문화체육업종명   4841 non-null   object \n",
      " 26  공사립구분명    4841 non-null   object \n",
      " 27  보험가입여부코드  674 non-null    object \n",
      " 28  지도자수      2589 non-null   float64\n",
      " 29  건축물동수     1394 non-null   float64\n",
      " 30  건축물연면적    2195 non-null   float64\n",
      " 31  회원모집총인원   594 non-null    float64\n",
      " 32  세부업종명     0 non-null      float64\n",
      " 33  법인명       0 non-null      float64\n",
      "dtypes: float64(18), int64(4), object(12)\n",
      "memory usage: 1.4+ MB\n",
      "None\n"
     ]
    }
   ],
   "source": [
    "# df_Seoul['인허가일자'] = pd.to_datetime(df_Seoul['인허가일자'], format='%Y%m%d') \n",
    "# df_Seoul['인허가취소일자'] = pd.to_datetime(df_Seoul['인허가취소일자'], format='%Y%m%d') \n",
    "# df_Seoul['폐업일자'] = pd.to_datetime(df_Seoul['폐업일자'], format='%Y%m%d') \n",
    "# df_Seoul['휴업시작일자'] = pd.to_datetime(df_Seoul['휴업시작일자'], format='%Y%m%d') \n",
    "# df_Seoul['휴업종료일자'] = pd.to_datetime(df_Seoul['휴업종료일자'], format='%Y%m%d') \n",
    "\n",
    "print(df_Seoul.info())"
   ]
  },
  {
   "cell_type": "code",
   "execution_count": 14,
   "id": "a7160ffe",
   "metadata": {},
   "outputs": [],
   "source": [
    "Seoul = df_Seoul[['사업장명', '인허가일자', '인허가취소일자', '폐업일자', '상세영업상태코드','상세영업상태명', '도로명주소', '지번주소']]\n",
    "Seoul.to_csv(\"서울헬스장현황_가공.csv\", mode = 'w', encoding = 'cp949')"
   ]
  },
  {
   "cell_type": "code",
   "execution_count": 15,
   "id": "21574ff0",
   "metadata": {},
   "outputs": [
    {
     "name": "stdout",
     "output_type": "stream",
     "text": [
      "<class 'pandas.core.frame.DataFrame'>\n",
      "RangeIndex: 4959 entries, 0 to 4958\n",
      "Data columns (total 22 columns):\n",
      " #   Column     Non-Null Count  Dtype  \n",
      "---  ------     --------------  -----  \n",
      " 0   시군명        4959 non-null   object \n",
      " 1   사업장명       4959 non-null   object \n",
      " 2   인허가일자      4959 non-null   int64  \n",
      " 3   인허가취소일자    4 non-null      float64\n",
      " 4   영업상태구분코드   4959 non-null   int64  \n",
      " 5   영업상태명      4959 non-null   object \n",
      " 6   폐업일자       1775 non-null   float64\n",
      " 7   소재지시설전화번호  2899 non-null   object \n",
      " 8   소재지면적정보    0 non-null      float64\n",
      " 9   도로명우편번호    3708 non-null   float64\n",
      " 10  소재지도로명주소   4845 non-null   object \n",
      " 11  소재지지번주소    4959 non-null   object \n",
      " 12  소재지우편번호    4954 non-null   float64\n",
      " 13  WGS84위도    4946 non-null   float64\n",
      " 14  WGS84경도    4946 non-null   float64\n",
      " 15  업태구분명정보    0 non-null      float64\n",
      " 16  X좌표값       4685 non-null   float64\n",
      " 17  Y좌표값       4685 non-null   float64\n",
      " 18  문화체육업종명    4959 non-null   object \n",
      " 19  공사립구분명     4959 non-null   object \n",
      " 20  보험가입여부코드   765 non-null    object \n",
      " 21  회원모집총인원    1253 non-null   float64\n",
      "dtypes: float64(11), int64(2), object(9)\n",
      "memory usage: 852.5+ KB\n",
      "None\n"
     ]
    }
   ],
   "source": [
    "df_GG = pd.read_csv('체력단련장업체현황.csv', encoding='cp949')\n",
    "print(df_GG.info())"
   ]
  },
  {
   "cell_type": "code",
   "execution_count": 16,
   "id": "e82e30cb",
   "metadata": {},
   "outputs": [
    {
     "name": "stdout",
     "output_type": "stream",
     "text": [
      "<class 'pandas.core.frame.DataFrame'>\n",
      "RangeIndex: 4959 entries, 0 to 4958\n",
      "Data columns (total 22 columns):\n",
      " #   Column     Non-Null Count  Dtype  \n",
      "---  ------     --------------  -----  \n",
      " 0   시군명        4959 non-null   object \n",
      " 1   사업장명       4959 non-null   object \n",
      " 2   인허가일자      4959 non-null   int64  \n",
      " 3   인허가취소일자    4 non-null      float64\n",
      " 4   상세영업상태코드   4959 non-null   int64  \n",
      " 5   상세영업상태명    4959 non-null   object \n",
      " 6   폐업일자       1775 non-null   float64\n",
      " 7   소재지시설전화번호  2899 non-null   object \n",
      " 8   소재지면적정보    0 non-null      float64\n",
      " 9   도로명우편번호    3708 non-null   float64\n",
      " 10  도로명주소      4845 non-null   object \n",
      " 11  지번주소       4959 non-null   object \n",
      " 12  소재지우편번호    4954 non-null   float64\n",
      " 13  WGS84위도    4946 non-null   float64\n",
      " 14  WGS84경도    4946 non-null   float64\n",
      " 15  업태구분명정보    0 non-null      float64\n",
      " 16  X좌표값       4685 non-null   float64\n",
      " 17  Y좌표값       4685 non-null   float64\n",
      " 18  문화체육업종명    4959 non-null   object \n",
      " 19  공사립구분명     4959 non-null   object \n",
      " 20  보험가입여부코드   765 non-null    object \n",
      " 21  회원모집총인원    1253 non-null   float64\n",
      "dtypes: float64(11), int64(2), object(9)\n",
      "memory usage: 852.5+ KB\n",
      "None\n"
     ]
    }
   ],
   "source": [
    "# df_GG['인허가일자'] = pd.to_datetime(df_GG['인허가일자'], errors = 'coerce', format='%Y%m%d') \n",
    "# df_GG['인허가취소일자'] = pd.to_datetime(df_GG['인허가취소일자'], errors = 'coerce', format='%Y%m%d') \n",
    "# df_GG['폐업일자'] = pd.to_datetime(df_GG['폐업일자'], errors = 'coerce', format='%Y%m%d') \n",
    "df_GG.rename(columns={'영업상태구분코드':'상세영업상태코드'}, inplace = True) \n",
    "df_GG.rename(columns={'영업상태명':'상세영업상태명'}, inplace = True)\n",
    "df_GG.rename(columns={'소재지도로명주소':'도로명주소'}, inplace = True)\n",
    "df_GG.rename(columns={'소재지지번주소':'지번주소'}, inplace = True)\n",
    "print(df_GG.info())"
   ]
  },
  {
   "cell_type": "code",
   "execution_count": 17,
   "id": "06b8eca4",
   "metadata": {},
   "outputs": [],
   "source": [
    "Gyeonggi = df_GG[['사업장명', '인허가일자', '인허가취소일자', '폐업일자', '상세영업상태코드','상세영업상태명', '도로명주소', '지번주소']]\n",
    "Gyeonggi.to_csv(\"경기헬스장현황_가공.csv\", mode = 'w', encoding = 'cp949')"
   ]
  },
  {
   "cell_type": "code",
   "execution_count": 18,
   "id": "9595aba8",
   "metadata": {},
   "outputs": [],
   "source": [
    "df1 = pd.read_csv('서울헬스장현황_가공.csv', encoding='cp949',index_col = 0)\n",
    "df2 = pd.read_csv('경기헬스장현황_가공.csv', encoding='cp949', index_col = 0)"
   ]
  },
  {
   "cell_type": "code",
   "execution_count": 19,
   "id": "d3d4350e",
   "metadata": {},
   "outputs": [
    {
     "data": {
      "text/html": [
       "<div>\n",
       "<style scoped>\n",
       "    .dataframe tbody tr th:only-of-type {\n",
       "        vertical-align: middle;\n",
       "    }\n",
       "\n",
       "    .dataframe tbody tr th {\n",
       "        vertical-align: top;\n",
       "    }\n",
       "\n",
       "    .dataframe thead th {\n",
       "        text-align: right;\n",
       "    }\n",
       "</style>\n",
       "<table border=\"1\" class=\"dataframe\">\n",
       "  <thead>\n",
       "    <tr style=\"text-align: right;\">\n",
       "      <th></th>\n",
       "      <th>사업장명</th>\n",
       "      <th>인허가일자</th>\n",
       "      <th>인허가취소일자</th>\n",
       "      <th>폐업일자</th>\n",
       "      <th>상세영업상태코드</th>\n",
       "      <th>상세영업상태명</th>\n",
       "      <th>도로명주소</th>\n",
       "      <th>지번주소</th>\n",
       "    </tr>\n",
       "  </thead>\n",
       "  <tbody>\n",
       "    <tr>\n",
       "      <th>0</th>\n",
       "      <td>신화헬스클럽</td>\n",
       "      <td>19930701</td>\n",
       "      <td>NaN</td>\n",
       "      <td>20040417.0</td>\n",
       "      <td>3</td>\n",
       "      <td>폐업</td>\n",
       "      <td>NaN</td>\n",
       "      <td>서울특별시 성동구 홍익동 162-1번지</td>\n",
       "    </tr>\n",
       "    <tr>\n",
       "      <th>1</th>\n",
       "      <td>성수헬스</td>\n",
       "      <td>19940127</td>\n",
       "      <td>NaN</td>\n",
       "      <td>20011106.0</td>\n",
       "      <td>3</td>\n",
       "      <td>폐업</td>\n",
       "      <td>서울특별시 성동구 아차산로7길 14-1  (성수동2가)</td>\n",
       "      <td>서울특별시 성동구 성수동2가 289-243번지</td>\n",
       "    </tr>\n",
       "    <tr>\n",
       "      <th>2</th>\n",
       "      <td>유통헬스</td>\n",
       "      <td>20040729</td>\n",
       "      <td>NaN</td>\n",
       "      <td>20220421.0</td>\n",
       "      <td>3</td>\n",
       "      <td>폐업</td>\n",
       "      <td>서울특별시 영등포구 영등포로 109 (당산동2가 영등포유통상가)</td>\n",
       "      <td>서울특별시 영등포구 당산동2가 30-2</td>\n",
       "    </tr>\n",
       "    <tr>\n",
       "      <th>3</th>\n",
       "      <td>J-PT</td>\n",
       "      <td>20220516</td>\n",
       "      <td>NaN</td>\n",
       "      <td>NaN</td>\n",
       "      <td>13</td>\n",
       "      <td>영업중</td>\n",
       "      <td>서울특별시 중랑구 공릉로 18 3층 (묵동)</td>\n",
       "      <td>서울특별시 중랑구 묵동 174-29</td>\n",
       "    </tr>\n",
       "    <tr>\n",
       "      <th>4</th>\n",
       "      <td>메이크유 필라테스&amp;PT</td>\n",
       "      <td>20200131</td>\n",
       "      <td>NaN</td>\n",
       "      <td>NaN</td>\n",
       "      <td>13</td>\n",
       "      <td>영업중</td>\n",
       "      <td>서울특별시 구로구 경인로 397 골든타워빌딩 4층 (고척동)</td>\n",
       "      <td>서울특별시 구로구 고척동 76-160 골든타워빌딩 4층</td>\n",
       "    </tr>\n",
       "    <tr>\n",
       "      <th>...</th>\n",
       "      <td>...</td>\n",
       "      <td>...</td>\n",
       "      <td>...</td>\n",
       "      <td>...</td>\n",
       "      <td>...</td>\n",
       "      <td>...</td>\n",
       "      <td>...</td>\n",
       "      <td>...</td>\n",
       "    </tr>\n",
       "    <tr>\n",
       "      <th>5446</th>\n",
       "      <td>스타트짐</td>\n",
       "      <td>20221020</td>\n",
       "      <td>NaN</td>\n",
       "      <td>NaN</td>\n",
       "      <td>13</td>\n",
       "      <td>영업중</td>\n",
       "      <td>서울특별시 강서구 양천로59길 46 대일빌딩 4층 (가양동)</td>\n",
       "      <td>서울특별시 강서구 가양동 1488-8 대일빌딩</td>\n",
       "    </tr>\n",
       "    <tr>\n",
       "      <th>5447</th>\n",
       "      <td>크로스핏 쿠타짐 영등포</td>\n",
       "      <td>20221020</td>\n",
       "      <td>NaN</td>\n",
       "      <td>NaN</td>\n",
       "      <td>13</td>\n",
       "      <td>영업중</td>\n",
       "      <td>서울특별시 영등포구 선유동2로 9 케이타워 지하1층 (양평동3가)</td>\n",
       "      <td>서울특별시 영등포구 양평동3가 77-53 케이타워 지하1층</td>\n",
       "    </tr>\n",
       "    <tr>\n",
       "      <th>5448</th>\n",
       "      <td>크로스핏 긱스</td>\n",
       "      <td>20221020</td>\n",
       "      <td>NaN</td>\n",
       "      <td>NaN</td>\n",
       "      <td>13</td>\n",
       "      <td>영업중</td>\n",
       "      <td>서울특별시 영등포구 양평로12가길 4 지하1층 (당산동6가)</td>\n",
       "      <td>서울특별시 영등포구 당산동6가 347-6 지하1층</td>\n",
       "    </tr>\n",
       "    <tr>\n",
       "      <th>5449</th>\n",
       "      <td>짐구석</td>\n",
       "      <td>20190625</td>\n",
       "      <td>NaN</td>\n",
       "      <td>NaN</td>\n",
       "      <td>13</td>\n",
       "      <td>영업중</td>\n",
       "      <td>서울특별시 송파구 위례광장로 200 에스비트램스퀘어 10층 (장지동)</td>\n",
       "      <td>서울특별시 송파구 장지동 881-5 에스비트램스퀘어</td>\n",
       "    </tr>\n",
       "    <tr>\n",
       "      <th>5450</th>\n",
       "      <td>와이짐(Y GYM)</td>\n",
       "      <td>20221021</td>\n",
       "      <td>NaN</td>\n",
       "      <td>NaN</td>\n",
       "      <td>13</td>\n",
       "      <td>영업중</td>\n",
       "      <td>서울특별시 강남구 강남대로132길 59 2층 (논현동)</td>\n",
       "      <td>서울특별시 강남구 논현동 42-7</td>\n",
       "    </tr>\n",
       "  </tbody>\n",
       "</table>\n",
       "<p>5451 rows × 8 columns</p>\n",
       "</div>"
      ],
      "text/plain": [
       "              사업장명     인허가일자  인허가취소일자        폐업일자  상세영업상태코드 상세영업상태명  \\\n",
       "0           신화헬스클럽  19930701      NaN  20040417.0         3      폐업   \n",
       "1             성수헬스  19940127      NaN  20011106.0         3      폐업   \n",
       "2             유통헬스  20040729      NaN  20220421.0         3      폐업   \n",
       "3             J-PT  20220516      NaN         NaN        13     영업중   \n",
       "4     메이크유 필라테스&PT  20200131      NaN         NaN        13     영업중   \n",
       "...            ...       ...      ...         ...       ...     ...   \n",
       "5446          스타트짐  20221020      NaN         NaN        13     영업중   \n",
       "5447  크로스핏 쿠타짐 영등포  20221020      NaN         NaN        13     영업중   \n",
       "5448       크로스핏 긱스  20221020      NaN         NaN        13     영업중   \n",
       "5449           짐구석  20190625      NaN         NaN        13     영업중   \n",
       "5450    와이짐(Y GYM)  20221021      NaN         NaN        13     영업중   \n",
       "\n",
       "                                       도로명주소                              지번주소  \n",
       "0                                        NaN            서울특별시 성동구 홍익동 162-1번지   \n",
       "1             서울특별시 성동구 아차산로7길 14-1  (성수동2가)        서울특별시 성동구 성수동2가 289-243번지   \n",
       "2        서울특별시 영등포구 영등포로 109 (당산동2가 영등포유통상가)             서울특별시 영등포구 당산동2가 30-2  \n",
       "3                   서울특별시 중랑구 공릉로 18 3층 (묵동)               서울특별시 중랑구 묵동 174-29  \n",
       "4          서울특별시 구로구 경인로 397 골든타워빌딩 4층 (고척동)    서울특별시 구로구 고척동 76-160 골든타워빌딩 4층  \n",
       "...                                      ...                               ...  \n",
       "5446       서울특별시 강서구 양천로59길 46 대일빌딩 4층 (가양동)         서울특별시 강서구 가양동 1488-8 대일빌딩  \n",
       "5447    서울특별시 영등포구 선유동2로 9 케이타워 지하1층 (양평동3가)  서울특별시 영등포구 양평동3가 77-53 케이타워 지하1층  \n",
       "5448       서울특별시 영등포구 양평로12가길 4 지하1층 (당산동6가)       서울특별시 영등포구 당산동6가 347-6 지하1층  \n",
       "5449  서울특별시 송파구 위례광장로 200 에스비트램스퀘어 10층 (장지동)      서울특별시 송파구 장지동 881-5 에스비트램스퀘어  \n",
       "5450          서울특별시 강남구 강남대로132길 59 2층 (논현동)                서울특별시 강남구 논현동 42-7  \n",
       "\n",
       "[5451 rows x 8 columns]"
      ]
     },
     "execution_count": 19,
     "metadata": {},
     "output_type": "execute_result"
    }
   ],
   "source": [
    "df1"
   ]
  },
  {
   "cell_type": "code",
   "execution_count": 20,
   "id": "c9257442",
   "metadata": {},
   "outputs": [
    {
     "data": {
      "text/html": [
       "<div>\n",
       "<style scoped>\n",
       "    .dataframe tbody tr th:only-of-type {\n",
       "        vertical-align: middle;\n",
       "    }\n",
       "\n",
       "    .dataframe tbody tr th {\n",
       "        vertical-align: top;\n",
       "    }\n",
       "\n",
       "    .dataframe thead th {\n",
       "        text-align: right;\n",
       "    }\n",
       "</style>\n",
       "<table border=\"1\" class=\"dataframe\">\n",
       "  <thead>\n",
       "    <tr style=\"text-align: right;\">\n",
       "      <th></th>\n",
       "      <th>사업장명</th>\n",
       "      <th>인허가일자</th>\n",
       "      <th>인허가취소일자</th>\n",
       "      <th>폐업일자</th>\n",
       "      <th>상세영업상태코드</th>\n",
       "      <th>상세영업상태명</th>\n",
       "      <th>도로명주소</th>\n",
       "      <th>지번주소</th>\n",
       "    </tr>\n",
       "  </thead>\n",
       "  <tbody>\n",
       "    <tr>\n",
       "      <th>0</th>\n",
       "      <td>시골근육</td>\n",
       "      <td>20200724</td>\n",
       "      <td>NaN</td>\n",
       "      <td>NaN</td>\n",
       "      <td>13</td>\n",
       "      <td>영업중</td>\n",
       "      <td>경기도 가평군 설악면 한서로 206</td>\n",
       "      <td>경기도 가평군 설악면 위곡리 783-3</td>\n",
       "    </tr>\n",
       "    <tr>\n",
       "      <th>1</th>\n",
       "      <td>멋GYM휘트니스센터</td>\n",
       "      <td>20170510</td>\n",
       "      <td>NaN</td>\n",
       "      <td>NaN</td>\n",
       "      <td>13</td>\n",
       "      <td>영업중</td>\n",
       "      <td>경기도 가평군 조종면 현창로 25</td>\n",
       "      <td>경기도 가평군 조종면 현리 410-18</td>\n",
       "    </tr>\n",
       "    <tr>\n",
       "      <th>2</th>\n",
       "      <td>BBMC헬스클럽</td>\n",
       "      <td>20170113</td>\n",
       "      <td>NaN</td>\n",
       "      <td>NaN</td>\n",
       "      <td>13</td>\n",
       "      <td>영업중</td>\n",
       "      <td>경기도 가평군 가평읍 석봉로 209 (준수대중목욕탕)</td>\n",
       "      <td>경기도 가평군 가평읍 읍내리 637-6번지</td>\n",
       "    </tr>\n",
       "    <tr>\n",
       "      <th>3</th>\n",
       "      <td>Y휘트니스</td>\n",
       "      <td>20171116</td>\n",
       "      <td>NaN</td>\n",
       "      <td>NaN</td>\n",
       "      <td>13</td>\n",
       "      <td>영업중</td>\n",
       "      <td>경기도 가평군 설악면 신천중앙로 130</td>\n",
       "      <td>경기도 가평군 설악면 신천리 450-1</td>\n",
       "    </tr>\n",
       "    <tr>\n",
       "      <th>4</th>\n",
       "      <td>스페이스 헬스클럽</td>\n",
       "      <td>20040209</td>\n",
       "      <td>NaN</td>\n",
       "      <td>NaN</td>\n",
       "      <td>13</td>\n",
       "      <td>영업중</td>\n",
       "      <td>경기도 가평군 청평면 경춘로 807-11</td>\n",
       "      <td>경기도 가평군 청평면 청평리 445-3</td>\n",
       "    </tr>\n",
       "    <tr>\n",
       "      <th>...</th>\n",
       "      <td>...</td>\n",
       "      <td>...</td>\n",
       "      <td>...</td>\n",
       "      <td>...</td>\n",
       "      <td>...</td>\n",
       "      <td>...</td>\n",
       "      <td>...</td>\n",
       "      <td>...</td>\n",
       "    </tr>\n",
       "    <tr>\n",
       "      <th>4954</th>\n",
       "      <td>별장스포츠센터</td>\n",
       "      <td>20000128</td>\n",
       "      <td>NaN</td>\n",
       "      <td>20150923.0</td>\n",
       "      <td>3</td>\n",
       "      <td>폐업</td>\n",
       "      <td>경기도 화성시 장안면 흥천길 84-34</td>\n",
       "      <td>경기도 화성시 장안면 사곡리 736-4</td>\n",
       "    </tr>\n",
       "    <tr>\n",
       "      <th>4955</th>\n",
       "      <td>Dr.K Muscle&amp;Beauty</td>\n",
       "      <td>20100728</td>\n",
       "      <td>NaN</td>\n",
       "      <td>20200824.0</td>\n",
       "      <td>3</td>\n",
       "      <td>폐업</td>\n",
       "      <td>경기도 화성시 동탄공원로2길 33-9 (반송동)</td>\n",
       "      <td>경기도 화성시 반송동 50-8</td>\n",
       "    </tr>\n",
       "    <tr>\n",
       "      <th>4956</th>\n",
       "      <td>퍼펙트바디</td>\n",
       "      <td>20120604</td>\n",
       "      <td>NaN</td>\n",
       "      <td>20130603.0</td>\n",
       "      <td>3</td>\n",
       "      <td>폐업</td>\n",
       "      <td>경기도 화성시 동탄반석로 156, 108호 (반송동)</td>\n",
       "      <td>경기도 화성시 반송동 93-9 하이페리온 108호</td>\n",
       "    </tr>\n",
       "    <tr>\n",
       "      <th>4957</th>\n",
       "      <td>바디앤소울스포츠</td>\n",
       "      <td>20110208</td>\n",
       "      <td>NaN</td>\n",
       "      <td>20160218.0</td>\n",
       "      <td>3</td>\n",
       "      <td>폐업</td>\n",
       "      <td>경기도 화성시 동탄중앙로 220,  401호 (반송동,메타폴리스 상가동)</td>\n",
       "      <td>경기도 화성시 반송동 96 메타폴리스 상가동 401호</td>\n",
       "    </tr>\n",
       "    <tr>\n",
       "      <th>4958</th>\n",
       "      <td>크로스핏마블</td>\n",
       "      <td>20140626</td>\n",
       "      <td>NaN</td>\n",
       "      <td>20170501.0</td>\n",
       "      <td>3</td>\n",
       "      <td>폐업</td>\n",
       "      <td>경기도 화성시 노작로 161, 지하1층 (반송동, 신라스테이동탄)</td>\n",
       "      <td>경기도 화성시 반송동 92-6</td>\n",
       "    </tr>\n",
       "  </tbody>\n",
       "</table>\n",
       "<p>4959 rows × 8 columns</p>\n",
       "</div>"
      ],
      "text/plain": [
       "                    사업장명     인허가일자  인허가취소일자        폐업일자  상세영업상태코드 상세영업상태명  \\\n",
       "0                   시골근육  20200724      NaN         NaN        13     영업중   \n",
       "1             멋GYM휘트니스센터  20170510      NaN         NaN        13     영업중   \n",
       "2               BBMC헬스클럽  20170113      NaN         NaN        13     영업중   \n",
       "3                  Y휘트니스  20171116      NaN         NaN        13     영업중   \n",
       "4              스페이스 헬스클럽  20040209      NaN         NaN        13     영업중   \n",
       "...                  ...       ...      ...         ...       ...     ...   \n",
       "4954             별장스포츠센터  20000128      NaN  20150923.0         3      폐업   \n",
       "4955  Dr.K Muscle&Beauty  20100728      NaN  20200824.0         3      폐업   \n",
       "4956               퍼펙트바디  20120604      NaN  20130603.0         3      폐업   \n",
       "4957            바디앤소울스포츠  20110208      NaN  20160218.0         3      폐업   \n",
       "4958              크로스핏마블  20140626      NaN  20170501.0         3      폐업   \n",
       "\n",
       "                                         도로명주소                           지번주소  \n",
       "0                          경기도 가평군 설악면 한서로 206         경기도 가평군 설악면 위곡리 783-3   \n",
       "1                           경기도 가평군 조종면 현창로 25         경기도 가평군 조종면 현리 410-18   \n",
       "2                경기도 가평군 가평읍 석봉로 209 (준수대중목욕탕)       경기도 가평군 가평읍 읍내리 637-6번지   \n",
       "3                        경기도 가평군 설악면 신천중앙로 130         경기도 가평군 설악면 신천리 450-1   \n",
       "4                       경기도 가평군 청평면 경춘로 807-11         경기도 가평군 청평면 청평리 445-3   \n",
       "...                                        ...                            ...  \n",
       "4954                     경기도 화성시 장안면 흥천길 84-34         경기도 화성시 장안면 사곡리 736-4   \n",
       "4955                경기도 화성시 동탄공원로2길 33-9 (반송동)              경기도 화성시 반송동 50-8   \n",
       "4956             경기도 화성시 동탄반석로 156, 108호 (반송동)    경기도 화성시 반송동 93-9 하이페리온 108호  \n",
       "4957  경기도 화성시 동탄중앙로 220,  401호 (반송동,메타폴리스 상가동)  경기도 화성시 반송동 96 메타폴리스 상가동 401호  \n",
       "4958      경기도 화성시 노작로 161, 지하1층 (반송동, 신라스테이동탄)              경기도 화성시 반송동 92-6   \n",
       "\n",
       "[4959 rows x 8 columns]"
      ]
     },
     "execution_count": 20,
     "metadata": {},
     "output_type": "execute_result"
    }
   ],
   "source": [
    "df2"
   ]
  },
  {
   "cell_type": "code",
   "execution_count": 21,
   "id": "9b6b15a8",
   "metadata": {},
   "outputs": [],
   "source": [
    "df_Sudogwon = pd.DataFrame()\n",
    "for file in ['경기헬스장현황_가공.csv', '서울헬스장현황_가공.csv']:\n",
    "    df = pd.read_csv(file, encoding='cp949', index_col = 0)\n",
    "    df_Sudogwon = pd.concat([df_Sudogwon, df])\n"
   ]
  },
  {
   "cell_type": "code",
   "execution_count": 22,
   "id": "5b3de95d",
   "metadata": {},
   "outputs": [
    {
     "data": {
      "text/html": [
       "<div>\n",
       "<style scoped>\n",
       "    .dataframe tbody tr th:only-of-type {\n",
       "        vertical-align: middle;\n",
       "    }\n",
       "\n",
       "    .dataframe tbody tr th {\n",
       "        vertical-align: top;\n",
       "    }\n",
       "\n",
       "    .dataframe thead th {\n",
       "        text-align: right;\n",
       "    }\n",
       "</style>\n",
       "<table border=\"1\" class=\"dataframe\">\n",
       "  <thead>\n",
       "    <tr style=\"text-align: right;\">\n",
       "      <th></th>\n",
       "      <th>사업장명</th>\n",
       "      <th>인허가일자</th>\n",
       "      <th>인허가취소일자</th>\n",
       "      <th>폐업일자</th>\n",
       "      <th>상세영업상태코드</th>\n",
       "      <th>상세영업상태명</th>\n",
       "      <th>도로명주소</th>\n",
       "      <th>지번주소</th>\n",
       "    </tr>\n",
       "  </thead>\n",
       "  <tbody>\n",
       "    <tr>\n",
       "      <th>0</th>\n",
       "      <td>시골근육</td>\n",
       "      <td>20200724</td>\n",
       "      <td>NaN</td>\n",
       "      <td>NaN</td>\n",
       "      <td>13</td>\n",
       "      <td>영업중</td>\n",
       "      <td>경기도 가평군 설악면 한서로 206</td>\n",
       "      <td>경기도 가평군 설악면 위곡리 783-3</td>\n",
       "    </tr>\n",
       "    <tr>\n",
       "      <th>1</th>\n",
       "      <td>멋GYM휘트니스센터</td>\n",
       "      <td>20170510</td>\n",
       "      <td>NaN</td>\n",
       "      <td>NaN</td>\n",
       "      <td>13</td>\n",
       "      <td>영업중</td>\n",
       "      <td>경기도 가평군 조종면 현창로 25</td>\n",
       "      <td>경기도 가평군 조종면 현리 410-18</td>\n",
       "    </tr>\n",
       "    <tr>\n",
       "      <th>2</th>\n",
       "      <td>BBMC헬스클럽</td>\n",
       "      <td>20170113</td>\n",
       "      <td>NaN</td>\n",
       "      <td>NaN</td>\n",
       "      <td>13</td>\n",
       "      <td>영업중</td>\n",
       "      <td>경기도 가평군 가평읍 석봉로 209 (준수대중목욕탕)</td>\n",
       "      <td>경기도 가평군 가평읍 읍내리 637-6번지</td>\n",
       "    </tr>\n",
       "    <tr>\n",
       "      <th>3</th>\n",
       "      <td>Y휘트니스</td>\n",
       "      <td>20171116</td>\n",
       "      <td>NaN</td>\n",
       "      <td>NaN</td>\n",
       "      <td>13</td>\n",
       "      <td>영업중</td>\n",
       "      <td>경기도 가평군 설악면 신천중앙로 130</td>\n",
       "      <td>경기도 가평군 설악면 신천리 450-1</td>\n",
       "    </tr>\n",
       "    <tr>\n",
       "      <th>4</th>\n",
       "      <td>스페이스 헬스클럽</td>\n",
       "      <td>20040209</td>\n",
       "      <td>NaN</td>\n",
       "      <td>NaN</td>\n",
       "      <td>13</td>\n",
       "      <td>영업중</td>\n",
       "      <td>경기도 가평군 청평면 경춘로 807-11</td>\n",
       "      <td>경기도 가평군 청평면 청평리 445-3</td>\n",
       "    </tr>\n",
       "    <tr>\n",
       "      <th>...</th>\n",
       "      <td>...</td>\n",
       "      <td>...</td>\n",
       "      <td>...</td>\n",
       "      <td>...</td>\n",
       "      <td>...</td>\n",
       "      <td>...</td>\n",
       "      <td>...</td>\n",
       "      <td>...</td>\n",
       "    </tr>\n",
       "    <tr>\n",
       "      <th>5446</th>\n",
       "      <td>스타트짐</td>\n",
       "      <td>20221020</td>\n",
       "      <td>NaN</td>\n",
       "      <td>NaN</td>\n",
       "      <td>13</td>\n",
       "      <td>영업중</td>\n",
       "      <td>서울특별시 강서구 양천로59길 46 대일빌딩 4층 (가양동)</td>\n",
       "      <td>서울특별시 강서구 가양동 1488-8 대일빌딩</td>\n",
       "    </tr>\n",
       "    <tr>\n",
       "      <th>5447</th>\n",
       "      <td>크로스핏 쿠타짐 영등포</td>\n",
       "      <td>20221020</td>\n",
       "      <td>NaN</td>\n",
       "      <td>NaN</td>\n",
       "      <td>13</td>\n",
       "      <td>영업중</td>\n",
       "      <td>서울특별시 영등포구 선유동2로 9 케이타워 지하1층 (양평동3가)</td>\n",
       "      <td>서울특별시 영등포구 양평동3가 77-53 케이타워 지하1층</td>\n",
       "    </tr>\n",
       "    <tr>\n",
       "      <th>5448</th>\n",
       "      <td>크로스핏 긱스</td>\n",
       "      <td>20221020</td>\n",
       "      <td>NaN</td>\n",
       "      <td>NaN</td>\n",
       "      <td>13</td>\n",
       "      <td>영업중</td>\n",
       "      <td>서울특별시 영등포구 양평로12가길 4 지하1층 (당산동6가)</td>\n",
       "      <td>서울특별시 영등포구 당산동6가 347-6 지하1층</td>\n",
       "    </tr>\n",
       "    <tr>\n",
       "      <th>5449</th>\n",
       "      <td>짐구석</td>\n",
       "      <td>20190625</td>\n",
       "      <td>NaN</td>\n",
       "      <td>NaN</td>\n",
       "      <td>13</td>\n",
       "      <td>영업중</td>\n",
       "      <td>서울특별시 송파구 위례광장로 200 에스비트램스퀘어 10층 (장지동)</td>\n",
       "      <td>서울특별시 송파구 장지동 881-5 에스비트램스퀘어</td>\n",
       "    </tr>\n",
       "    <tr>\n",
       "      <th>5450</th>\n",
       "      <td>와이짐(Y GYM)</td>\n",
       "      <td>20221021</td>\n",
       "      <td>NaN</td>\n",
       "      <td>NaN</td>\n",
       "      <td>13</td>\n",
       "      <td>영업중</td>\n",
       "      <td>서울특별시 강남구 강남대로132길 59 2층 (논현동)</td>\n",
       "      <td>서울특별시 강남구 논현동 42-7</td>\n",
       "    </tr>\n",
       "  </tbody>\n",
       "</table>\n",
       "<p>10410 rows × 8 columns</p>\n",
       "</div>"
      ],
      "text/plain": [
       "              사업장명     인허가일자  인허가취소일자  폐업일자  상세영업상태코드 상세영업상태명  \\\n",
       "0             시골근육  20200724      NaN   NaN        13     영업중   \n",
       "1       멋GYM휘트니스센터  20170510      NaN   NaN        13     영업중   \n",
       "2         BBMC헬스클럽  20170113      NaN   NaN        13     영업중   \n",
       "3            Y휘트니스  20171116      NaN   NaN        13     영업중   \n",
       "4        스페이스 헬스클럽  20040209      NaN   NaN        13     영업중   \n",
       "...            ...       ...      ...   ...       ...     ...   \n",
       "5446          스타트짐  20221020      NaN   NaN        13     영업중   \n",
       "5447  크로스핏 쿠타짐 영등포  20221020      NaN   NaN        13     영업중   \n",
       "5448       크로스핏 긱스  20221020      NaN   NaN        13     영업중   \n",
       "5449           짐구석  20190625      NaN   NaN        13     영업중   \n",
       "5450    와이짐(Y GYM)  20221021      NaN   NaN        13     영업중   \n",
       "\n",
       "                                       도로명주소                              지번주소  \n",
       "0                        경기도 가평군 설악면 한서로 206            경기도 가평군 설악면 위곡리 783-3   \n",
       "1                         경기도 가평군 조종면 현창로 25            경기도 가평군 조종면 현리 410-18   \n",
       "2              경기도 가평군 가평읍 석봉로 209 (준수대중목욕탕)          경기도 가평군 가평읍 읍내리 637-6번지   \n",
       "3                      경기도 가평군 설악면 신천중앙로 130            경기도 가평군 설악면 신천리 450-1   \n",
       "4                     경기도 가평군 청평면 경춘로 807-11            경기도 가평군 청평면 청평리 445-3   \n",
       "...                                      ...                               ...  \n",
       "5446       서울특별시 강서구 양천로59길 46 대일빌딩 4층 (가양동)         서울특별시 강서구 가양동 1488-8 대일빌딩  \n",
       "5447    서울특별시 영등포구 선유동2로 9 케이타워 지하1층 (양평동3가)  서울특별시 영등포구 양평동3가 77-53 케이타워 지하1층  \n",
       "5448       서울특별시 영등포구 양평로12가길 4 지하1층 (당산동6가)       서울특별시 영등포구 당산동6가 347-6 지하1층  \n",
       "5449  서울특별시 송파구 위례광장로 200 에스비트램스퀘어 10층 (장지동)      서울특별시 송파구 장지동 881-5 에스비트램스퀘어  \n",
       "5450          서울특별시 강남구 강남대로132길 59 2층 (논현동)                서울특별시 강남구 논현동 42-7  \n",
       "\n",
       "[10410 rows x 8 columns]"
      ]
     },
     "execution_count": 22,
     "metadata": {},
     "output_type": "execute_result"
    }
   ],
   "source": [
    "df_Sudogwon"
   ]
  },
  {
   "cell_type": "code",
   "execution_count": 23,
   "id": "38a260ca",
   "metadata": {},
   "outputs": [],
   "source": [
    "df_Sudogwon.to_csv(\"수도권헬스장현황_가공.csv\", mode = 'w', encoding = 'cp949')"
   ]
  },
  {
   "cell_type": "markdown",
   "id": "f1bb7f5b",
   "metadata": {},
   "source": [
    "# 가공 끝 -> 수도권헬스장현황_가공.csv 활용해서 matplotlib 그래프"
   ]
  },
  {
   "cell_type": "code",
   "execution_count": 40,
   "id": "7680820d",
   "metadata": {},
   "outputs": [],
   "source": [
    "df_final = pd.read_csv('수도권헬스장현황_가공.csv', encoding='cp949')"
   ]
  },
  {
   "cell_type": "code",
   "execution_count": 41,
   "id": "b34146d0",
   "metadata": {},
   "outputs": [
    {
     "name": "stdout",
     "output_type": "stream",
     "text": [
      "<class 'pandas.core.frame.DataFrame'>\n",
      "RangeIndex: 10410 entries, 0 to 10409\n",
      "Data columns (total 9 columns):\n",
      " #   Column      Non-Null Count  Dtype  \n",
      "---  ------      --------------  -----  \n",
      " 0   Unnamed: 0  10410 non-null  int64  \n",
      " 1   사업장명        10410 non-null  object \n",
      " 2   인허가일자       10410 non-null  int64  \n",
      " 3   인허가취소일자     8 non-null      float64\n",
      " 4   폐업일자        3916 non-null   float64\n",
      " 5   상세영업상태코드    10410 non-null  int64  \n",
      " 6   상세영업상태명     10410 non-null  object \n",
      " 7   도로명주소       10070 non-null  object \n",
      " 8   지번주소        10338 non-null  object \n",
      "dtypes: float64(2), int64(3), object(4)\n",
      "memory usage: 732.1+ KB\n"
     ]
    }
   ],
   "source": [
    "df_final.info()"
   ]
  },
  {
   "cell_type": "code",
   "execution_count": 42,
   "id": "a39ae794",
   "metadata": {},
   "outputs": [
    {
     "name": "stdout",
     "output_type": "stream",
     "text": [
      "<class 'pandas.core.frame.DataFrame'>\n",
      "RangeIndex: 10410 entries, 0 to 10409\n",
      "Data columns (total 9 columns):\n",
      " #   Column      Non-Null Count  Dtype         \n",
      "---  ------      --------------  -----         \n",
      " 0   Unnamed: 0  10410 non-null  int64         \n",
      " 1   사업장명        10410 non-null  object        \n",
      " 2   인허가일자       10409 non-null  datetime64[ns]\n",
      " 3   인허가취소일자     8 non-null      datetime64[ns]\n",
      " 4   폐업일자        3916 non-null   datetime64[ns]\n",
      " 5   상세영업상태코드    10410 non-null  int64         \n",
      " 6   상세영업상태명     10410 non-null  object        \n",
      " 7   도로명주소       10070 non-null  object        \n",
      " 8   지번주소        10338 non-null  object        \n",
      "dtypes: datetime64[ns](3), int64(2), object(4)\n",
      "memory usage: 732.1+ KB\n"
     ]
    }
   ],
   "source": [
    "df_final['인허가일자'] = pd.to_datetime(df_final['인허가일자'], errors = 'coerce', format='%Y%m%d') \n",
    "df_final['인허가취소일자'] = pd.to_datetime(df_final['인허가취소일자'], errors = 'coerce', format='%Y%m%d') \n",
    "df_final['폐업일자'] = pd.to_datetime(df_final['폐업일자'], errors = 'coerce', format='%Y%m%d')\n",
    "df_final.info()"
   ]
  },
  {
   "cell_type": "code",
   "execution_count": 43,
   "id": "ea87bba5",
   "metadata": {},
   "outputs": [
    {
     "data": {
      "text/html": [
       "<div>\n",
       "<style scoped>\n",
       "    .dataframe tbody tr th:only-of-type {\n",
       "        vertical-align: middle;\n",
       "    }\n",
       "\n",
       "    .dataframe tbody tr th {\n",
       "        vertical-align: top;\n",
       "    }\n",
       "\n",
       "    .dataframe thead th {\n",
       "        text-align: right;\n",
       "    }\n",
       "</style>\n",
       "<table border=\"1\" class=\"dataframe\">\n",
       "  <thead>\n",
       "    <tr style=\"text-align: right;\">\n",
       "      <th></th>\n",
       "      <th>Unnamed: 0</th>\n",
       "      <th>사업장명</th>\n",
       "      <th>인허가일자</th>\n",
       "      <th>인허가취소일자</th>\n",
       "      <th>폐업일자</th>\n",
       "      <th>상세영업상태코드</th>\n",
       "      <th>상세영업상태명</th>\n",
       "      <th>도로명주소</th>\n",
       "      <th>지번주소</th>\n",
       "    </tr>\n",
       "  </thead>\n",
       "  <tbody>\n",
       "    <tr>\n",
       "      <th>0</th>\n",
       "      <td>0</td>\n",
       "      <td>시골근육</td>\n",
       "      <td>2020-07-24</td>\n",
       "      <td>NaT</td>\n",
       "      <td>NaT</td>\n",
       "      <td>13</td>\n",
       "      <td>영업중</td>\n",
       "      <td>경기도 가평군 설악면 한서로 206</td>\n",
       "      <td>경기도 가평군 설악면 위곡리 783-3</td>\n",
       "    </tr>\n",
       "    <tr>\n",
       "      <th>1</th>\n",
       "      <td>1</td>\n",
       "      <td>멋GYM휘트니스센터</td>\n",
       "      <td>2017-05-10</td>\n",
       "      <td>NaT</td>\n",
       "      <td>NaT</td>\n",
       "      <td>13</td>\n",
       "      <td>영업중</td>\n",
       "      <td>경기도 가평군 조종면 현창로 25</td>\n",
       "      <td>경기도 가평군 조종면 현리 410-18</td>\n",
       "    </tr>\n",
       "    <tr>\n",
       "      <th>2</th>\n",
       "      <td>2</td>\n",
       "      <td>BBMC헬스클럽</td>\n",
       "      <td>2017-01-13</td>\n",
       "      <td>NaT</td>\n",
       "      <td>NaT</td>\n",
       "      <td>13</td>\n",
       "      <td>영업중</td>\n",
       "      <td>경기도 가평군 가평읍 석봉로 209 (준수대중목욕탕)</td>\n",
       "      <td>경기도 가평군 가평읍 읍내리 637-6번지</td>\n",
       "    </tr>\n",
       "    <tr>\n",
       "      <th>3</th>\n",
       "      <td>3</td>\n",
       "      <td>Y휘트니스</td>\n",
       "      <td>2017-11-16</td>\n",
       "      <td>NaT</td>\n",
       "      <td>NaT</td>\n",
       "      <td>13</td>\n",
       "      <td>영업중</td>\n",
       "      <td>경기도 가평군 설악면 신천중앙로 130</td>\n",
       "      <td>경기도 가평군 설악면 신천리 450-1</td>\n",
       "    </tr>\n",
       "    <tr>\n",
       "      <th>4</th>\n",
       "      <td>4</td>\n",
       "      <td>스페이스 헬스클럽</td>\n",
       "      <td>2004-02-09</td>\n",
       "      <td>NaT</td>\n",
       "      <td>NaT</td>\n",
       "      <td>13</td>\n",
       "      <td>영업중</td>\n",
       "      <td>경기도 가평군 청평면 경춘로 807-11</td>\n",
       "      <td>경기도 가평군 청평면 청평리 445-3</td>\n",
       "    </tr>\n",
       "  </tbody>\n",
       "</table>\n",
       "</div>"
      ],
      "text/plain": [
       "   Unnamed: 0        사업장명      인허가일자 인허가취소일자 폐업일자  상세영업상태코드 상세영업상태명  \\\n",
       "0           0        시골근육 2020-07-24     NaT  NaT        13     영업중   \n",
       "1           1  멋GYM휘트니스센터 2017-05-10     NaT  NaT        13     영업중   \n",
       "2           2    BBMC헬스클럽 2017-01-13     NaT  NaT        13     영업중   \n",
       "3           3       Y휘트니스 2017-11-16     NaT  NaT        13     영업중   \n",
       "4           4   스페이스 헬스클럽 2004-02-09     NaT  NaT        13     영업중   \n",
       "\n",
       "                           도로명주소                      지번주소  \n",
       "0            경기도 가평군 설악면 한서로 206    경기도 가평군 설악면 위곡리 783-3   \n",
       "1             경기도 가평군 조종면 현창로 25    경기도 가평군 조종면 현리 410-18   \n",
       "2  경기도 가평군 가평읍 석봉로 209 (준수대중목욕탕)  경기도 가평군 가평읍 읍내리 637-6번지   \n",
       "3          경기도 가평군 설악면 신천중앙로 130    경기도 가평군 설악면 신천리 450-1   \n",
       "4         경기도 가평군 청평면 경춘로 807-11    경기도 가평군 청평면 청평리 445-3   "
      ]
     },
     "execution_count": 43,
     "metadata": {},
     "output_type": "execute_result"
    }
   ],
   "source": [
    "df_final.head(5)"
   ]
  },
  {
   "cell_type": "code",
   "execution_count": null,
   "id": "d5fa8b9a",
   "metadata": {},
   "outputs": [],
   "source": []
  },
  {
   "cell_type": "code",
   "execution_count": 61,
   "id": "b5b84276",
   "metadata": {},
   "outputs": [
    {
     "data": {
      "image/png": "[encoded data removed]",
      "text/plain": [
       "<Figure size 432x288 with 1 Axes>"
      ]
     },
     "metadata": {
      "needs_background": "light"
     },
     "output_type": "display_data"
    }
   ],
   "source": [
    "plt.title('연도별 신규 업장 추이')\n",
    "df_final.groupby(df_final['인허가일자'].dt.year)['인허가일자'].count().plot(c= 'k',marker = 'o')\n",
    "plt.xlabel(\"연도\")\n",
    "plt.ylabel(\"신규 업장 수\")\n",
    "plt.grid(True)\n",
    "plt.show()"
   ]
  },
  {
   "cell_type": "code",
   "execution_count": 60,
   "id": "08321055",
   "metadata": {},
   "outputs": [
    {
     "data": {
      "image/png": "[encoded data removed]",
      "text/plain": [
       "<Figure size 432x288 with 1 Axes>"
      ]
     },
     "metadata": {
      "needs_background": "light"
     },
     "output_type": "display_data"
    }
   ],
   "source": [
    "plt.title('연도별 폐업장 추이')\n",
    "df_final[df_final['상세영업상태명'] == '폐업'].groupby(df_final['폐업일자'].dt.year)['폐업일자'].count().plot(c = 'k', marker = 'o')\n",
    "plt.xlabel(\"연도\")\n",
    "plt.ylabel(\"폐업장 수\")\n",
    "plt.grid(True)\n",
    "plt.show()"
   ]
  },
  {
   "cell_type": "code",
   "execution_count": null,
   "id": "1f778e7d",
   "metadata": {},
   "outputs": [],
   "source": []
  },
  {
   "cell_type": "code",
   "execution_count": null,
   "id": "db1548f9",
   "metadata": {},
   "outputs": [],
   "source": []
  },
  {
   "cell_type": "code",
   "execution_count": null,
   "id": "afe5be46",
   "metadata": {},
   "outputs": [],
   "source": []
  },
  {
   "cell_type": "code",
   "execution_count": null,
   "id": "2aace438",
   "metadata": {},
   "outputs": [],
   "source": []
  },
  {
   "cell_type": "code",
   "execution_count": null,
   "id": "42fdeee8",
   "metadata": {},
   "outputs": [],
   "source": []
  },
  {
   "cell_type": "code",
   "execution_count": null,
   "id": "6bb6fc20",
   "metadata": {},
   "outputs": [],
   "source": []
  },
  {
   "cell_type": "code",
   "execution_count": null,
   "id": "bf059bff",
   "metadata": {},
   "outputs": [],
   "source": []
  },
  {
   "cell_type": "code",
   "execution_count": null,
   "id": "60269bdc",
   "metadata": {},
   "outputs": [],
   "source": []
  },
  {
   "cell_type": "code",
   "execution_count": null,
   "id": "17f3fbfc",
   "metadata": {},
   "outputs": [],
   "source": []
  },
  {
   "cell_type": "code",
   "execution_count": null,
   "id": "f58f4f58",
   "metadata": {},
   "outputs": [],
   "source": []
  },
  {
   "cell_type": "code",
   "execution_count": null,
   "id": "6bc3d899",
   "metadata": {},
   "outputs": [],
   "source": []
  },
  {
   "cell_type": "code",
   "execution_count": null,
   "id": "af410ed2",
   "metadata": {},
   "outputs": [],
   "source": []
  },
  {
   "cell_type": "code",
   "execution_count": null,
   "id": "7c799b70",
   "metadata": {},
   "outputs": [],
   "source": []
  },
  {
   "cell_type": "code",
   "execution_count": null,
   "id": "bbbf7627",
   "metadata": {},
   "outputs": [],
   "source": []
  },
  {
   "cell_type": "code",
   "execution_count": null,
   "id": "ddc542bb",
   "metadata": {},
   "outputs": [],
   "source": []
  },
  {
   "cell_type": "code",
   "execution_count": 6,
   "id": "138c82e7",
   "metadata": {},
   "outputs": [
    {
     "data": {
      "text/plain": [
       "<AxesSubplot:title={'center':'연도별 신규 업장 추이'}, xlabel='인허가일자', ylabel='신규 업장 수'>"
      ]
     },
     "execution_count": 6,
     "metadata": {},
     "output_type": "execute_result"
    },
    {
     "data": {
      "image/png": "[encoded data removed]",
      "text/plain": [
       "<Figure size 432x288 with 1 Axes>"
      ]
     },
     "metadata": {
      "needs_background": "light"
     },
     "output_type": "display_data"
    }
   ],
   "source": [
    "plt.title(\"연도별 신규 업장 추이\")\n",
    "plt.xlabel(\"연도\")\n",
    "plt.ylabel(\"신규 업장 수\")\n",
    "df_Seoul.groupby(df_Seoul['인허가일자'].dt.year)['영업상태명'].count().plot(marker = 'o', ms = 5)"
   ]
  },
  {
   "cell_type": "code",
   "execution_count": 21,
   "id": "32c2f4a6",
   "metadata": {},
   "outputs": [
    {
     "ename": "AttributeError",
     "evalue": "Can only use .dt accessor with datetimelike values",
     "output_type": "error",
     "traceback": [
      "\u001b[0;31m---------------------------------------------------------------------------\u001b[0m",
      "\u001b[0;31mAttributeError\u001b[0m                            Traceback (most recent call last)",
      "Input \u001b[0;32mIn [21]\u001b[0m, in \u001b[0;36m<cell line: 1>\u001b[0;34m()\u001b[0m\n\u001b[0;32m----> 1\u001b[0m df_Seoul[df_Seoul[\u001b[38;5;124m'\u001b[39m\u001b[38;5;124m상세영업상태명\u001b[39m\u001b[38;5;124m'\u001b[39m] \u001b[38;5;241m==\u001b[39m \u001b[38;5;124m'\u001b[39m\u001b[38;5;124m폐업\u001b[39m\u001b[38;5;124m'\u001b[39m]\u001b[38;5;241m.\u001b[39mgroupby(\u001b[43mdf_Seoul\u001b[49m\u001b[43m[\u001b[49m\u001b[38;5;124;43m'\u001b[39;49m\u001b[38;5;124;43m폐업일자\u001b[39;49m\u001b[38;5;124;43m'\u001b[39;49m\u001b[43m]\u001b[49m\u001b[38;5;241;43m.\u001b[39;49m\u001b[43mdt\u001b[49m\u001b[38;5;241m.\u001b[39myear)[\u001b[38;5;124m'\u001b[39m\u001b[38;5;124m폐업일자\u001b[39m\u001b[38;5;124m'\u001b[39m]\u001b[38;5;241m.\u001b[39mcount()\u001b[38;5;241m.\u001b[39mplot(marker \u001b[38;5;241m=\u001b[39m \u001b[38;5;124m'\u001b[39m\u001b[38;5;124mo\u001b[39m\u001b[38;5;124m'\u001b[39m, ms \u001b[38;5;241m=\u001b[39m \u001b[38;5;241m5\u001b[39m)\n\u001b[1;32m      2\u001b[0m plt\u001b[38;5;241m.\u001b[39mtitle(\u001b[38;5;124m\"\u001b[39m\u001b[38;5;124m연도별 폐업장 추이\u001b[39m\u001b[38;5;124m\"\u001b[39m)\n\u001b[1;32m      3\u001b[0m plt\u001b[38;5;241m.\u001b[39mylabel(\u001b[38;5;124m\"\u001b[39m\u001b[38;5;124m폐업장 수\u001b[39m\u001b[38;5;124m\"\u001b[39m)\n",
      "File \u001b[0;32m/opt/anaconda3/lib/python3.9/site-packages/pandas/core/generic.py:5575\u001b[0m, in \u001b[0;36mNDFrame.__getattr__\u001b[0;34m(self, name)\u001b[0m\n\u001b[1;32m   5568\u001b[0m \u001b[38;5;28;01mif\u001b[39;00m (\n\u001b[1;32m   5569\u001b[0m     name \u001b[38;5;129;01mnot\u001b[39;00m \u001b[38;5;129;01min\u001b[39;00m \u001b[38;5;28mself\u001b[39m\u001b[38;5;241m.\u001b[39m_internal_names_set\n\u001b[1;32m   5570\u001b[0m     \u001b[38;5;129;01mand\u001b[39;00m name \u001b[38;5;129;01mnot\u001b[39;00m \u001b[38;5;129;01min\u001b[39;00m \u001b[38;5;28mself\u001b[39m\u001b[38;5;241m.\u001b[39m_metadata\n\u001b[1;32m   5571\u001b[0m     \u001b[38;5;129;01mand\u001b[39;00m name \u001b[38;5;129;01mnot\u001b[39;00m \u001b[38;5;129;01min\u001b[39;00m \u001b[38;5;28mself\u001b[39m\u001b[38;5;241m.\u001b[39m_accessors\n\u001b[1;32m   5572\u001b[0m     \u001b[38;5;129;01mand\u001b[39;00m \u001b[38;5;28mself\u001b[39m\u001b[38;5;241m.\u001b[39m_info_axis\u001b[38;5;241m.\u001b[39m_can_hold_identifiers_and_holds_name(name)\n\u001b[1;32m   5573\u001b[0m ):\n\u001b[1;32m   5574\u001b[0m     \u001b[38;5;28;01mreturn\u001b[39;00m \u001b[38;5;28mself\u001b[39m[name]\n\u001b[0;32m-> 5575\u001b[0m \u001b[38;5;28;01mreturn\u001b[39;00m \u001b[38;5;28;43mobject\u001b[39;49m\u001b[38;5;241;43m.\u001b[39;49m\u001b[38;5;21;43m__getattribute__\u001b[39;49m\u001b[43m(\u001b[49m\u001b[38;5;28;43mself\u001b[39;49m\u001b[43m,\u001b[49m\u001b[43m \u001b[49m\u001b[43mname\u001b[49m\u001b[43m)\u001b[49m\n",
      "File \u001b[0;32m/opt/anaconda3/lib/python3.9/site-packages/pandas/core/accessor.py:182\u001b[0m, in \u001b[0;36mCachedAccessor.__get__\u001b[0;34m(self, obj, cls)\u001b[0m\n\u001b[1;32m    179\u001b[0m \u001b[38;5;28;01mif\u001b[39;00m obj \u001b[38;5;129;01mis\u001b[39;00m \u001b[38;5;28;01mNone\u001b[39;00m:\n\u001b[1;32m    180\u001b[0m     \u001b[38;5;66;03m# we're accessing the attribute of the class, i.e., Dataset.geo\u001b[39;00m\n\u001b[1;32m    181\u001b[0m     \u001b[38;5;28;01mreturn\u001b[39;00m \u001b[38;5;28mself\u001b[39m\u001b[38;5;241m.\u001b[39m_accessor\n\u001b[0;32m--> 182\u001b[0m accessor_obj \u001b[38;5;241m=\u001b[39m \u001b[38;5;28;43mself\u001b[39;49m\u001b[38;5;241;43m.\u001b[39;49m\u001b[43m_accessor\u001b[49m\u001b[43m(\u001b[49m\u001b[43mobj\u001b[49m\u001b[43m)\u001b[49m\n\u001b[1;32m    183\u001b[0m \u001b[38;5;66;03m# Replace the property with the accessor object. Inspired by:\u001b[39;00m\n\u001b[1;32m    184\u001b[0m \u001b[38;5;66;03m# https://www.pydanny.com/cached-property.html\u001b[39;00m\n\u001b[1;32m    185\u001b[0m \u001b[38;5;66;03m# We need to use object.__setattr__ because we overwrite __setattr__ on\u001b[39;00m\n\u001b[1;32m    186\u001b[0m \u001b[38;5;66;03m# NDFrame\u001b[39;00m\n\u001b[1;32m    187\u001b[0m \u001b[38;5;28mobject\u001b[39m\u001b[38;5;241m.\u001b[39m\u001b[38;5;21m__setattr__\u001b[39m(obj, \u001b[38;5;28mself\u001b[39m\u001b[38;5;241m.\u001b[39m_name, accessor_obj)\n",
      "File \u001b[0;32m/opt/anaconda3/lib/python3.9/site-packages/pandas/core/indexes/accessors.py:509\u001b[0m, in \u001b[0;36mCombinedDatetimelikeProperties.__new__\u001b[0;34m(cls, data)\u001b[0m\n\u001b[1;32m    506\u001b[0m \u001b[38;5;28;01melif\u001b[39;00m is_period_dtype(data\u001b[38;5;241m.\u001b[39mdtype):\n\u001b[1;32m    507\u001b[0m     \u001b[38;5;28;01mreturn\u001b[39;00m PeriodProperties(data, orig)\n\u001b[0;32m--> 509\u001b[0m \u001b[38;5;28;01mraise\u001b[39;00m \u001b[38;5;167;01mAttributeError\u001b[39;00m(\u001b[38;5;124m\"\u001b[39m\u001b[38;5;124mCan only use .dt accessor with datetimelike values\u001b[39m\u001b[38;5;124m\"\u001b[39m)\n",
      "\u001b[0;31mAttributeError\u001b[0m: Can only use .dt accessor with datetimelike values"
     ]
    }
   ],
   "source": [
    "df_Seoul[df_Seoul['상세영업상태명'] == '폐업'].groupby(df_Seoul['폐업일자'].dt.year)['폐업일자'].count().plot(marker = 'o', ms = 5)\n",
    "plt.title(\"연도별 폐업장 추이\")\n",
    "plt.ylabel(\"폐업장 수\")\n",
    "plt.xlabel(\"연도\")\n",
    "\n"
   ]
  },
  {
   "cell_type": "code",
   "execution_count": 21,
   "id": "f7e01144",
   "metadata": {},
   "outputs": [
    {
     "data": {
      "text/plain": [
       "<AxesSubplot:title={'center':'연도별 신규 업장 추이'}, xlabel='인허가일자', ylabel='신규 업장 수'>"
      ]
     },
     "execution_count": 21,
     "metadata": {},
     "output_type": "execute_result"
    },
    {
     "data": {
      "image/png": "[encoded data removed]",
      "text/plain": [
       "<Figure size 432x288 with 1 Axes>"
      ]
     },
     "metadata": {
      "needs_background": "light"
     },
     "output_type": "display_data"
    }
   ],
   "source": [
    "plt.title(\"연도별 신규 업장 추이\")\n",
    "plt.xlabel(\"연도\")\n",
    "plt.ylabel(\"신규 업장 수\")\n",
    "df_GG.groupby(df_GG['인허가일자'].dt.year)['영업상태명'].count().plot(marker = 'o', ms = 5)"
   ]
  },
  {
   "cell_type": "code",
   "execution_count": 30,
   "id": "4db94555",
   "metadata": {},
   "outputs": [
    {
     "data": {
      "text/plain": [
       "<AxesSubplot:title={'center':'연도별 폐업장 추이'}, xlabel='폐업일자', ylabel='폐업장 수'>"
      ]
     },
     "execution_count": 30,
     "metadata": {},
     "output_type": "execute_result"
    },
    {
     "data": {
      "image/png": "[encoded data removed]",
      "text/plain": [
       "<Figure size 432x288 with 1 Axes>"
      ]
     },
     "metadata": {
      "needs_background": "light"
     },
     "output_type": "display_data"
    }
   ],
   "source": [
    "plt.title(\"연도별 폐업장 추이\")\n",
    "plt.ylabel(\"폐업장 수\")\n",
    "\n",
    "df_GG[df_GG['영업상태명'] == '폐업'].groupby(df_GG['폐업일자'].dt.year)['폐업일자'].count().plot(marker = 'o', ms = 5)"
   ]
  },
  {
   "cell_type": "code",
   "execution_count": null,
   "id": "135a02a7",
   "metadata": {},
   "outputs": [],
   "source": []
  }
 ],
 "metadata": {
  "kernelspec": {
   "display_name": "Python 3 (ipykernel)",
   "language": "python",
   "name": "python3"
  },
  "language_info": {
   "codemirror_mode": {
    "name": "ipython",
    "version": 3
   },
   "file_extension": ".py",
   "mimetype": "text/x-python",
   "name": "python",
   "nbconvert_exporter": "python",
   "pygments_lexer": "ipython3",
   "version": "3.9.12"
  }
 },
 "nbformat": 4,
 "nbformat_minor": 5
}
