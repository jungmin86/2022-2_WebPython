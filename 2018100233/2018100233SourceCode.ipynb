{
 "cells": [
  {
   "cell_type": "code",
   "execution_count": null,
   "id": "4d66ad85",
   "metadata": {},
   "outputs": [],
   "source": [
    "import pandas as pd\n",
    "import numpy as np\n",
    "import selenium\n",
    "from selenium import webdriver\n",
    "from selenium.webdriver.common.by import By\n",
    "import os\n",
    "import zipfile\n",
    "import matplotlib.pyplot as plt\n",
    "from matplotlib import rc\n",
    "\n",
    "class Gym:        \n",
    "    def get_zip(self): # 크롤링을 통해 웹에서 zip 파일을 다운로드 받는 메소드\n",
    "        self.condition = {'savefile.default_directory': os.getcwd(), 'download.default_directory': os.getcwd()} #해당 디렉토리로 저장 위치 설정\n",
    "        self.chrome_options = webdriver.ChromeOptions()\n",
    "        self.chrome_options.add_experimental_option('prefs', self.condition)\n",
    "        self.driver = webdriver.Chrome(options=self.chrome_options) # chromedriver가 해당 디렉토리에 존재해야 가능\n",
    "        self.driver.get(\"https://www.data.go.kr/data/15045048/fileData.do#\") # 원하는 url(원하는 공공데이터)로 이동\n",
    "        self.download_btn = self.driver.find_element(By.XPATH, '//*[@id=\"data-url-btn\"]') #'바로가기' 버튼 찾기\n",
    "        self.download_url = self.download_btn.get_attribute('href') #'바로가기' 버튼을 누르면 이동하는 url을 self.download_url에 대입\n",
    "        self.driver.get(self.download_url) #다운로드를 위한 url로 이동\n",
    "        print(\"zip 파일 다운로드 완료\")\n",
    "        \n",
    "    def decompress_zip(self): # 해당 디렉토리에 있는 zip파일 압축해제\n",
    "        self.file = '10_42_01_P_CSV.zip' #다운로드되는 zip 파일\n",
    "        with zipfile.ZipFile(self.file, 'r') as z:\n",
    "            infos = z.infolist()\n",
    "            for info in infos:\n",
    "                info.filename = \"original.csv\" #압축해제 후 파일명을 'original.csv'으로 설정\n",
    "                z.extract(info) #해당 파일 압축해제\n",
    "        print(\"압축 해제 완료\")\n",
    "    \n",
    "    def csv_to_df(self, csv= './original.csv'): # csv 파일을 df로 불러오기\n",
    "        self.group = pd.read_csv(csv, chunksize = 1000, encoding='cp949') #1000개 단위로 나누어 group에 할당\n",
    "        self.group = list(self.group)\n",
    "        self.df = pd.concat(self.group) # group을 병합해서 self.df(데이터프레임)에 대입\n",
    "        print(\"데이터프레임(df) 생성 완료\")\n",
    "        return self.df\n",
    "\n",
    "class Data(Gym): # 파생 클래스\n",
    "    \n",
    "    def __init__(self): # 생성자\n",
    "        self.regions = {\"서울특별시\": \"Seoul\", \"부산광역시\": \"Busan\", \"인천광역시\": \"Incheon\", \"대구광역시\": \"Daegu\", \"대전광역시\": \"Daejeon\", \"광주광역시\": \"Gwangju\", \"울산광역시\": \"Ulsan\", \"세종특별자치시\": \"Sejong\", \"경기도\": \"Gyeonggi\", \"강원도\": \"Gangwon\", \"충청북도\": \"Chungbuk\", \"충청남도\": \"Chungnam\", \"전라북도\": \"Jeonbuk\", \"전라남도\": \"Jeonnam\", \"경상북도\": \"Gyeongbuk\", \"경상남도\": \"Gyeongnam\", \"제주특별자치도\": \"Jeju\"}\n",
    "        # 행정구역을 국문(키): 영문(밸류)의 쌍으로 묶은 딕셔너리 생성\n",
    "        print('행정구역 dictionary 생성 완료')\n",
    "        \n",
    "    def extract_cols(self):\n",
    "        self.df_necessary = self.df.loc[:,['사업장명', '인허가일자', '인허가취소일자','휴업시작일자', '휴업종료일자', '폐업일자', '영업상태명', '소재지전체주소', '도로명전체주소']]\n",
    "        print(\"필요한 컬럼 추출 완료\")\n",
    "        return self.df_necessary\n",
    "        \n",
    "    def create_cols(self): # 필요한 컬럼 생성\n",
    "        self.df_necessary.loc[:,'주소'] = np.where(self.df_necessary.loc[:,'도로명전체주소'].notnull() , self.df_necessary['도로명전체주소'], self.df_necessary['소재지전체주소'])\n",
    "        # 도로명전체주소를 기본값으로 하되, 도로명전체주소가 없는 경우엔(결측치) 소재지전체주소를 가져오는 컬럼 생성\n",
    "        self.df_necessary.loc[:,'폐업,전출,휴업,취소,말소여부'] = np.where(self.df_necessary.loc[:,'인허가취소일자'].notnull() | self.df_necessary.loc[:,'휴업시작일자'].notnull() | self.df_necessary.loc[:,'폐업일자'].notnull(), 1, 0)\n",
    "        # 인허가취소일자, 휴업시작일자, 폐업일자 중 하나라도 null이 아니라면 1 반환, 모두 null이라면 0을 반환하는 컬럼 생성\n",
    "        self.df_necessary.loc[:, '폐업,전출,휴업,취소,말소일자'] = self.df_necessary.loc[:, ['인허가취소일자', '폐업일자', '휴업시작일자']].max(axis=1)\n",
    "        # 인허가취소일자, 휴업시작일자, 폐업일자 중 가장 큰 값(가장 최신 날짜로 해석 가능)을 가져오는 컬럼 생성\n",
    "        print(\"필요한 컬럼 가공 및 추가 완료\")\n",
    "        return self.df_necessary\n",
    "        \n",
    "    def convert_type(self, cols=['폐업,전출,휴업,취소,말소일자', '인허가일자'], d_format='%Y%m%d'): # 필요한 컬럼에 대해 날짜 형식으로 바꿔주는 메소드\n",
    "        for col in cols: \n",
    "            self.df_necessary.loc[:,col] = pd.to_datetime(self.df_necessary.loc[:,col], format= d_format) # 리스트 형식으로 받은 cols 파라미터에 포함된 컬럼들의 형식을 d_format 파라미터의 형식으로 변환\n",
    "        print(\"날짜 형식으로 형변환 완료\")\n",
    "        return self.df_necessary\n",
    "            \n",
    "    def extract_year(self, cols = ['폐업,전출,휴업,취소,말소일자', '인허가일자'], date='Y'):\n",
    "        for col in cols: \n",
    "            self.df_necessary.loc[:,col[0:-2]+'연도'] = self.df_necessary.loc[:, col].dt.to_period(date) # 리스트 형식으로 받은 cols 파라미터에 포함된 (날짜)컬럼들을 date 파라미터에 해당하는 기준까지 추출한 컬럼 생성\n",
    "        print(\"날짜 형식에서 연도만 추출 완료\")\n",
    "        return self.df_necessary\n",
    "    \n",
    "    def create_region_df(self):\n",
    "        for region in self.regions.keys():\n",
    "            globals()['df_{}'.format(self.regions[region])] = self.df_necessary[(self.df_necessary['주소'].str.contains(region, na = False))]\n",
    "            # 데이터프레임의 '주소' 컬럼에서 regions에 있는 key(국문)에 해당하는 행정구역을 포함하는 행들만을 가지는 'df_영문' 형식의 데이터프레임 생성\n",
    "        print(\"지역별 데이터프레임 생성 완료\")\n",
    "    \n",
    "    def region_df_to_csv(self, region): # 데이터프레임을 csv로 추출하는 메소드\n",
    "        if region == '전국':\n",
    "            self.df_necessary.to_csv(f\"./{region}+Korea.csv\", sep = \",\", index = False, mode= \"w\",encoding='cp949')\n",
    "            # 전국의 데이터프레임은 결국 self.df_necessary이므로, 해당 데이터프레임을 '전국+Korea.csv'의 형식으로 csv 파일 생성\n",
    "        else:\n",
    "            globals()['df_{}'.format(self.regions[region])].to_csv(f\"./{region}+{self.regions[region]}.csv\", sep = \",\", index = False, mode= \"w\",encoding='cp949')\n",
    "            # 원하는 지역에 해당하는 데이터프레임(위에서 생성)을 '국문+영문.csv'의 형식으로 csv 파일 생성\n",
    "        \n",
    "    \n",
    "    def show_graph(self, region):\n",
    "        rc('font', family='AppleGothic') # 폰트가 깨지는 것을 방지\n",
    "        plt.rcParams['axes.unicode_minus'] = False # 마이너스 부호 표시 오류를 방지\n",
    "        if region == '전국': # 전국의 헬스장 추이 (df_necessary가 곧 전국에 대한 데이터프레임)\n",
    "            self.inflow = self.df_necessary.groupby(self.df_necessary.loc[:,'인허가연도'])['인허가연도'].count()\n",
    "            print(f\"{region} 유입\\n\",self.inflow)\n",
    "            self.outflow = self.df_necessary.groupby(self.df_necessary.loc[:,'폐업,전출,휴업,취소,말소연도'])['폐업,전출,휴업,취소,말소여부'].sum()\n",
    "            print(f\"{region} 유출\\n\",self.outflow)\n",
    "            self.net_inflow = self.inflow.subtract(self.outflow, fill_value = 0) # 영업 중단의 경우, Nan 값이 존재하는데 이 경우 연산을 위해 0으로 값을 대치\n",
    "            print(f\"{region} 순유입\\n\",self.net_inflow)\n",
    "            self.net_inflow.plot(c = '#4CAF50', marker = 'o', ms = 5)\n",
    "            plt.xlim('1989', '2022') # x축의 범위\n",
    "            plt.xlabel(\"연도\")\n",
    "            plt.ylabel(\"업장 수\")\n",
    "            plt.title(f\"{region} 연도별 체력단련장업 순유입\") \n",
    "            plt.show()\n",
    "        else:\n",
    "            self.inflow = globals()['df_{}'.format(self.regions[region])].groupby(globals()['df_{}'.format(self.regions[region])].loc[:,'인허가연도'])['인허가연도'].count()\n",
    "            print(f\"{region} 유입\\n\", self.inflow)\n",
    "            self.outflow = globals()['df_{}'.format(self.regions[region])].groupby(globals()['df_{}'.format(self.regions[region])].loc[:,'폐업,전출,휴업,취소,말소연도'])['폐업,전출,휴업,취소,말소여부'].sum().fillna(0)\n",
    "            print(f\"{region} 유출\\n\",self.outflow)\n",
    "            self.net_inflow = self.inflow.subtract(self.outflow, fill_value = 0)\n",
    "            print(f\"{region} 순유입\\n\",self.net_inflow)\n",
    "            self.net_inflow.plot(c = '#4CAF50', marker = 'o', ms = 5)\n",
    "            plt.xlim('1989', '2022') # x축의 범위\n",
    "            plt.xlabel(\"연도\")\n",
    "            plt.ylabel(\"업장 수\")\n",
    "            plt.title(f\"{region} 연도별 체력단련장업 순유입\") \n",
    "            plt.show()\n",
    "    \n",
    "                "
   ]
  },
  {
   "cell_type": "code",
   "execution_count": null,
   "id": "d2099cf3",
   "metadata": {},
   "outputs": [],
   "source": [
    "data = Data()"
   ]
  },
  {
   "cell_type": "code",
   "execution_count": null,
   "id": "09b4a257",
   "metadata": {},
   "outputs": [],
   "source": [
    "data.get_zip()"
   ]
  },
  {
   "cell_type": "code",
   "execution_count": null,
   "id": "0b0911fd",
   "metadata": {},
   "outputs": [],
   "source": [
    "data.decompress_zip()"
   ]
  },
  {
   "cell_type": "code",
   "execution_count": null,
   "id": "1aa29a00",
   "metadata": {},
   "outputs": [],
   "source": [
    "data.csv_to_df()"
   ]
  },
  {
   "cell_type": "code",
   "execution_count": null,
   "id": "bd800467",
   "metadata": {},
   "outputs": [],
   "source": [
    "data.extract_cols()"
   ]
  },
  {
   "cell_type": "code",
   "execution_count": null,
   "id": "584a649c",
   "metadata": {},
   "outputs": [],
   "source": [
    "data.create_cols()"
   ]
  },
  {
   "cell_type": "code",
   "execution_count": null,
   "id": "b50a68ed",
   "metadata": {},
   "outputs": [],
   "source": [
    "data.convert_type(['폐업,전출,휴업,취소,말소일자', '인허가일자'], '%Y%m%d')"
   ]
  },
  {
   "cell_type": "code",
   "execution_count": null,
   "id": "edefd3c7",
   "metadata": {},
   "outputs": [],
   "source": [
    "data.extract_year(['폐업,전출,휴업,취소,말소일자', '인허가일자'],'Y')"
   ]
  },
  {
   "cell_type": "code",
   "execution_count": null,
   "id": "c569ed1d",
   "metadata": {},
   "outputs": [],
   "source": [
    "data.create_region_df()"
   ]
  },
  {
   "cell_type": "code",
   "execution_count": null,
   "id": "2dc028fc",
   "metadata": {},
   "outputs": [],
   "source": [
    "for region in data.regions.keys():\n",
    "    data.region_df_to_csv(region)\n",
    "    data.show_graph(region)"
   ]
  },
  {
   "cell_type": "code",
   "execution_count": null,
   "id": "b69a8d97",
   "metadata": {},
   "outputs": [],
   "source": [
    "region = '전국'\n",
    "data.region_df_to_csv(region)\n",
    "data.show_graph(region)"
   ]
  }
 ],
 "metadata": {
  "kernelspec": {
   "display_name": "Python 3 (ipykernel)",
   "language": "python",
   "name": "python3"
  },
  "language_info": {
   "codemirror_mode": {
    "name": "ipython",
    "version": 3
   },
   "file_extension": ".py",
   "mimetype": "text/x-python",
   "name": "python",
   "nbconvert_exporter": "python",
   "pygments_lexer": "ipython3",
   "version": "3.9.12"
  }
 },
 "nbformat": 4,
 "nbformat_minor": 5
}
