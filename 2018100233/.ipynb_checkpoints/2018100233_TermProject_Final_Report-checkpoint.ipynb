{
 "cells": [
  {
   "cell_type": "markdown",
   "id": "12ef3863",
   "metadata": {},
   "source": [
    "<h1> Term Project 최종보고 </h1>"
   ]
  },
  {
   "cell_type": "markdown",
   "id": "a914dc28",
   "metadata": {},
   "source": [
    "<h2> 주제: 코로나19 전후 국내(전국, 지역별) 실내 헬스장 흥행 현황 분석 </h2>"
   ]
  },
  {
   "cell_type": "markdown",
   "id": "41ca2686",
   "metadata": {},
   "source": [
    "- - -"
   ]
  },
  {
   "cell_type": "markdown",
   "id": "6a8331b6",
   "metadata": {},
   "source": [
    "> <h3> (1) 주제 선정 이유: 왜 이 주제(분야)를 선정하게 된 이유를 나열함 </h3>"
   ]
  },
  {
   "cell_type": "markdown",
   "id": "d136c37d",
   "metadata": {},
   "source": [
    "* ``코로나19``로 인한 영업시간 제한 및 사적모임 인원 제한 때문에 실내 체육시설업 자영업자들이 힘든 시기를 보냈다. \n",
    "\n",
    "\n",
    "\n",
    "\n",
    "\n",
    "\n",
    "\n",
    "\n"
   ]
  },
  {
   "cell_type": "markdown",
   "id": "a1ce6026",
   "metadata": {},
   "source": [
    "* 하지만 코로나19 관련 거리두기 정책에도 불구하고 점점 더 실내 체육의 인기는 상승해왔다고 생각한다."
   ]
  },
  {
   "cell_type": "markdown",
   "id": "7a861465",
   "metadata": {},
   "source": [
    "* 사람들은 거리두기로 인한 스트레스를 풀 방법으로 ``혼자 할 수 있는 운동``을 찾았다. <br>"
   ]
  },
  {
   "cell_type": "markdown",
   "id": "a3712554",
   "metadata": {},
   "source": [
    "* 개인적으로 느끼기에, 사람들이 코로나19 이전에는 축구, 농구 등 ``단체 종목``의 운동을 비교적 선호했던 것 같다. <br>"
   ]
  },
  {
   "cell_type": "markdown",
   "id": "963c7b46",
   "metadata": {},
   "source": [
    "* 그런데 이제 주변을 둘러보면, 단체 운동 못지 않게 헬스장에 찾는 사람들이 많아졌다. <br> 유튜브에서도 헬스 관련 유튜버들도 많아졌고, 그들의 구독자 수 역시 과거와 비교할 수 없을 정도로 증가했다."
   ]
  },
  {
   "cell_type": "markdown",
   "id": "a2cb48fc",
   "metadata": {},
   "source": [
    "* 헬스장에 직접 가보면, 과거와 달리 ``여성 회원``들도 상당수 많이 늘어난 것처럼 보였다. <br>"
   ]
  },
  {
   "cell_type": "markdown",
   "id": "89cc9016",
   "metadata": {},
   "source": [
    "* 위의 내용들은 군 전역 후인 2020년부터 계속 생각해왔던 것들이다. 하지만 어디까지나 ``생각 혹은 추측``일 뿐, 데이터에 의해 검증된 내용이 아니다."
   ]
  },
  {
   "cell_type": "markdown",
   "id": "8c0b3372",
   "metadata": {},
   "source": [
    "* 그래서 오랫동안 머릿속으로 생각만 해왔던 주제를 데이터로 검증해보고 싶어서 선정하였다. <br> 관심있는 분야에 대한 데이터 분석 경험은 앞으로의 다양한 파이썬 데이터 분석에 대한 흥미를 끌어올려줄 것이라고 생각했다."
   ]
  },
  {
   "cell_type": "markdown",
   "id": "91e489e5",
   "metadata": {},
   "source": [
    "---"
   ]
  },
  {
   "cell_type": "markdown",
   "id": "187b06cf",
   "metadata": {},
   "source": [
    "> <h3>(2) 가설 정의: 본인이 Term 프로젝트를 통해서 증명하고자 하는 명제 혹은 밝히고자 하는 논리가 무엇인지 설명함(본인이 얻고자 하는 것) </h3>"
   ]
  },
  {
   "cell_type": "markdown",
   "id": "ecbe8af3",
   "metadata": {},
   "source": [
    "* <strong>가설: 코로나19 유행 이후 혼자 할 수 있는 운동에 대한 관심이 증가하면서 폐업, 전출 휴업, 취소, 말소 등 소위 영업 중단 상태(이하 '영업 중단')로 전환된 업장 수보다 신규 업장의 수가 더 가파른 속도로 증가했을 것이다. 즉, 코로나19 이전보다 헬스장의 순유입이 증가했을 것이다. <br></strong>"
   ]
  },
  {
   "cell_type": "markdown",
   "id": "1ed0d082",
   "metadata": {},
   "source": [
    "* 해당 가설을 전국 단위, 그리고 17개의 행정구역 단위로 분석할 것이다."
   ]
  },
  {
   "cell_type": "markdown",
   "id": "e04f0a05",
   "metadata": {},
   "source": [
    "* 얻고자 하는 것: 누구나 말로는 할 수 있는, 또는 생각만 하던 주제를 수치로 증명함으로써 파이썬을 활용한 데이터 가공 / 분석 / 시각화 능력 향상"
   ]
  },
  {
   "cell_type": "markdown",
   "id": "8b217802",
   "metadata": {},
   "source": [
    "> <h3> (3) 인터넷을 통한 데이터 획득: 위의 명제/논리을 펼치기 위하여, 어디서 Python을 통해 어떻게 데이터를 획득했는지 구체적으로 나열함 </h3>"
   ]
  },
  {
   "cell_type": "markdown",
   "id": "cdf3bcab",
   "metadata": {},
   "source": [
    "<h4> 획득 (웹 크롤링) </h4>"
   ]
  },
  {
   "cell_type": "markdown",
   "id": "5275d045",
   "metadata": {},
   "source": [
    "* <strong>```selenium```</strong> 라이브러리를 이용해서 ``DATA.GO.KR``(https://www.data.go.kr/data/15045048/fileData.do)에서 '바로가기' 버튼을 클릭해서 <br> 현재 디렉토리에 zip 파일을 다운받았다. 이후 <strong>```zipfile, os```</strong> 라이브러리를 통해서 zip 파일의 압축을 풀고 csv 파일을 획득했다. <br> 마지막으로 <strong>```pandas```</strong> 라이브러리를 활용해서 csv를 pandas의 DataFrame(df)으로 불러왔다.\n",
    "\n"
   ]
  },
  {
   "cell_type": "markdown",
   "id": "29f33bbc",
   "metadata": {},
   "source": [
    "** 코드\n",
    "\n",
    "```def get_zip(self): # 크롤링을 통해 웹에서 zip파일을 가져온다.\n",
    "        self.condition = {'savefile.default_directory': os.getcwd(), 'download.default_directory': os.getcwd()}\n",
    "        self.chrome_options = webdriver.ChromeOptions()\n",
    "        self.chrome_options.add_experimental_option('prefs', self.condition)\n",
    "        self.driver = webdriver.Chrome(options=self.chrome_options) \n",
    "        self.driver.get(\"https://www.data.go.kr/data/15045048/fileData.do#\")\n",
    "        self.download_btn = self.driver.find_element(By.XPATH, '//*[@id=\"data-url-btn\"]')\n",
    "        self.download_url = self.download_btn.get_attribute('href')\n",
    "        self.driver.get(self.download_url)\n",
    "        print(\"zip 파일 다운로드 완료\")```"
   ]
  },
  {
   "cell_type": "markdown",
   "id": "d61f2b2f",
   "metadata": {},
   "source": [
    "** 코드\n",
    "\n",
    "```def decompress_zip(self): # 해당 디렉토리에 있는 zip파일 압축해제\n",
    "        self.file = '10_42_01_P_CSV.zip'\n",
    "        with zipfile.ZipFile(self.file, 'r') as z:\n",
    "            infos = z.infolist()\n",
    "            for info in infos:\n",
    "                info.filename = info.filename.encode('cp437').decode('euc-kr')\n",
    "                z.extract(info)\n",
    "        print(\"압축 해제 완료\")```"
   ]
  },
  {
   "cell_type": "markdown",
   "id": "77d5aed8",
   "metadata": {},
   "source": [
    "* 공부하던 중에 pandas는 용량이 큰 파일을 읽는 데에 최적화 되어 있지 않다는 것을 알게 되었다. <br> 그래서 ```pd.read_csv('서울시 체력단련장업 인허가 정보.csv', chunksize = 1000, encoding='cp949')```에서 <br> chunksize를 나누어 각각의 group 리스트로 저장한 후, pd.concat을 통해 병합해주었다. <br>\n"
   ]
  },
  {
   "cell_type": "markdown",
   "id": "a0406010",
   "metadata": {},
   "source": [
    "** 코드 \n",
    "\n",
    "```def csv_to_df(self, csv= './fulldata_10_42_01_P_체력단련장업.csv'): # csv 파일을 df로 불러오기\n",
    "        self.group = pd.read_csv(csv, chunksize = 1000, encoding='cp949')\n",
    "        self.group = list(self.group)\n",
    "        self.df = pd.concat(self.group)\n",
    "        print(\"데이터프레임(df) 생성 완료\")\n",
    "        return self.df```"
   ]
  },
  {
   "cell_type": "markdown",
   "id": "60600cba",
   "metadata": {},
   "source": [
    "<h4>수정사항</h4>"
   ]
  },
  {
   "cell_type": "markdown",
   "id": "d447375c",
   "metadata": {},
   "source": [
    "* 중간보고에서는 csv 파일을 직접 다운로드 받은 뒤에 분석할 계획이었지만, <br>크롤링을 이용해서 직접 페이지(https://www.data.go.kr/data/15045048/fileData.do)에 방문하지 않고 csv 파일을 불러올 수 있게끔 메소드를 정의하였다."
   ]
  },
  {
   "cell_type": "markdown",
   "id": "93bdb5ff",
   "metadata": {},
   "source": [
    "---"
   ]
  },
  {
   "cell_type": "markdown",
   "id": "61f5a49c",
   "metadata": {},
   "source": [
    "> <h3>(4) 분석을 위한 데이터의 가공: 데이터는 가공되지 않으면 의미가 없으므로, 어떻게 어떤 정보를 Pyhton으로 추출했는지 설명함 </h3>"
   ]
  },
  {
   "cell_type": "markdown",
   "id": "064b993e",
   "metadata": {},
   "source": [
    "<h4> 데이터프레임(df) 가공 (pandas 활용) </h4>"
   ]
  },
  {
   "cell_type": "markdown",
   "id": "dc05991a",
   "metadata": {},
   "source": [
    "* 우선 획득한 csv로부터 얻은 데이터프레임(df)에는 분석에 필요하지 않은 많은 컬럼들이 존재한다.<br> 분석 과정에서 이해하기 쉽게 분석에 필요한 컬럼만 추출했다. <br> 추출한 데이터프레임을 ```df_necessary```라는 데이터프레임에 할당했다.\n"
   ]
  },
  {
   "cell_type": "markdown",
   "id": "a957f65c",
   "metadata": {},
   "source": [
    "** 코드\n",
    "\n",
    "```def extract_cols(self):\n",
    "        self.df_necessary = self.df.loc[:,['사업장명', '인허가일자', '인허가취소일자','휴업시작일자', '휴업종료일자', '폐업일자', '영업상태명', '소재지전체주소', '도로명전체주소']]\n",
    "        print(\"필요한 컬럼 추출 완료\")\n",
    "        return self.df_necessary```"
   ]
  },
  {
   "cell_type": "markdown",
   "id": "b50582e0",
   "metadata": {},
   "source": [
    "<h4> 데이터프레임(df_necessary) 가공 (pandas, numpy 활용) </h4>"
   ]
  },
  {
   "cell_type": "markdown",
   "id": "d29e7a13",
   "metadata": {},
   "source": [
    "* 데이터 분석에 필요한 형태로 컬럼들을 가공하거나, 새로운 컬럼을 추가한다. <br> \n",
    "* 우선 ```'도로명전체주소'```와 ```'소재지전체주소'```(지번 주소)를 ```'주소'``` 컬럼에 통합했다. <br>기본적으로 '도로명전체주소'를 따르되, 해당 컬럼이 결측치인 경우에는 '소재지전체주소'를 할당했다. <br>\n",
    "* 또한 ```'폐업,전출,휴업,취소,말소여부'```컬럼을 생성했다. <br>```'인허가취소일자', '휴업시작일자', '폐업일자'``` 중 하나라도 결측치가 아니라면 1을, 모두 결측치라면 0을 나타낸다.<br> '인허가취소일자', '휴업시작일자', '폐업일자' 컬럼은 한 행에 대해서 2개 이상 존재하지 않는다. <br> 이어서 '인허가취소일자', '휴업시작일자', '폐업일자' 중 하나라도 결측치가 아니라면 해당하는 값을 나타내는 ```'폐업,전출,휴업,취소,말소일자'```컬럼도 생성했다. <br>\n",
    "* <strong>```pandas와 numpy를 활용한 조건절(np.where()) 이용```</strong>\n"
   ]
  },
  {
   "cell_type": "markdown",
   "id": "d802bc77",
   "metadata": {},
   "source": [
    "** 코드 \n",
    "\n",
    "```def create_cols(self):\n",
    "        self.df_necessary.loc[:,'주소'] = np.where(self.df_necessary.loc[:,'도로명전체주소'].notnull() , self.df_necessary['도로명전체주소'], self.df_necessary['소재지전체주소'])\n",
    "        self.df_necessary.loc[:,'폐업,전출,휴업,취소,말소여부'] = np.where(self.df_necessary.loc[:,'인허가취소일자'].notnull() | self.df_necessary.loc[:,'휴업시작일자'].notnull() | self.df_necessary.loc[:,'폐업일자'].notnull(), 1, 0)\n",
    "        self.df_necessary.loc[:, '폐업,전출,휴업,취소,말소일자'] = self.df_necessary.loc[:, ['인허가취소일자', '폐업일자', '휴업시작일자']].max(axis=1)\n",
    "        print(\"필요한 컬럼 가공 및 추가 완료\")\n",
    "        return self.df_necessary```"
   ]
  },
  {
   "cell_type": "markdown",
   "id": "17dff23c",
   "metadata": {},
   "source": [
    "* 연도별로 지역에 따라서 신규 인허가 업장과 폐업, 휴업, 취소, 말소, 만료, 정지 등의 상태인 업장의 수를 시각화해야하기 때문에 날짜에 관련된 컬럼들로부터 연도와 월만을 추출해야 한다. \n",
    "* 우선 여기서 분석에 사용되는 컬럼은 위에서 생성한 ```'인허가일자'```와 ```'폐업,전출,휴업,취소,말소일자'``` 컬럼이다.\n",
    "* 해당 컬럼들을 <strong>```pd.to_datetime```</strong>을 이용해서 datetime 형식으로 형변환을 해주었다. <br> 이어서 해당 컬럼들로부터 연도만을 추출한 ```'인허가연도'```와 ```'폐업,전출,휴업,취소,말소연도'```를 컬럼을 생성했다. <strong> (pandas의 dt.to_period()) 활용) </strong>"
   ]
  },
  {
   "cell_type": "markdown",
   "id": "066200a9",
   "metadata": {},
   "source": [
    "** 코드\n",
    "\n",
    "```def convert_type(self, cols=['폐업,전출,휴업,취소,말소일자', '인허가일자'], d_format='%Y%m%d'):\n",
    "        for col in cols:\n",
    "            self.df_necessary.loc[:,col] = pd.to_datetime(self.df_necessary.loc[:,col], format= d_format)\n",
    "        print(\"날짜 형식으로 형변환 완료\")\n",
    "        return self.df_necessary```\n",
    "            \n",
    "```def extract_year(self, cols = ['폐업,전출,휴업,취소,말소일자', '인허가일자'], date='Y'):\n",
    "        for col in cols:\n",
    "            self.df_necessary.loc[:,col[0:-2]+'연도'] = self.df_necessary.loc[:, col].dt.to_period(date)\n",
    "        print(\"날짜 형식에서 연도만 추출 완료\")\n",
    "        return self.df_necessary```"
   ]
  },
  {
   "cell_type": "markdown",
   "id": "df9e6a37",
   "metadata": {},
   "source": [
    "<h4> 데이터프레임 지역별로 분화 </h4>"
   ]
  },
  {
   "cell_type": "markdown",
   "id": "815f4620",
   "metadata": {},
   "source": [
    "* 분석을 위해 정의한 클래스 안에는 대한민국 행정구역을 나타내는 딕셔너리 변수(regions)가 존재한다. <br>\n",
    "```self.regions = {\"서울특별시\": \"Seoul\", \"부산광역시\": \"Busan\", \"인천광역시\": \"Incheon\", \"대구광역시\": \"Daegu\", \"대전광역시\": \"Daejeon\", \"광주광역시\": \"Gwangju\", \"울산광역시\": \"Ulsan\", \"세종특별자치시\": \"Sejong\", \"경기도\": \"Gyeonggi\", \"강원도\": \"Gangwon\", \"충청북도\": \"Chungbuk\", \"충청남도\": \"Chungnam\", \"전라북도\": \"Jeonbuk\", \"전라남도\": \"Jeonnam\", \"경상북도\": \"Gyeongbuk\", \"경상남도\": \"Gyeongnam\", \"제주특별자치도\": \"Jeju\"}```\n",
    "* regions의 key(국문 행정구역명)에 대해서 for문을 돌려서 '주소' 컬럼에서 해당 key를 포함하는 행들을 가지는 데이터프레임을 지역별로 각각 생성했다.\n",
    "* 지역별 데이터프레임의 이름은 df_{key값에 해당하는 value(영문 행정구역명)}이다. <br> ex.df_Seoul"
   ]
  },
  {
   "cell_type": "markdown",
   "id": "b73047f9",
   "metadata": {},
   "source": [
    "** 코드\n",
    "\n",
    "```def create_region_df(self):\n",
    "        for region in self.regions.keys():\n",
    "            globals()['df_{}'.format(self.regions[region])] = self.df_necessary[(self.df_necessary['주소'].str.contains(region, na = False))]\n",
    "        print(\"지역별 데이터프레임 생성 완료\")```"
   ]
  },
  {
   "cell_type": "markdown",
   "id": "89e9992d",
   "metadata": {},
   "source": [
    "* 마지막으로 원하는 지역을 파라미터로 받아서 해당 지역의 데이터프레임을 csv 파일로 내보내주는 메소드를 정의했다. <br> 해당 csv 파일의 이름은 '{key+value}.csv'이다. ```ex. 경기도+Gyeonggi.csv```\n"
   ]
  },
  {
   "cell_type": "markdown",
   "id": "77c6c1e4",
   "metadata": {},
   "source": [
    "** 코드\n",
    "\n",
    "```def region_df_to_csv(self, region):\n",
    "        if region == '전국':\n",
    "            self.df_necessary.to_csv(f\"./{region}+Korea.csv\", sep = \",\", index = False, mode= \"w\",encoding='cp949')\n",
    "        else:\n",
    "            globals()['df_{}'.format(self.regions[region])].to_csv(f\"./{region}+{self.regions[region]}.csv\", sep = \",\", index = False, mode= \"w\",encoding='cp949')```"
   ]
  },
  {
   "cell_type": "markdown",
   "id": "7ad04156",
   "metadata": {},
   "source": [
    "> <h3>(5) 분석 결과 도출: 수학적 방법 혹은 논리적 방법을 Python으로 구현함으로서, 프로그램을 통해서 결과를 도출함 </h3>"
   ]
  },
  {
   "cell_type": "markdown",
   "id": "cba661de",
   "metadata": {},
   "source": [
    "* 원하는 지역을 파라미터로 받아서 해당 지역의 연도별 체력단련장업 추이를 그래프로 나타낸다. <br> 전국에 해당하는 그래프를 보고싶으면 파라미터에 '전국'을 입력해주면 된다."
   ]
  },
  {
   "cell_type": "markdown",
   "id": "43fd4a0e",
   "metadata": {},
   "source": [
    "* 우선 한글이 깨지는 것을 방지하기 위해 폰트 설정을 해줘야 한다.  <br>\n",
    "```rc('font', family='AppleGothic')```"
   ]
  },
  {
   "cell_type": "markdown",
   "id": "c2f0b212",
   "metadata": {},
   "source": [
    "* 연도에 따른 신규 업장의 수를 구하는 방법은 ```'인허가연도'``` 컬럼을 기준으로 그룹화해서(groupby) 연도별로 ```'인허가연도'```컬럼을 카운트해주는 것이다. <br> 여기서 '인허가연도'컬럼을 카운트하는 이유는 결측치가 없기 때문이다."
   ]
  },
  {
   "cell_type": "markdown",
   "id": "063e02d5",
   "metadata": {},
   "source": [
    "* 폐업, 전출, 휴업, 취소, 말소 상태가 된 업장의 수를 연도별로 구하는 방법은 <br>```'폐업,전출,휴업,취소,말소연도'```컬럼을 기준으로 그룹화해서(groupby) 연도별로 ```'폐업,전출,휴업,취소,말소여부'```컬럼을 더해주는 것이다. <br> 말소여부는 0과 1로 구성되어있기 때문에 폐업, 전출, 휴업, 취소, 말소 상태에 해당된다면, 1을 더해주게 된다. 이는 해당 연도에 '영업 중단' 상태로 전환된 업장의 개수를 카운트하는 것 같은 효과를 낼 수 있다."
   ]
  },
  {
   "cell_type": "markdown",
   "id": "939e306f",
   "metadata": {},
   "source": [
    "* x축은 유효한 데이터들을 고려해서 1981년부터 2022년의 범위를 가지도록 설정했다."
   ]
  },
  {
   "cell_type": "markdown",
   "id": "7beec81e",
   "metadata": {},
   "source": [
    "** 코드\n",
    "\n",
    "```def show_graph(self, region):\n",
    "        rc('font', family='AppleGothic')\n",
    "        if region == '전국':\n",
    "            self.df_necessary.groupby(self.df_necessary.loc[:,'인허가연도'])['인허가연도'].count().plot(c = '#4CAF50', marker = 'o', ms = 5)\n",
    "            self.df_necessary.groupby(self.df_necessary.loc[:,'폐업,전출,휴업,취소,말소연도'])['폐업,전출,휴업,취소,말소여부'].sum().plot(color = 'r', ls = ':', marker = 'o', ms = 3)\n",
    "            plt.xlim('1981', '2022')\n",
    "            plt.xlabel(\"연도\")\n",
    "            plt.ylabel(\"업장 수\")\n",
    "            plt.title(f\"{region} 연도별 체력단련장업 추이\")\n",
    "            plt.show()\n",
    "        else:\n",
    "            globals()['df_{}'.format(self.regions[region])].groupby(self.df_necessary.loc[:,'인허가연도'])['인허가연도'].count().plot(c = '#4CAF50', marker = 'o', ms = 5)\n",
    "            globals()['df_{}'.format(self.regions[region])].groupby(self.df_necessary.loc[:,'폐업,전출,휴업,취소,말소연도'])['폐업,전출,휴업,취소,말소여부'].sum().plot(color = 'r', ls = ':', marker = 'o', ms = 3)\n",
    "            plt.xlim('1981', '2022')\n",
    "            plt.xlabel(\"연도\")\n",
    "            plt.ylabel(\"업장 수\")\n",
    "            plt.title(f\"{region} 연도별 체력단련장업 추이\")\n",
    "            plt.show()```"
   ]
  },
  {
   "cell_type": "markdown",
   "id": "7c91d20f",
   "metadata": {},
   "source": [
    "> <h3>(6) 결론: 본인의 명제/논리가 증명/확인 되었는지와 이를 구체적으로 서술함 </h3>"
   ]
  },
  {
   "cell_type": "markdown",
   "id": "6c9ae24d",
   "metadata": {},
   "source": [
    "* <strong>가설: 코로나19 이후 혼자 할 수 있는 운동에 대한 관심이 증가하면서 폐업, 전출 휴업, 취소, 말소 등 소위 영업 중단 상태(이하 '영업 중단'으로 통일)로 전환된 업장 수보다 신규 업장의 수가 더 가파른 속도로 증가했을 것이다. 즉, 코로나19 이전보다 헬스장의 순유입이 증가했을 것이다. <br></strong>"
   ]
  },
  {
   "cell_type": "markdown",
   "id": "c1897033",
   "metadata": {},
   "source": [
    "<h4> 전국 </h4>"
   ]
  },
  {
   "cell_type": "markdown",
   "id": "c5fb1b05",
   "metadata": {},
   "source": [
    "* 전국적으로 2010년대부터 신규 업장(유입)은 대체적으로 매년 증가하는 양상을 보인다. <br> 특히 2018년부터 2021년까지 급격히 매년 높은 증가폭을 보인다.<br> 2022년에는 2021년에 약간 못 미치는 신규 유입이지만, 데이터 분석 대상 csv가 2022년 10월 31일까지 반영된 점을 고려했을 때, 큰 차이라고 보기는 어렵다."
   ]
  },
  {
   "cell_type": "markdown",
   "id": "4a91a2ef",
   "metadata": {},
   "source": [
    "* 하지만 영업 중단의 상태(유출)로 전환된 업장 수는 2018년부터 이전에 없던 높은 수치를 보인다. <br> 하지만 코로나19가 유행한 2020년, 2021년, 2022년에는 전년도에 비해 계속 감소했다."
   ]
  },
  {
   "cell_type": "markdown",
   "id": "8df0abeb",
   "metadata": {},
   "source": [
    "* 따라서 코로나19 이후(2020년 이후) 헬스장 순유입(신규 유입 - 유출)은 계속해서 증가한다. <br> 따라서 전국적으로 운영 중인 헬스장의 수는 2020년 이후로 오히려 점점 증가하고 있다."
   ]
  },
  {
   "cell_type": "markdown",
   "id": "cdc8efb4",
   "metadata": {},
   "source": [
    "* ```즉, 전국적으로 보면 위에서 정의한 가설은 증명된다.\n",
    "코로나19 이후 영업 중단으로 전환된 업장 수는 오히려 2019년에 비해 지속적으로 감소 중이다. ```"
   ]
  },
  {
   "cell_type": "markdown",
   "id": "6d6c281c",
   "metadata": {},
   "source": [
    "<h4> 서울특별시 </h4>"
   ]
  },
  {
   "cell_type": "markdown",
   "id": "59b5363b",
   "metadata": {},
   "source": [
    "* 신규 유입 그래프는 전국의 신규 유입 그래프와 비슷한 양상을 띤다. <br> 이는 서울특별시와 경기도의 인구가 전국 인구의 45%에 육박하기 때문이다."
   ]
  },
  {
   "cell_type": "markdown",
   "id": "97f49e01",
   "metadata": {},
   "source": [
    "* 영업 중단이 된 업장의 수는 2016년부터 서서히 증가하고, 2021년에는 가파른 상승폭을 보인다. <br> 2022년에는 영업 중단이 된 업장 수가 2017년의 수준으로 급격히 감소한다."
   ]
  },
  {
   "cell_type": "markdown",
   "id": "b768dc23",
   "metadata": {},
   "source": [
    "* 따라서 위에서 정의한 가설은 증명된다. 2020년 이후의 기간에 대해서는, 비록 2021년에 영업 중단이 된 업장 수가 일시적으로 급격히 늘긴 했지만 헬스장의 신규 유입은 지속적으로 증가하고 있기 때문이다. 즉, 코로나19 이전보다 더 빠른 속도로 헬스장의 순유입이 증가하고 있다."
   ]
  },
  {
   "cell_type": "markdown",
   "id": "cb3a8e9d",
   "metadata": {},
   "source": [
    "<h4> 부산광역시 </h4>"
   ]
  },
  {
   "cell_type": "markdown",
   "id": "d07d8a71",
   "metadata": {},
   "source": [
    "* 부산의 경우, 신규 유입이 특이한 추이를 보인다. 2003년에 전례없는 신규 유입을 보였고, 아직까지 해당 수치에 달하는 수치를 보인 적이 없다."
   ]
  },
  {
   "cell_type": "markdown",
   "id": "d8ed9b8f",
   "metadata": {},
   "source": [
    "* 2020년 이후, 신규 유입의 경우에는 전국과 비슷한 상승 그래프를 그린다. "
   ]
  },
  {
   "cell_type": "markdown",
   "id": "d5285b8d",
   "metadata": {},
   "source": [
    "* 영업 중단의 경우, 2018년에 신규 유입을 뛰어넘는 수치를 보였으나, 2020년 이후에는 신규 유입의 30%에도 미치지 못하는 수치를 보인다."
   ]
  },
  {
   "cell_type": "markdown",
   "id": "445fbb77",
   "metadata": {},
   "source": [
    "* 따라서 위에서 정의한 가설은 증명된다. 즉, 코로나19 이전보다 더 빠른 속도로 헬스장의 순유입이 증가하고 있다."
   ]
  },
  {
   "cell_type": "markdown",
   "id": "a00fb480",
   "metadata": {},
   "source": [
    "<h4> 인천광역시 </h4>"
   ]
  },
  {
   "cell_type": "markdown",
   "id": "a9f3976b",
   "metadata": {},
   "source": [
    "* 인천의 신규 유입의 경우, 2009년부터 연마다 등락은 존재하지만 대체적으로 상승 그래프를 보인다."
   ]
  },
  {
   "cell_type": "markdown",
   "id": "c13d8a33",
   "metadata": {},
   "source": [
    "* 2019년부터 신규 유입은 가파른 기울기로 상승한다."
   ]
  },
  {
   "cell_type": "markdown",
   "id": "215397c0",
   "metadata": {},
   "source": [
    "* 유출의 경우에는 2018년에 신규 유입을 뛰어넘는 수치를 보였지만, 이후에는 2018년 수치의 절반에도 못 미치는 수치를 보인다. <br> 그래서 코로나19 이후의 기간에는 헬스장의 순유입이 이전보다 빠른 속도로 증가하고 있다."
   ]
  },
  {
   "cell_type": "markdown",
   "id": "b97c1cd6",
   "metadata": {},
   "source": [
    "* 따라서 정의한 가설은 증명된다."
   ]
  },
  {
   "cell_type": "markdown",
   "id": "403ed840",
   "metadata": {},
   "source": [
    "<h4> 대구광역시 </h4>"
   ]
  },
  {
   "cell_type": "markdown",
   "id": "9885eadd",
   "metadata": {},
   "source": [
    "* 대구의 경우, 2018년을 기점으로 신규 유입의 증가가 시작되었지만, 2018년과 2019년에는 영업 중단의 수치가 더 높았다. "
   ]
  },
  {
   "cell_type": "markdown",
   "id": "d436e746",
   "metadata": {},
   "source": [
    "* 그런데 코로나19 이후인 2020년 이후부터 신규 유입의 수치는 지속적으로 가파르게 증가하였고, 영업 중단의 경우는 가파르게 하락했다. <br> 2022년 영업 중단 업장 수는 신규 업장 수의 약 20%에 해당한다."
   ]
  },
  {
   "cell_type": "markdown",
   "id": "320d8051",
   "metadata": {},
   "source": [
    "* 따라서 정의한 가설은 증명된다."
   ]
  },
  {
   "cell_type": "markdown",
   "id": "5f0ae654",
   "metadata": {},
   "source": [
    "<h4> 대전광역시 </h4>"
   ]
  },
  {
   "cell_type": "markdown",
   "id": "535340a5",
   "metadata": {},
   "source": [
    "* 대전의 경우, 영업 중단의 수치가 비교적 들쑥날쑥한 모습을 보인다. 신규 업장 수치 역시 조금씩 상승 추세를 보이지만, 다른 행정구역에 비해 들쑥날쑥한 모습을 보인다. "
   ]
  },
  {
   "cell_type": "markdown",
   "id": "76c52456",
   "metadata": {},
   "source": [
    "* 그런데 2020년 이후에는 신규 유입 그래프가 뚜렷한 상승 추세에 있다. <br> 유출의 경우에는 2020년에 최고치를 달성했지만, 2021년에 전년도 수치의 약 20%의 수치를 보였고 2022년 역시 비슷한 수준이다. 따라서 2020년 이후의 기간 동안의 헬스장 순유입은 이전보다 증가했다."
   ]
  },
  {
   "cell_type": "markdown",
   "id": "d4ae6be8",
   "metadata": {},
   "source": [
    "* 따라서 정의한 가설은 증명된다."
   ]
  },
  {
   "cell_type": "markdown",
   "id": "bb0ad074",
   "metadata": {},
   "source": [
    "<h4> 광주광역시 </h4>"
   ]
  },
  {
   "cell_type": "markdown",
   "id": "6b1e4690",
   "metadata": {},
   "source": [
    "* 광주의 경우, 2020년 이후 신규 유입의 뚜렷한 증가가 보인다. "
   ]
  },
  {
   "cell_type": "markdown",
   "id": "d32629a2",
   "metadata": {},
   "source": [
    "* 이에 반해 엽업 중단의 경우는 오히려 2020년 이후 감소한다."
   ]
  },
  {
   "cell_type": "markdown",
   "id": "2b783e96",
   "metadata": {},
   "source": [
    "* 따라서 코로나19 이후 헬스장 순유입이 증가했기 때문에, 정의한 가설이 증명된다."
   ]
  },
  {
   "cell_type": "markdown",
   "id": "c9e742f7",
   "metadata": {},
   "source": [
    "<h4> 울산광역시 </h4>"
   ]
  },
  {
   "cell_type": "markdown",
   "id": "6a2571bb",
   "metadata": {},
   "source": [
    "* 울산의 경우, 신규 유입이 2020년부터 상승해서 2021년의 최고치를 달성하지만 2022년에 다시 2020년의 수준을 회복한다."
   ]
  },
  {
   "cell_type": "markdown",
   "id": "e0e542ec",
   "metadata": {},
   "source": [
    "* 영업 중단의 경우는 오히려 2019년에 최고치를 달성해서 순유출((신규 유입 - 영업 중단) < 0)을 발생시켰다. 반면에 2020년부터는 평소와 비슷한 수준의 유출 양상을 보인다."
   ]
  },
  {
   "cell_type": "markdown",
   "id": "9386fc2a",
   "metadata": {},
   "source": [
    "* 따라서 코로나19로 인해 영업 중단이 더 많이 발생했다고 보기 힘들고, 신규 유입은 증가했기 때문에 가설은 증명된다."
   ]
  },
  {
   "cell_type": "markdown",
   "id": "8cf37132",
   "metadata": {},
   "source": [
    "<h4> 세종특별자치시 </h4>"
   ]
  },
  {
   "cell_type": "markdown",
   "id": "eb7da288",
   "metadata": {},
   "source": [
    "* 세종특별자치시는 2020년부터 영업 중단의 사례가 없다. <br>그에 반해 신규 유입은 2021년에 최고치를 달성했고, 2022년에도 2021년 이전 기록 중 최고치에 달하는 수치를 보인다."
   ]
  },
  {
   "cell_type": "markdown",
   "id": "4a812378",
   "metadata": {},
   "source": [
    "* 비록 2022년에 전년도 대비 신규 유입이 감소했지만, 헬스장의 순유입이 2020년을 기점으로 증가했기 때문에 가설은 증명된다."
   ]
  },
  {
   "cell_type": "markdown",
   "id": "437930e4",
   "metadata": {},
   "source": [
    "<h4> 경기도 </h4>"
   ]
  },
  {
   "cell_type": "markdown",
   "id": "698cf775",
   "metadata": {},
   "source": [
    "* 경기도는 전국과 비슷한 양상을 보인다. <br> 이는 서울특별시와 경기도의 인구가 전국 인구의 45%에 육박하기 때문이다."
   ]
  },
  {
   "cell_type": "markdown",
   "id": "86d5ea65",
   "metadata": {},
   "source": [
    "* 신규 유입의 경우, 2018년부터 가파르게 증가한다. 반면에 2020년부터 영업 중단 업장의 수가 점점 감소한다."
   ]
  },
  {
   "cell_type": "markdown",
   "id": "302b423c",
   "metadata": {},
   "source": [
    "* 따라서 헬스장의 순유입이 2020년을 기점으로 많은 폭으로 증가했기 때문에 가설은 증명된다."
   ]
  },
  {
   "cell_type": "markdown",
   "id": "b33b65e4",
   "metadata": {},
   "source": [
    "<h4> 강원도 </h4>"
   ]
  },
  {
   "cell_type": "markdown",
   "id": "280845bd",
   "metadata": {},
   "source": [
    "* 2020년에 신규 유입과 유출의 수치가 거의 비슷하다. (순유입이 0에 가깝다.) <br> 즉, 코로나의 여파로 인해 업계가 힘들었음을 의미한다."
   ]
  },
  {
   "cell_type": "markdown",
   "id": "78e7df4e",
   "metadata": {},
   "source": [
    "* 하지만 2021년과 2022년에 신규 유입은 큰 폭으로 증가했고, 영업 중단 수치는 감소했다. <br>즉, 2021년부터는 다시 활황임을 나타낸다."
   ]
  },
  {
   "cell_type": "markdown",
   "id": "d33b11ea",
   "metadata": {},
   "source": [
    "* 따라서 가설은 증명된다."
   ]
  },
  {
   "cell_type": "markdown",
   "id": "e241e6b7",
   "metadata": {},
   "source": [
    "<h4> 충청북도 </h4>"
   ]
  },
  {
   "cell_type": "markdown",
   "id": "8e684a34",
   "metadata": {},
   "source": [
    "* 충청북도의 유입과 유출은 들쑥날쑥한 모습을 보인다. "
   ]
  },
  {
   "cell_type": "markdown",
   "id": "19fab52d",
   "metadata": {},
   "source": [
    "* 유입은 2020년에 조금 주춤했지만, 다시금 큰 폭으로 증가했다. <br> 영업 중단의 경우는 역으로 2020년에 높은 수치를 나타냈지만, 2021년과 2022년에는 감소했다."
   ]
  },
  {
   "cell_type": "markdown",
   "id": "51019f86",
   "metadata": {},
   "source": [
    "* 따라서 코로나19 이후의 기간으로 미루어보면, 가설은 증명된다."
   ]
  },
  {
   "cell_type": "markdown",
   "id": "12fe7db1",
   "metadata": {},
   "source": [
    "<h4> 충청남도 </h4>"
   ]
  },
  {
   "cell_type": "markdown",
   "id": "86ee14b8",
   "metadata": {},
   "source": [
    "* 충청남도의 유입은 2018년을 기점으로 상승하는 추세를 보인다. "
   ]
  },
  {
   "cell_type": "markdown",
   "id": "dbf1d2cd",
   "metadata": {},
   "source": [
    "* 유출은 2020년에 최고치를 달성한 후에 급격히 감소했다. <br> 즉, 2020년에 업계에 일시적인 불황이 발생했지만 2021년부터는 헬스장의 순유입이 증가한 것을 알 수 있다."
   ]
  },
  {
   "cell_type": "markdown",
   "id": "574b9b45",
   "metadata": {},
   "source": [
    "* 따라서 가설은 증명된다. "
   ]
  },
  {
   "cell_type": "markdown",
   "id": "49c88fdf",
   "metadata": {},
   "source": [
    "<h4> 전라북도 </h4>"
   ]
  },
  {
   "cell_type": "markdown",
   "id": "abf5c039",
   "metadata": {},
   "source": [
    "* 전라북도의 유입은 2003년에 최고치를 달성하고 감소했다. <br> 이후 오르락내리락을 반복하며 서서히 증가했고, 2020년 ~ 2022년에는 2003년 수준에는 못 미치지만 서서히 증가했다. "
   ]
  },
  {
   "cell_type": "markdown",
   "id": "327aa487",
   "metadata": {},
   "source": [
    "* 반면에 2020년 이후 유출은 코로나19 이전의 수준을 유지하며, 유입의 절반 수준을 하회했다."
   ]
  },
  {
   "cell_type": "markdown",
   "id": "24135ce1",
   "metadata": {},
   "source": [
    "* 순유입은 비교적 작은 상승폭이지만 증가했다. 따라서 가설은 증명된다."
   ]
  },
  {
   "cell_type": "markdown",
   "id": "4250749b",
   "metadata": {},
   "source": [
    "<h4> 전라남도 </h4>"
   ]
  },
  {
   "cell_type": "markdown",
   "id": "314950c4",
   "metadata": {},
   "source": [
    "* 2020년에는 유입이 전년도 대비 약 200% 증가하였으나, 유출이 유입과 비슷한 수준까지 치솟았다."
   ]
  },
  {
   "cell_type": "markdown",
   "id": "3e56474b",
   "metadata": {},
   "source": [
    "* 하지만 2021년에 유입은 더욱 상승하였고, 유출은 전년도 대비 30% 수준 아래로 떨어졌다. <br> 2022년에는 순유입이 조금 감소했지만, 여전히 큰 수치를 보이고 있다."
   ]
  },
  {
   "cell_type": "markdown",
   "id": "b7017767",
   "metadata": {},
   "source": [
    "* 따라서 가설은 증명된다."
   ]
  },
  {
   "cell_type": "markdown",
   "id": "1368c497",
   "metadata": {},
   "source": [
    "<h4> 경상북도 </h4>"
   ]
  },
  {
   "cell_type": "markdown",
   "id": "575dbea8",
   "metadata": {},
   "source": [
    "* 경상북도는 2019년에 순유입이 0에 가까울 정도로 유출이 많았다."
   ]
  },
  {
   "cell_type": "markdown",
   "id": "ad6c2ab0",
   "metadata": {},
   "source": [
    "* 그런데 2020년을 기점으로 오히려 유입은 증가했고, 유출은 큰 폭으로 감소했다."
   ]
  },
  {
   "cell_type": "markdown",
   "id": "41af2ff7",
   "metadata": {},
   "source": [
    "* 따라서 코로나19 이후 헬스장의 순유입은 증가했으므로 가설은 증명된다."
   ]
  },
  {
   "cell_type": "markdown",
   "id": "dbe3b4c0",
   "metadata": {},
   "source": [
    "<h4> 경상남도 </h4>"
   ]
  },
  {
   "cell_type": "markdown",
   "id": "884f2ac9",
   "metadata": {},
   "source": [
    "* 경상남도는 2019년에 순유입이 음수였다. 유출이 유입을 상회했다."
   ]
  },
  {
   "cell_type": "markdown",
   "id": "4363566b",
   "metadata": {},
   "source": [
    "* 그런데 코로나19가 유행하기 시작한 2020년부터 거리두기 정책에도 불구하고 유입은 가파르게 증가했고, 유출은 급격히 감소했다."
   ]
  },
  {
   "cell_type": "markdown",
   "id": "10bb8b64",
   "metadata": {},
   "source": [
    "* 따라서 가설은 증명된다."
   ]
  },
  {
   "cell_type": "markdown",
   "id": "cc8d13ea",
   "metadata": {},
   "source": [
    "<h4> 제주특별자치도 </h4>"
   ]
  },
  {
   "cell_type": "markdown",
   "id": "1c5835dd",
   "metadata": {},
   "source": [
    "* 제주특별자치도는 2018년에 순유입이 0이었다. 이후 유입은 가파르게 성장했고, 유출은 서서히 감소했다."
   ]
  },
  {
   "cell_type": "markdown",
   "id": "09d57bb0",
   "metadata": {},
   "source": [
    "* 코로나19의 영향에도 불구하고 헬스장의 순유입은 지속적으로 증가했다. 따라서 가설은 검증된다."
   ]
  },
  {
   "cell_type": "markdown",
   "id": "6e5ac885",
   "metadata": {},
   "source": [
    "---"
   ]
  },
  {
   "cell_type": "markdown",
   "id": "62c738a1",
   "metadata": {},
   "source": [
    "> <h3>(7) 참고문헌: 위의 작업을 위하여 획득한 자료, 인터넷 정보, 논문, 도서 등을 나열함</h3>"
   ]
  },
  {
   "cell_type": "markdown",
   "id": "b4a8ebb8",
   "metadata": {},
   "source": [
    "<h4> 웹(인터넷 정보) </h4>"
   ]
  },
  {
   "cell_type": "markdown",
   "id": "d902939f",
   "metadata": {},
   "source": [
    "* w3schools,  \"Pandas Tutorial\" (https://www.w3schools.com/python/pandas/default.asp)"
   ]
  },
  {
   "cell_type": "markdown",
   "id": "11260f76",
   "metadata": {},
   "source": [
    "* w3schools,  \"Numpy Tutorial\" (https://www.w3schools.com/python/numpy/default.asp)"
   ]
  },
  {
   "cell_type": "markdown",
   "id": "03085f96",
   "metadata": {},
   "source": [
    "* stackoverflow, \"How do I read a large csv file with pandas?\"(https://stackoverflow.com/questions/25962114/how-do-i-read-a-large-csv-file-with-pandas)"
   ]
  },
  {
   "cell_type": "markdown",
   "id": "b8f9d74c",
   "metadata": {},
   "source": [
    "* DATAQUEST, \"Tutorial: Add a Column to a Pandas DataFrame Based on an If-Else Condition\" (https://www.dataquest.io/blog/tutorial-add-column-pandas-dataframe-based-on-if-else-condition/)"
   ]
  },
  {
   "cell_type": "markdown",
   "id": "2625b594",
   "metadata": {},
   "source": [
    "* stackoverflow, \"How to change the download location using python and selenium webdriver\"(https://stackoverflow.com/questions/52049929/how-to-change-the-download-location-using-python-and-selenium-webdriver)"
   ]
  },
  {
   "cell_type": "markdown",
   "id": "f3d1a662",
   "metadata": {},
   "source": [
    "* python.org, \"zipfile — ZIP 아카이브 작업\"(https://docs.python.org/ko/3/library/zipfile.html)"
   ]
  },
  {
   "cell_type": "markdown",
   "id": "2dee6d8f",
   "metadata": {},
   "source": [
    "* Data to Fish, \"5 ways to apply an IF condition in Pandas DataFrame\" (https://datatofish.com/if-condition-in-pandas-dataframe/)"
   ]
  },
  {
   "cell_type": "markdown",
   "id": "378e39e5",
   "metadata": {},
   "source": [
    "* stackoverflow, \"Pandas conditional creation of a series/dataframe column\" (https://stackoverflow.com/questions/19913659/pandas-conditional-creation-of-a-series-dataframe-column)"
   ]
  },
  {
   "cell_type": "markdown",
   "id": "3ed1046f",
   "metadata": {},
   "source": [
    "* pandas documentation, \"pandas.Series.str.contains\"(https://pandas.pydata.org/docs/reference/api/pandas.Series.str.contains.html)"
   ]
  },
  {
   "cell_type": "markdown",
   "id": "e3430f2c",
   "metadata": {},
   "source": [
    "* Real Python, pandas GroupBy: Your Guide to Grouping Data in Python(https://realpython.com/pandas-groupby/)"
   ]
  },
  {
   "cell_type": "markdown",
   "id": "2b4cfee2",
   "metadata": {},
   "source": [
    "* stackoverflow, How do you create different variable names while in a loop? (https://stackoverflow.com/questions/6181935/how-do-you-create-different-variable-names-while-in-a-loop)"
   ]
  },
  {
   "cell_type": "markdown",
   "id": "78430ea8",
   "metadata": {},
   "source": [
    "<h4>도서</h4>"
   ]
  },
  {
   "cell_type": "markdown",
   "id": "0c3e0d7b",
   "metadata": {},
   "source": [
    "* \"Do it! 점프 투 파이썬\", 박응용 지음 (ebook 활용)"
   ]
  },
  {
   "cell_type": "markdown",
   "id": "645b683c",
   "metadata": {},
   "source": [
    "* \"Do it! 데이터 분석을 위한 판다스 입문\", Chen, Daniel Y. 지음, 김영하 옮김 (ebook 활용)"
   ]
  },
  {
   "cell_type": "markdown",
   "id": "d7de7800",
   "metadata": {},
   "source": [
    "<h4>수업자료</h4>"
   ]
  },
  {
   "cell_type": "markdown",
   "id": "9b4e9a90",
   "metadata": {},
   "source": [
    "* WebPythonProgramming, Lecture_14_DataCollectionTypes.pdf"
   ]
  },
  {
   "cell_type": "markdown",
   "id": "96d664bc",
   "metadata": {},
   "source": [
    "* WebPythonProgramming, Lecture_15_Class.pdf"
   ]
  },
  {
   "cell_type": "markdown",
   "id": "36e177be",
   "metadata": {},
   "source": [
    "> <h3>(8) 별첨: (3)의 획득한 데이터 원본 </h3>"
   ]
  },
  {
   "cell_type": "markdown",
   "id": "ddc3d4a5",
   "metadata": {},
   "source": [
    "* 크롤링해서 파일을 가져오고 압축을 해제하는 과정에서 해당 최종보고서 파일이 있는 디렉토리에 생성된다.\n",
    "* fulldata_10_42_01_P_체력단련장업.csv "
   ]
  },
  {
   "cell_type": "code",
   "execution_count": 5,
   "id": "6044a861",
   "metadata": {},
   "outputs": [
    {
     "data": {
      "text/plain": [
       "'./fulldata_10_42_01_P_체력단련장업.csv'"
      ]
     },
     "execution_count": 5,
     "metadata": {},
     "output_type": "execute_result"
    }
   ],
   "source": [
    "#코드로 경로 나타내기\n",
    "'./fulldata_10_42_01_P_체력단련장업.csv'"
   ]
  },
  {
   "cell_type": "markdown",
   "id": "5ab2f4df",
   "metadata": {},
   "source": [
    "> <h3>(9) 별첨: (4)의 가공된 데이터 원본 </h3>"
   ]
  },
  {
   "cell_type": "markdown",
   "id": "94a5a120",
   "metadata": {},
   "source": [
    "* 전국 및 행정구역 단위로 가공한 데이터프레임을 행정구역에 따라 '국문행정구역명+영문행정구역명.csv'로 해당 최종보고서 파일이 있는 디렉토리에 생성했다. <br>ex. 전국+Korea.csv, 서울특별시+Seoul.csv"
   ]
  },
  {
   "cell_type": "code",
   "execution_count": 6,
   "id": "fff8019e",
   "metadata": {},
   "outputs": [
    {
     "data": {
      "text/plain": [
       "'./전국+Korea.csv'"
      ]
     },
     "execution_count": 6,
     "metadata": {},
     "output_type": "execute_result"
    }
   ],
   "source": [
    "#코드로 경로 나타내기\n",
    "'./전국+Korea.csv'"
   ]
  },
  {
   "cell_type": "markdown",
   "id": "06b9ca48",
   "metadata": {},
   "source": [
    "> <h3>(10) 별첨: (3)을 (4)로 변환하는 등의 작업을 위하여 본인이 직접 개발한 Python 소스코드 원본 </h3>"
   ]
  },
  {
   "cell_type": "code",
   "execution_count": 7,
   "id": "947e3846",
   "metadata": {},
   "outputs": [
    {
     "data": {
      "text/plain": [
       "'./2018100233_TermProject_SourceCode_Class.'"
      ]
     },
     "execution_count": 7,
     "metadata": {},
     "output_type": "execute_result"
    }
   ],
   "source": [
    "#코드로 경로 나타내기\n",
    "'./2018100233_TermProject_SourceCode_Class.'"
   ]
  }
 ],
 "metadata": {
  "kernelspec": {
   "display_name": "Python 3 (ipykernel)",
   "language": "python",
   "name": "python3"
  },
  "language_info": {
   "codemirror_mode": {
    "name": "ipython",
    "version": 3
   },
   "file_extension": ".py",
   "mimetype": "text/x-python",
   "name": "python",
   "nbconvert_exporter": "python",
   "pygments_lexer": "ipython3",
   "version": "3.9.12"
  }
 },
 "nbformat": 4,
 "nbformat_minor": 5
}
